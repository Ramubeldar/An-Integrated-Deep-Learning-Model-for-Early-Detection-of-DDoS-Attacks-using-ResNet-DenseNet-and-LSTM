{
  "cells": [
    {
      "cell_type": "code",
      "execution_count": 1,
      "metadata": {
        "id": "ouT8VRViV2rk"
      },
      "outputs": [],
      "source": [
        "import pandas as pd\n",
        "import numpy as np\n",
        "import matplotlib.pyplot as plt\n",
        "import joblib\n",
        "import sklearn\n",
        "from sklearn.preprocessing import MinMaxScaler\n",
        "from sklearn.ensemble import RandomForestClassifier\n",
        "from sklearn.model_selection import GridSearchCV, train_test_split\n",
        "# from sklearn.metrics import accuracy_score, classification_report, confusion_matrix, plot_confusion_matrix\n",
        "from sklearn.utils import class_weight\n",
        "\n",
        "RANDOM_STATE_SEED = 42\n",
        "from __future__ import print_function\n",
        "import numpy as np\n",
        "np.random.seed(1337)  # for reproducibility\n",
        "\n",
        "from keras.preprocessing import sequence\n",
        "from keras.models import Sequential\n",
        "from keras.layers import Dense, Dropout, Activation, Lambda\n",
        "from keras.layers import Embedding\n",
        "from keras.layers import Convolution1D,MaxPooling1D, Flatten\n",
        "from keras.datasets import imdb\n",
        "from keras import backend as K\n",
        "from sklearn.model_selection import train_test_split\n",
        "import pandas as pd\n",
        "from keras.utils.np_utils import to_categorical\n",
        "\n",
        "from sklearn.preprocessing import Normalizer\n",
        "from keras.models import Sequential\n",
        "from keras.layers import Convolution1D, Dense, Dropout, Flatten, MaxPooling1D\n",
        "from keras.utils import np_utils\n",
        "import numpy as np\n",
        "import h5py\n",
        "from keras import callbacks\n",
        "from keras.layers import LSTM, GRU, SimpleRNN\n",
        "from keras.callbacks import CSVLogger\n",
        "from keras.callbacks import ModelCheckpoint, EarlyStopping, ReduceLROnPlateau, CSVLogger"
      ]
    },
    {
      "cell_type": "code",
      "execution_count": 2,
      "metadata": {
        "id": "HI-l0wnhOdiA"
      },
      "outputs": [],
      "source": [
        "# from google.colab import drive\n",
        "# drive.mount('/content/drive')"
      ]
    },
    {
      "cell_type": "code",
      "execution_count": 3,
      "metadata": {
        "id": "hZbfvWcVGKDs"
      },
      "outputs": [],
      "source": [
        "import pandas as pd\n",
        "from sklearn.model_selection import train_test_split\n",
        "from sklearn.preprocessing import LabelEncoder\n",
        "from sklearn.model_selection import cross_val_score"
      ]
    },
    {
      "cell_type": "code",
      "execution_count": 4,
      "metadata": {
        "id": "oYATjDfwGOhz"
      },
      "outputs": [],
      "source": [
        "import numpy as np\n",
        "seed_value = 42   \n",
        "RANDOM_STATE_SEED=42    \n",
        "np.random.seed(seed_value)\n",
        "# 1. Set the `PYTHONHASHSEED` environment variable at a fixed value\n",
        "import os\n",
        "os.environ['PYTHONHASHSEED']=str(seed_value)\n",
        "# 2. Set the `python` built-in pseudo-random generator at a fixed value\n",
        "import random\n",
        "random.seed(seed_value)\n",
        "# 3. Set the `numpy` pseudo-random generator at a fixed value\n",
        "np.random.seed(seed_value)\n",
        "# 4. Set the `tensorflow` pseudo-random generator at a fixed value\n",
        "import tensorflow as tf\n",
        "tf.random.set_seed(seed_value)"
      ]
    },
    {
      "cell_type": "code",
      "execution_count": 5,
      "metadata": {
        "id": "c0Nzm-8lGQZv"
      },
      "outputs": [],
      "source": [
        "import pandas as pd\n",
        "from sklearn.model_selection import train_test_split\n",
        "from sklearn.preprocessing import LabelEncoder\n",
        "from sklearn.model_selection import cross_val_score"
      ]
    },
    {
      "cell_type": "code",
      "execution_count": 6,
      "metadata": {
        "id": "CSm7fdEc1g0A"
      },
      "outputs": [],
      "source": [
        "# read the data\n",
        "df_dataset = pd.read_csv(\"/content/drive/MyDrive/Dataset/02-14-2018.csv\")\n",
        "# /content/gdrive/MyDrive"
      ]
    },
    {
      "cell_type": "code",
      "execution_count": 7,
      "metadata": {
        "id": "JTxXhN46WQYQ"
      },
      "outputs": [],
      "source": [
        "dataset = df_dataset.values"
      ]
    },
    {
      "cell_type": "code",
      "execution_count": 8,
      "metadata": {
        "colab": {
          "base_uri": "https://localhost:8080/",
          "height": 713
        },
        "id": "rRypmp5yWUMH",
        "outputId": "589da262-eadd-46fb-8aba-101ad22b9ad4"
      },
      "outputs": [
        {
          "output_type": "execute_result",
          "data": {
            "text/plain": [
              "         Dst Port  Protocol            Timestamp  Flow Duration  Tot Fwd Pkts  \\\n",
              "0               0         0  14/02/2018 08:31:01      112641719             3   \n",
              "1               0         0  14/02/2018 08:33:50      112641466             3   \n",
              "2               0         0  14/02/2018 08:36:39      112638623             3   \n",
              "3              22         6  14/02/2018 08:40:13        6453966            15   \n",
              "4              22         6  14/02/2018 08:40:23        8804066            14   \n",
              "...           ...       ...                  ...            ...           ...   \n",
              "1048570        80         6  14/02/2018 10:53:23       10156986             5   \n",
              "1048571        80         6  14/02/2018 10:53:33            117             2   \n",
              "1048572        80         6  14/02/2018 10:53:28        5095331             3   \n",
              "1048573        80         6  14/02/2018 10:53:28        5235511             3   \n",
              "1048574       443         6  14/02/2018 10:53:28        5807256             6   \n",
              "\n",
              "         Tot Bwd Pkts  TotLen Fwd Pkts  TotLen Bwd Pkts  Fwd Pkt Len Max  \\\n",
              "0                   0                0                0                0   \n",
              "1                   0                0                0                0   \n",
              "2                   0                0                0                0   \n",
              "3                  10             1239             2273              744   \n",
              "4                  11             1143             2209              744   \n",
              "...               ...              ...              ...              ...   \n",
              "1048570             5             1089             1923              587   \n",
              "1048571             0                0                0                0   \n",
              "1048572             1                0                0                0   \n",
              "1048573             1                0                0                0   \n",
              "1048574             4              327              145              245   \n",
              "\n",
              "         Fwd Pkt Len Min  ...  Fwd Seg Size Min  Active Mean  Active Std  \\\n",
              "0                      0  ...                 0          0.0         0.0   \n",
              "1                      0  ...                 0          0.0         0.0   \n",
              "2                      0  ...                 0          0.0         0.0   \n",
              "3                      0  ...                32          0.0         0.0   \n",
              "4                      0  ...                32          0.0         0.0   \n",
              "...                  ...  ...               ...          ...         ...   \n",
              "1048570                0  ...                20          0.0         0.0   \n",
              "1048571                0  ...                20          0.0         0.0   \n",
              "1048572                0  ...                20          0.0         0.0   \n",
              "1048573                0  ...                20          0.0         0.0   \n",
              "1048574                0  ...                20     291569.0         0.0   \n",
              "\n",
              "         Active Max  Active Min   Idle Mean    Idle Std  Idle Max  Idle Min  \\\n",
              "0                 0           0  56320859.5  139.300036  56320958  56320761   \n",
              "1                 0           0  56320733.0  114.551299  56320814  56320652   \n",
              "2                 0           0  56319311.5  301.934596  56319525  56319098   \n",
              "3                 0           0         0.0    0.000000         0         0   \n",
              "4                 0           0         0.0    0.000000         0         0   \n",
              "...             ...         ...         ...         ...       ...       ...   \n",
              "1048570           0           0         0.0    0.000000         0         0   \n",
              "1048571           0           0         0.0    0.000000         0         0   \n",
              "1048572           0           0         0.0    0.000000         0         0   \n",
              "1048573           0           0         0.0    0.000000         0         0   \n",
              "1048574      291569      291569   5515650.0    0.000000   5515650   5515650   \n",
              "\n",
              "          Label  \n",
              "0        Benign  \n",
              "1        Benign  \n",
              "2        Benign  \n",
              "3        Benign  \n",
              "4        Benign  \n",
              "...         ...  \n",
              "1048570  Benign  \n",
              "1048571  Benign  \n",
              "1048572  Benign  \n",
              "1048573  Benign  \n",
              "1048574  Benign  \n",
              "\n",
              "[1048575 rows x 80 columns]"
            ],
            "text/html": [
              "\n",
              "  <div id=\"df-39fa01c3-c9c4-44df-aaad-fa797ca40d7d\">\n",
              "    <div class=\"colab-df-container\">\n",
              "      <div>\n",
              "<style scoped>\n",
              "    .dataframe tbody tr th:only-of-type {\n",
              "        vertical-align: middle;\n",
              "    }\n",
              "\n",
              "    .dataframe tbody tr th {\n",
              "        vertical-align: top;\n",
              "    }\n",
              "\n",
              "    .dataframe thead th {\n",
              "        text-align: right;\n",
              "    }\n",
              "</style>\n",
              "<table border=\"1\" class=\"dataframe\">\n",
              "  <thead>\n",
              "    <tr style=\"text-align: right;\">\n",
              "      <th></th>\n",
              "      <th>Dst Port</th>\n",
              "      <th>Protocol</th>\n",
              "      <th>Timestamp</th>\n",
              "      <th>Flow Duration</th>\n",
              "      <th>Tot Fwd Pkts</th>\n",
              "      <th>Tot Bwd Pkts</th>\n",
              "      <th>TotLen Fwd Pkts</th>\n",
              "      <th>TotLen Bwd Pkts</th>\n",
              "      <th>Fwd Pkt Len Max</th>\n",
              "      <th>Fwd Pkt Len Min</th>\n",
              "      <th>...</th>\n",
              "      <th>Fwd Seg Size Min</th>\n",
              "      <th>Active Mean</th>\n",
              "      <th>Active Std</th>\n",
              "      <th>Active Max</th>\n",
              "      <th>Active Min</th>\n",
              "      <th>Idle Mean</th>\n",
              "      <th>Idle Std</th>\n",
              "      <th>Idle Max</th>\n",
              "      <th>Idle Min</th>\n",
              "      <th>Label</th>\n",
              "    </tr>\n",
              "  </thead>\n",
              "  <tbody>\n",
              "    <tr>\n",
              "      <th>0</th>\n",
              "      <td>0</td>\n",
              "      <td>0</td>\n",
              "      <td>14/02/2018 08:31:01</td>\n",
              "      <td>112641719</td>\n",
              "      <td>3</td>\n",
              "      <td>0</td>\n",
              "      <td>0</td>\n",
              "      <td>0</td>\n",
              "      <td>0</td>\n",
              "      <td>0</td>\n",
              "      <td>...</td>\n",
              "      <td>0</td>\n",
              "      <td>0.0</td>\n",
              "      <td>0.0</td>\n",
              "      <td>0</td>\n",
              "      <td>0</td>\n",
              "      <td>56320859.5</td>\n",
              "      <td>139.300036</td>\n",
              "      <td>56320958</td>\n",
              "      <td>56320761</td>\n",
              "      <td>Benign</td>\n",
              "    </tr>\n",
              "    <tr>\n",
              "      <th>1</th>\n",
              "      <td>0</td>\n",
              "      <td>0</td>\n",
              "      <td>14/02/2018 08:33:50</td>\n",
              "      <td>112641466</td>\n",
              "      <td>3</td>\n",
              "      <td>0</td>\n",
              "      <td>0</td>\n",
              "      <td>0</td>\n",
              "      <td>0</td>\n",
              "      <td>0</td>\n",
              "      <td>...</td>\n",
              "      <td>0</td>\n",
              "      <td>0.0</td>\n",
              "      <td>0.0</td>\n",
              "      <td>0</td>\n",
              "      <td>0</td>\n",
              "      <td>56320733.0</td>\n",
              "      <td>114.551299</td>\n",
              "      <td>56320814</td>\n",
              "      <td>56320652</td>\n",
              "      <td>Benign</td>\n",
              "    </tr>\n",
              "    <tr>\n",
              "      <th>2</th>\n",
              "      <td>0</td>\n",
              "      <td>0</td>\n",
              "      <td>14/02/2018 08:36:39</td>\n",
              "      <td>112638623</td>\n",
              "      <td>3</td>\n",
              "      <td>0</td>\n",
              "      <td>0</td>\n",
              "      <td>0</td>\n",
              "      <td>0</td>\n",
              "      <td>0</td>\n",
              "      <td>...</td>\n",
              "      <td>0</td>\n",
              "      <td>0.0</td>\n",
              "      <td>0.0</td>\n",
              "      <td>0</td>\n",
              "      <td>0</td>\n",
              "      <td>56319311.5</td>\n",
              "      <td>301.934596</td>\n",
              "      <td>56319525</td>\n",
              "      <td>56319098</td>\n",
              "      <td>Benign</td>\n",
              "    </tr>\n",
              "    <tr>\n",
              "      <th>3</th>\n",
              "      <td>22</td>\n",
              "      <td>6</td>\n",
              "      <td>14/02/2018 08:40:13</td>\n",
              "      <td>6453966</td>\n",
              "      <td>15</td>\n",
              "      <td>10</td>\n",
              "      <td>1239</td>\n",
              "      <td>2273</td>\n",
              "      <td>744</td>\n",
              "      <td>0</td>\n",
              "      <td>...</td>\n",
              "      <td>32</td>\n",
              "      <td>0.0</td>\n",
              "      <td>0.0</td>\n",
              "      <td>0</td>\n",
              "      <td>0</td>\n",
              "      <td>0.0</td>\n",
              "      <td>0.000000</td>\n",
              "      <td>0</td>\n",
              "      <td>0</td>\n",
              "      <td>Benign</td>\n",
              "    </tr>\n",
              "    <tr>\n",
              "      <th>4</th>\n",
              "      <td>22</td>\n",
              "      <td>6</td>\n",
              "      <td>14/02/2018 08:40:23</td>\n",
              "      <td>8804066</td>\n",
              "      <td>14</td>\n",
              "      <td>11</td>\n",
              "      <td>1143</td>\n",
              "      <td>2209</td>\n",
              "      <td>744</td>\n",
              "      <td>0</td>\n",
              "      <td>...</td>\n",
              "      <td>32</td>\n",
              "      <td>0.0</td>\n",
              "      <td>0.0</td>\n",
              "      <td>0</td>\n",
              "      <td>0</td>\n",
              "      <td>0.0</td>\n",
              "      <td>0.000000</td>\n",
              "      <td>0</td>\n",
              "      <td>0</td>\n",
              "      <td>Benign</td>\n",
              "    </tr>\n",
              "    <tr>\n",
              "      <th>...</th>\n",
              "      <td>...</td>\n",
              "      <td>...</td>\n",
              "      <td>...</td>\n",
              "      <td>...</td>\n",
              "      <td>...</td>\n",
              "      <td>...</td>\n",
              "      <td>...</td>\n",
              "      <td>...</td>\n",
              "      <td>...</td>\n",
              "      <td>...</td>\n",
              "      <td>...</td>\n",
              "      <td>...</td>\n",
              "      <td>...</td>\n",
              "      <td>...</td>\n",
              "      <td>...</td>\n",
              "      <td>...</td>\n",
              "      <td>...</td>\n",
              "      <td>...</td>\n",
              "      <td>...</td>\n",
              "      <td>...</td>\n",
              "      <td>...</td>\n",
              "    </tr>\n",
              "    <tr>\n",
              "      <th>1048570</th>\n",
              "      <td>80</td>\n",
              "      <td>6</td>\n",
              "      <td>14/02/2018 10:53:23</td>\n",
              "      <td>10156986</td>\n",
              "      <td>5</td>\n",
              "      <td>5</td>\n",
              "      <td>1089</td>\n",
              "      <td>1923</td>\n",
              "      <td>587</td>\n",
              "      <td>0</td>\n",
              "      <td>...</td>\n",
              "      <td>20</td>\n",
              "      <td>0.0</td>\n",
              "      <td>0.0</td>\n",
              "      <td>0</td>\n",
              "      <td>0</td>\n",
              "      <td>0.0</td>\n",
              "      <td>0.000000</td>\n",
              "      <td>0</td>\n",
              "      <td>0</td>\n",
              "      <td>Benign</td>\n",
              "    </tr>\n",
              "    <tr>\n",
              "      <th>1048571</th>\n",
              "      <td>80</td>\n",
              "      <td>6</td>\n",
              "      <td>14/02/2018 10:53:33</td>\n",
              "      <td>117</td>\n",
              "      <td>2</td>\n",
              "      <td>0</td>\n",
              "      <td>0</td>\n",
              "      <td>0</td>\n",
              "      <td>0</td>\n",
              "      <td>0</td>\n",
              "      <td>...</td>\n",
              "      <td>20</td>\n",
              "      <td>0.0</td>\n",
              "      <td>0.0</td>\n",
              "      <td>0</td>\n",
              "      <td>0</td>\n",
              "      <td>0.0</td>\n",
              "      <td>0.000000</td>\n",
              "      <td>0</td>\n",
              "      <td>0</td>\n",
              "      <td>Benign</td>\n",
              "    </tr>\n",
              "    <tr>\n",
              "      <th>1048572</th>\n",
              "      <td>80</td>\n",
              "      <td>6</td>\n",
              "      <td>14/02/2018 10:53:28</td>\n",
              "      <td>5095331</td>\n",
              "      <td>3</td>\n",
              "      <td>1</td>\n",
              "      <td>0</td>\n",
              "      <td>0</td>\n",
              "      <td>0</td>\n",
              "      <td>0</td>\n",
              "      <td>...</td>\n",
              "      <td>20</td>\n",
              "      <td>0.0</td>\n",
              "      <td>0.0</td>\n",
              "      <td>0</td>\n",
              "      <td>0</td>\n",
              "      <td>0.0</td>\n",
              "      <td>0.000000</td>\n",
              "      <td>0</td>\n",
              "      <td>0</td>\n",
              "      <td>Benign</td>\n",
              "    </tr>\n",
              "    <tr>\n",
              "      <th>1048573</th>\n",
              "      <td>80</td>\n",
              "      <td>6</td>\n",
              "      <td>14/02/2018 10:53:28</td>\n",
              "      <td>5235511</td>\n",
              "      <td>3</td>\n",
              "      <td>1</td>\n",
              "      <td>0</td>\n",
              "      <td>0</td>\n",
              "      <td>0</td>\n",
              "      <td>0</td>\n",
              "      <td>...</td>\n",
              "      <td>20</td>\n",
              "      <td>0.0</td>\n",
              "      <td>0.0</td>\n",
              "      <td>0</td>\n",
              "      <td>0</td>\n",
              "      <td>0.0</td>\n",
              "      <td>0.000000</td>\n",
              "      <td>0</td>\n",
              "      <td>0</td>\n",
              "      <td>Benign</td>\n",
              "    </tr>\n",
              "    <tr>\n",
              "      <th>1048574</th>\n",
              "      <td>443</td>\n",
              "      <td>6</td>\n",
              "      <td>14/02/2018 10:53:28</td>\n",
              "      <td>5807256</td>\n",
              "      <td>6</td>\n",
              "      <td>4</td>\n",
              "      <td>327</td>\n",
              "      <td>145</td>\n",
              "      <td>245</td>\n",
              "      <td>0</td>\n",
              "      <td>...</td>\n",
              "      <td>20</td>\n",
              "      <td>291569.0</td>\n",
              "      <td>0.0</td>\n",
              "      <td>291569</td>\n",
              "      <td>291569</td>\n",
              "      <td>5515650.0</td>\n",
              "      <td>0.000000</td>\n",
              "      <td>5515650</td>\n",
              "      <td>5515650</td>\n",
              "      <td>Benign</td>\n",
              "    </tr>\n",
              "  </tbody>\n",
              "</table>\n",
              "<p>1048575 rows × 80 columns</p>\n",
              "</div>\n",
              "      <button class=\"colab-df-convert\" onclick=\"convertToInteractive('df-39fa01c3-c9c4-44df-aaad-fa797ca40d7d')\"\n",
              "              title=\"Convert this dataframe to an interactive table.\"\n",
              "              style=\"display:none;\">\n",
              "        \n",
              "  <svg xmlns=\"http://www.w3.org/2000/svg\" height=\"24px\"viewBox=\"0 0 24 24\"\n",
              "       width=\"24px\">\n",
              "    <path d=\"M0 0h24v24H0V0z\" fill=\"none\"/>\n",
              "    <path d=\"M18.56 5.44l.94 2.06.94-2.06 2.06-.94-2.06-.94-.94-2.06-.94 2.06-2.06.94zm-11 1L8.5 8.5l.94-2.06 2.06-.94-2.06-.94L8.5 2.5l-.94 2.06-2.06.94zm10 10l.94 2.06.94-2.06 2.06-.94-2.06-.94-.94-2.06-.94 2.06-2.06.94z\"/><path d=\"M17.41 7.96l-1.37-1.37c-.4-.4-.92-.59-1.43-.59-.52 0-1.04.2-1.43.59L10.3 9.45l-7.72 7.72c-.78.78-.78 2.05 0 2.83L4 21.41c.39.39.9.59 1.41.59.51 0 1.02-.2 1.41-.59l7.78-7.78 2.81-2.81c.8-.78.8-2.07 0-2.86zM5.41 20L4 18.59l7.72-7.72 1.47 1.35L5.41 20z\"/>\n",
              "  </svg>\n",
              "      </button>\n",
              "      \n",
              "  <style>\n",
              "    .colab-df-container {\n",
              "      display:flex;\n",
              "      flex-wrap:wrap;\n",
              "      gap: 12px;\n",
              "    }\n",
              "\n",
              "    .colab-df-convert {\n",
              "      background-color: #E8F0FE;\n",
              "      border: none;\n",
              "      border-radius: 50%;\n",
              "      cursor: pointer;\n",
              "      display: none;\n",
              "      fill: #1967D2;\n",
              "      height: 32px;\n",
              "      padding: 0 0 0 0;\n",
              "      width: 32px;\n",
              "    }\n",
              "\n",
              "    .colab-df-convert:hover {\n",
              "      background-color: #E2EBFA;\n",
              "      box-shadow: 0px 1px 2px rgba(60, 64, 67, 0.3), 0px 1px 3px 1px rgba(60, 64, 67, 0.15);\n",
              "      fill: #174EA6;\n",
              "    }\n",
              "\n",
              "    [theme=dark] .colab-df-convert {\n",
              "      background-color: #3B4455;\n",
              "      fill: #D2E3FC;\n",
              "    }\n",
              "\n",
              "    [theme=dark] .colab-df-convert:hover {\n",
              "      background-color: #434B5C;\n",
              "      box-shadow: 0px 1px 3px 1px rgba(0, 0, 0, 0.15);\n",
              "      filter: drop-shadow(0px 1px 2px rgba(0, 0, 0, 0.3));\n",
              "      fill: #FFFFFF;\n",
              "    }\n",
              "  </style>\n",
              "\n",
              "      <script>\n",
              "        const buttonEl =\n",
              "          document.querySelector('#df-39fa01c3-c9c4-44df-aaad-fa797ca40d7d button.colab-df-convert');\n",
              "        buttonEl.style.display =\n",
              "          google.colab.kernel.accessAllowed ? 'block' : 'none';\n",
              "\n",
              "        async function convertToInteractive(key) {\n",
              "          const element = document.querySelector('#df-39fa01c3-c9c4-44df-aaad-fa797ca40d7d');\n",
              "          const dataTable =\n",
              "            await google.colab.kernel.invokeFunction('convertToInteractive',\n",
              "                                                     [key], {});\n",
              "          if (!dataTable) return;\n",
              "\n",
              "          const docLinkHtml = 'Like what you see? Visit the ' +\n",
              "            '<a target=\"_blank\" href=https://colab.research.google.com/notebooks/data_table.ipynb>data table notebook</a>'\n",
              "            + ' to learn more about interactive tables.';\n",
              "          element.innerHTML = '';\n",
              "          dataTable['output_type'] = 'display_data';\n",
              "          await google.colab.output.renderOutput(dataTable, element);\n",
              "          const docLink = document.createElement('div');\n",
              "          docLink.innerHTML = docLinkHtml;\n",
              "          element.appendChild(docLink);\n",
              "        }\n",
              "      </script>\n",
              "    </div>\n",
              "  </div>\n",
              "  "
            ]
          },
          "metadata": {},
          "execution_count": 8
        }
      ],
      "source": [
        "# display data\n",
        "df_dataset"
      ]
    },
    {
      "cell_type": "code",
      "execution_count": 9,
      "metadata": {
        "colab": {
          "base_uri": "https://localhost:8080/"
        },
        "id": "R_KTUS3ZWWvz",
        "outputId": "5a53403d-d60f-44a6-d2df-d3024d99d0c2"
      },
      "outputs": [
        {
          "output_type": "stream",
          "name": "stdout",
          "text": [
            "<class 'pandas.core.frame.DataFrame'>\n",
            "RangeIndex: 1048575 entries, 0 to 1048574\n",
            "Data columns (total 80 columns):\n",
            " #   Column             Non-Null Count    Dtype  \n",
            "---  ------             --------------    -----  \n",
            " 0   Dst Port           1048575 non-null  int64  \n",
            " 1   Protocol           1048575 non-null  int64  \n",
            " 2   Timestamp          1048575 non-null  object \n",
            " 3   Flow Duration      1048575 non-null  int64  \n",
            " 4   Tot Fwd Pkts       1048575 non-null  int64  \n",
            " 5   Tot Bwd Pkts       1048575 non-null  int64  \n",
            " 6   TotLen Fwd Pkts    1048575 non-null  int64  \n",
            " 7   TotLen Bwd Pkts    1048575 non-null  int64  \n",
            " 8   Fwd Pkt Len Max    1048575 non-null  int64  \n",
            " 9   Fwd Pkt Len Min    1048575 non-null  int64  \n",
            " 10  Fwd Pkt Len Mean   1048575 non-null  float64\n",
            " 11  Fwd Pkt Len Std    1048575 non-null  float64\n",
            " 12  Bwd Pkt Len Max    1048575 non-null  int64  \n",
            " 13  Bwd Pkt Len Min    1048575 non-null  int64  \n",
            " 14  Bwd Pkt Len Mean   1048575 non-null  float64\n",
            " 15  Bwd Pkt Len Std    1048575 non-null  float64\n",
            " 16  Flow Byts/s        1046298 non-null  float64\n",
            " 17  Flow Pkts/s        1048575 non-null  float64\n",
            " 18  Flow IAT Mean      1048575 non-null  float64\n",
            " 19  Flow IAT Std       1048575 non-null  float64\n",
            " 20  Flow IAT Max       1048575 non-null  int64  \n",
            " 21  Flow IAT Min       1048575 non-null  int64  \n",
            " 22  Fwd IAT Tot        1048575 non-null  int64  \n",
            " 23  Fwd IAT Mean       1048575 non-null  float64\n",
            " 24  Fwd IAT Std        1048575 non-null  float64\n",
            " 25  Fwd IAT Max        1048575 non-null  int64  \n",
            " 26  Fwd IAT Min        1048575 non-null  int64  \n",
            " 27  Bwd IAT Tot        1048575 non-null  int64  \n",
            " 28  Bwd IAT Mean       1048575 non-null  float64\n",
            " 29  Bwd IAT Std        1048575 non-null  float64\n",
            " 30  Bwd IAT Max        1048575 non-null  int64  \n",
            " 31  Bwd IAT Min        1048575 non-null  int64  \n",
            " 32  Fwd PSH Flags      1048575 non-null  int64  \n",
            " 33  Bwd PSH Flags      1048575 non-null  int64  \n",
            " 34  Fwd URG Flags      1048575 non-null  int64  \n",
            " 35  Bwd URG Flags      1048575 non-null  int64  \n",
            " 36  Fwd Header Len     1048575 non-null  int64  \n",
            " 37  Bwd Header Len     1048575 non-null  int64  \n",
            " 38  Fwd Pkts/s         1048575 non-null  float64\n",
            " 39  Bwd Pkts/s         1048575 non-null  float64\n",
            " 40  Pkt Len Min        1048575 non-null  int64  \n",
            " 41  Pkt Len Max        1048575 non-null  int64  \n",
            " 42  Pkt Len Mean       1048575 non-null  float64\n",
            " 43  Pkt Len Std        1048575 non-null  float64\n",
            " 44  Pkt Len Var        1048575 non-null  float64\n",
            " 45  FIN Flag Cnt       1048575 non-null  int64  \n",
            " 46  SYN Flag Cnt       1048575 non-null  int64  \n",
            " 47  RST Flag Cnt       1048575 non-null  int64  \n",
            " 48  PSH Flag Cnt       1048575 non-null  int64  \n",
            " 49  ACK Flag Cnt       1048575 non-null  int64  \n",
            " 50  URG Flag Cnt       1048575 non-null  int64  \n",
            " 51  CWE Flag Count     1048575 non-null  int64  \n",
            " 52  ECE Flag Cnt       1048575 non-null  int64  \n",
            " 53  Down/Up Ratio      1048575 non-null  int64  \n",
            " 54  Pkt Size Avg       1048575 non-null  float64\n",
            " 55  Fwd Seg Size Avg   1048575 non-null  float64\n",
            " 56  Bwd Seg Size Avg   1048575 non-null  float64\n",
            " 57  Fwd Byts/b Avg     1048575 non-null  int64  \n",
            " 58  Fwd Pkts/b Avg     1048575 non-null  int64  \n",
            " 59  Fwd Blk Rate Avg   1048575 non-null  int64  \n",
            " 60  Bwd Byts/b Avg     1048575 non-null  int64  \n",
            " 61  Bwd Pkts/b Avg     1048575 non-null  int64  \n",
            " 62  Bwd Blk Rate Avg   1048575 non-null  int64  \n",
            " 63  Subflow Fwd Pkts   1048575 non-null  int64  \n",
            " 64  Subflow Fwd Byts   1048575 non-null  int64  \n",
            " 65  Subflow Bwd Pkts   1048575 non-null  int64  \n",
            " 66  Subflow Bwd Byts   1048575 non-null  int64  \n",
            " 67  Init Fwd Win Byts  1048575 non-null  int64  \n",
            " 68  Init Bwd Win Byts  1048575 non-null  int64  \n",
            " 69  Fwd Act Data Pkts  1048575 non-null  int64  \n",
            " 70  Fwd Seg Size Min   1048575 non-null  int64  \n",
            " 71  Active Mean        1048575 non-null  float64\n",
            " 72  Active Std         1048575 non-null  float64\n",
            " 73  Active Max         1048575 non-null  int64  \n",
            " 74  Active Min         1048575 non-null  int64  \n",
            " 75  Idle Mean          1048575 non-null  float64\n",
            " 76  Idle Std           1048575 non-null  float64\n",
            " 77  Idle Max           1048575 non-null  int64  \n",
            " 78  Idle Min           1048575 non-null  int64  \n",
            " 79  Label              1048575 non-null  object \n",
            "dtypes: float64(24), int64(54), object(2)\n",
            "memory usage: 640.0+ MB\n"
          ]
        }
      ],
      "source": [
        "# feature information\n",
        "df_dataset.info()"
      ]
    },
    {
      "cell_type": "code",
      "execution_count": 10,
      "metadata": {
        "id": "JY14ZrspWZST"
      },
      "outputs": [],
      "source": [
        "# replace +ve and -ve infinity with NaN\n",
        "import numpy as np\n",
        "df_dataset.replace([np.inf, -np.inf], np.nan, inplace=True)"
      ]
    },
    {
      "cell_type": "code",
      "execution_count": 11,
      "metadata": {
        "colab": {
          "base_uri": "https://localhost:8080/",
          "height": 411
        },
        "id": "QFvA60W-WcCc",
        "outputId": "ed2ae20a-367f-4802-f43d-0536a0ce050b"
      },
      "outputs": [
        {
          "output_type": "execute_result",
          "data": {
            "text/plain": [
              "           Dst Port      Protocol  Flow Duration  Tot Fwd Pkts  Tot Bwd Pkts  \\\n",
              "count  1.048575e+06  1.048575e+06   1.048575e+06  1.048575e+06  1.048575e+06   \n",
              "mean   4.876262e+03  8.107557e+00   6.255555e+06  6.206622e+00  7.211191e+00   \n",
              "std    1.444344e+04  4.460625e+00   1.260291e+09  4.447851e+01  1.048682e+02   \n",
              "min    0.000000e+00  0.000000e+00  -9.190110e+11  1.000000e+00  0.000000e+00   \n",
              "25%    2.200000e+01  6.000000e+00   7.000000e+00  1.000000e+00  1.000000e+00   \n",
              "50%    5.300000e+01  6.000000e+00   1.023000e+03  2.000000e+00  1.000000e+00   \n",
              "75%    4.430000e+02  6.000000e+00   4.066690e+05  7.000000e+00  6.000000e+00   \n",
              "max    6.553300e+04  1.700000e+01   1.200000e+08  5.115000e+03  9.198000e+03   \n",
              "\n",
              "       TotLen Fwd Pkts  TotLen Bwd Pkts  Fwd Pkt Len Max  Fwd Pkt Len Min  \\\n",
              "count     1.048575e+06     1.048575e+06     1.048575e+06     1.048575e+06   \n",
              "mean      4.479936e+02     4.521803e+03     1.745736e+02     8.389535e+00   \n",
              "std       1.573541e+04     1.515021e+05     2.876713e+02     1.948279e+01   \n",
              "min       0.000000e+00     0.000000e+00     0.000000e+00     0.000000e+00   \n",
              "25%       0.000000e+00     0.000000e+00     0.000000e+00     0.000000e+00   \n",
              "50%       3.600000e+01     5.500000e+01     3.400000e+01     0.000000e+00   \n",
              "75%       4.550000e+02     7.680000e+02     1.990000e+02     0.000000e+00   \n",
              "max       8.591554e+06     1.339773e+07     6.444000e+04     1.460000e+03   \n",
              "\n",
              "       Fwd Pkt Len Mean  ...  Fwd Act Data Pkts  Fwd Seg Size Min  \\\n",
              "count      1.048575e+06  ...       1.048575e+06      1.048575e+06   \n",
              "mean       3.879579e+01  ...       2.793536e+00      2.327970e+01   \n",
              "std        5.331882e+01  ...       5.557106e+00      1.106185e+01   \n",
              "min        0.000000e+00  ...       0.000000e+00      0.000000e+00   \n",
              "25%        0.000000e+00  ...       0.000000e+00      2.000000e+01   \n",
              "50%        2.566667e+01  ...       0.000000e+00      2.000000e+01   \n",
              "75%        5.550000e+01  ...       4.000000e+00      3.200000e+01   \n",
              "max        1.121703e+04  ...       1.031000e+03      4.800000e+01   \n",
              "\n",
              "        Active Mean    Active Std    Active Max    Active Min     Idle Mean  \\\n",
              "count  1.048575e+06  1.048575e+06  1.048575e+06  1.048575e+06  1.048575e+06   \n",
              "mean   5.152449e+04  2.136151e+04  8.789157e+04  3.995477e+04  3.101206e+06   \n",
              "std    5.815586e+05  2.186405e+05  7.395725e+05  5.602693e+05  5.414780e+08   \n",
              "min    0.000000e+00  0.000000e+00  0.000000e+00  0.000000e+00  0.000000e+00   \n",
              "25%    0.000000e+00  0.000000e+00  0.000000e+00  0.000000e+00  0.000000e+00   \n",
              "50%    0.000000e+00  0.000000e+00  0.000000e+00  0.000000e+00  0.000000e+00   \n",
              "75%    0.000000e+00  0.000000e+00  0.000000e+00  0.000000e+00  0.000000e+00   \n",
              "max    1.102401e+08  5.723446e+07  1.102401e+08  1.102401e+08  3.394503e+11   \n",
              "\n",
              "           Idle Std      Idle Max      Idle Min  \n",
              "count  1.048575e+06  1.048575e+06  1.048575e+06  \n",
              "mean   7.297218e+05  4.812391e+06  2.126920e+06  \n",
              "std    3.820031e+08  1.522117e+09  1.817013e+07  \n",
              "min    0.000000e+00  0.000000e+00  0.000000e+00  \n",
              "25%    0.000000e+00  0.000000e+00  0.000000e+00  \n",
              "50%    0.000000e+00  0.000000e+00  0.000000e+00  \n",
              "75%    0.000000e+00  0.000000e+00  0.000000e+00  \n",
              "max    2.432682e+11  9.797810e+11  1.260300e+10  \n",
              "\n",
              "[8 rows x 78 columns]"
            ],
            "text/html": [
              "\n",
              "  <div id=\"df-36e881ca-de19-47dd-99a3-3047157df3c0\">\n",
              "    <div class=\"colab-df-container\">\n",
              "      <div>\n",
              "<style scoped>\n",
              "    .dataframe tbody tr th:only-of-type {\n",
              "        vertical-align: middle;\n",
              "    }\n",
              "\n",
              "    .dataframe tbody tr th {\n",
              "        vertical-align: top;\n",
              "    }\n",
              "\n",
              "    .dataframe thead th {\n",
              "        text-align: right;\n",
              "    }\n",
              "</style>\n",
              "<table border=\"1\" class=\"dataframe\">\n",
              "  <thead>\n",
              "    <tr style=\"text-align: right;\">\n",
              "      <th></th>\n",
              "      <th>Dst Port</th>\n",
              "      <th>Protocol</th>\n",
              "      <th>Flow Duration</th>\n",
              "      <th>Tot Fwd Pkts</th>\n",
              "      <th>Tot Bwd Pkts</th>\n",
              "      <th>TotLen Fwd Pkts</th>\n",
              "      <th>TotLen Bwd Pkts</th>\n",
              "      <th>Fwd Pkt Len Max</th>\n",
              "      <th>Fwd Pkt Len Min</th>\n",
              "      <th>Fwd Pkt Len Mean</th>\n",
              "      <th>...</th>\n",
              "      <th>Fwd Act Data Pkts</th>\n",
              "      <th>Fwd Seg Size Min</th>\n",
              "      <th>Active Mean</th>\n",
              "      <th>Active Std</th>\n",
              "      <th>Active Max</th>\n",
              "      <th>Active Min</th>\n",
              "      <th>Idle Mean</th>\n",
              "      <th>Idle Std</th>\n",
              "      <th>Idle Max</th>\n",
              "      <th>Idle Min</th>\n",
              "    </tr>\n",
              "  </thead>\n",
              "  <tbody>\n",
              "    <tr>\n",
              "      <th>count</th>\n",
              "      <td>1.048575e+06</td>\n",
              "      <td>1.048575e+06</td>\n",
              "      <td>1.048575e+06</td>\n",
              "      <td>1.048575e+06</td>\n",
              "      <td>1.048575e+06</td>\n",
              "      <td>1.048575e+06</td>\n",
              "      <td>1.048575e+06</td>\n",
              "      <td>1.048575e+06</td>\n",
              "      <td>1.048575e+06</td>\n",
              "      <td>1.048575e+06</td>\n",
              "      <td>...</td>\n",
              "      <td>1.048575e+06</td>\n",
              "      <td>1.048575e+06</td>\n",
              "      <td>1.048575e+06</td>\n",
              "      <td>1.048575e+06</td>\n",
              "      <td>1.048575e+06</td>\n",
              "      <td>1.048575e+06</td>\n",
              "      <td>1.048575e+06</td>\n",
              "      <td>1.048575e+06</td>\n",
              "      <td>1.048575e+06</td>\n",
              "      <td>1.048575e+06</td>\n",
              "    </tr>\n",
              "    <tr>\n",
              "      <th>mean</th>\n",
              "      <td>4.876262e+03</td>\n",
              "      <td>8.107557e+00</td>\n",
              "      <td>6.255555e+06</td>\n",
              "      <td>6.206622e+00</td>\n",
              "      <td>7.211191e+00</td>\n",
              "      <td>4.479936e+02</td>\n",
              "      <td>4.521803e+03</td>\n",
              "      <td>1.745736e+02</td>\n",
              "      <td>8.389535e+00</td>\n",
              "      <td>3.879579e+01</td>\n",
              "      <td>...</td>\n",
              "      <td>2.793536e+00</td>\n",
              "      <td>2.327970e+01</td>\n",
              "      <td>5.152449e+04</td>\n",
              "      <td>2.136151e+04</td>\n",
              "      <td>8.789157e+04</td>\n",
              "      <td>3.995477e+04</td>\n",
              "      <td>3.101206e+06</td>\n",
              "      <td>7.297218e+05</td>\n",
              "      <td>4.812391e+06</td>\n",
              "      <td>2.126920e+06</td>\n",
              "    </tr>\n",
              "    <tr>\n",
              "      <th>std</th>\n",
              "      <td>1.444344e+04</td>\n",
              "      <td>4.460625e+00</td>\n",
              "      <td>1.260291e+09</td>\n",
              "      <td>4.447851e+01</td>\n",
              "      <td>1.048682e+02</td>\n",
              "      <td>1.573541e+04</td>\n",
              "      <td>1.515021e+05</td>\n",
              "      <td>2.876713e+02</td>\n",
              "      <td>1.948279e+01</td>\n",
              "      <td>5.331882e+01</td>\n",
              "      <td>...</td>\n",
              "      <td>5.557106e+00</td>\n",
              "      <td>1.106185e+01</td>\n",
              "      <td>5.815586e+05</td>\n",
              "      <td>2.186405e+05</td>\n",
              "      <td>7.395725e+05</td>\n",
              "      <td>5.602693e+05</td>\n",
              "      <td>5.414780e+08</td>\n",
              "      <td>3.820031e+08</td>\n",
              "      <td>1.522117e+09</td>\n",
              "      <td>1.817013e+07</td>\n",
              "    </tr>\n",
              "    <tr>\n",
              "      <th>min</th>\n",
              "      <td>0.000000e+00</td>\n",
              "      <td>0.000000e+00</td>\n",
              "      <td>-9.190110e+11</td>\n",
              "      <td>1.000000e+00</td>\n",
              "      <td>0.000000e+00</td>\n",
              "      <td>0.000000e+00</td>\n",
              "      <td>0.000000e+00</td>\n",
              "      <td>0.000000e+00</td>\n",
              "      <td>0.000000e+00</td>\n",
              "      <td>0.000000e+00</td>\n",
              "      <td>...</td>\n",
              "      <td>0.000000e+00</td>\n",
              "      <td>0.000000e+00</td>\n",
              "      <td>0.000000e+00</td>\n",
              "      <td>0.000000e+00</td>\n",
              "      <td>0.000000e+00</td>\n",
              "      <td>0.000000e+00</td>\n",
              "      <td>0.000000e+00</td>\n",
              "      <td>0.000000e+00</td>\n",
              "      <td>0.000000e+00</td>\n",
              "      <td>0.000000e+00</td>\n",
              "    </tr>\n",
              "    <tr>\n",
              "      <th>25%</th>\n",
              "      <td>2.200000e+01</td>\n",
              "      <td>6.000000e+00</td>\n",
              "      <td>7.000000e+00</td>\n",
              "      <td>1.000000e+00</td>\n",
              "      <td>1.000000e+00</td>\n",
              "      <td>0.000000e+00</td>\n",
              "      <td>0.000000e+00</td>\n",
              "      <td>0.000000e+00</td>\n",
              "      <td>0.000000e+00</td>\n",
              "      <td>0.000000e+00</td>\n",
              "      <td>...</td>\n",
              "      <td>0.000000e+00</td>\n",
              "      <td>2.000000e+01</td>\n",
              "      <td>0.000000e+00</td>\n",
              "      <td>0.000000e+00</td>\n",
              "      <td>0.000000e+00</td>\n",
              "      <td>0.000000e+00</td>\n",
              "      <td>0.000000e+00</td>\n",
              "      <td>0.000000e+00</td>\n",
              "      <td>0.000000e+00</td>\n",
              "      <td>0.000000e+00</td>\n",
              "    </tr>\n",
              "    <tr>\n",
              "      <th>50%</th>\n",
              "      <td>5.300000e+01</td>\n",
              "      <td>6.000000e+00</td>\n",
              "      <td>1.023000e+03</td>\n",
              "      <td>2.000000e+00</td>\n",
              "      <td>1.000000e+00</td>\n",
              "      <td>3.600000e+01</td>\n",
              "      <td>5.500000e+01</td>\n",
              "      <td>3.400000e+01</td>\n",
              "      <td>0.000000e+00</td>\n",
              "      <td>2.566667e+01</td>\n",
              "      <td>...</td>\n",
              "      <td>0.000000e+00</td>\n",
              "      <td>2.000000e+01</td>\n",
              "      <td>0.000000e+00</td>\n",
              "      <td>0.000000e+00</td>\n",
              "      <td>0.000000e+00</td>\n",
              "      <td>0.000000e+00</td>\n",
              "      <td>0.000000e+00</td>\n",
              "      <td>0.000000e+00</td>\n",
              "      <td>0.000000e+00</td>\n",
              "      <td>0.000000e+00</td>\n",
              "    </tr>\n",
              "    <tr>\n",
              "      <th>75%</th>\n",
              "      <td>4.430000e+02</td>\n",
              "      <td>6.000000e+00</td>\n",
              "      <td>4.066690e+05</td>\n",
              "      <td>7.000000e+00</td>\n",
              "      <td>6.000000e+00</td>\n",
              "      <td>4.550000e+02</td>\n",
              "      <td>7.680000e+02</td>\n",
              "      <td>1.990000e+02</td>\n",
              "      <td>0.000000e+00</td>\n",
              "      <td>5.550000e+01</td>\n",
              "      <td>...</td>\n",
              "      <td>4.000000e+00</td>\n",
              "      <td>3.200000e+01</td>\n",
              "      <td>0.000000e+00</td>\n",
              "      <td>0.000000e+00</td>\n",
              "      <td>0.000000e+00</td>\n",
              "      <td>0.000000e+00</td>\n",
              "      <td>0.000000e+00</td>\n",
              "      <td>0.000000e+00</td>\n",
              "      <td>0.000000e+00</td>\n",
              "      <td>0.000000e+00</td>\n",
              "    </tr>\n",
              "    <tr>\n",
              "      <th>max</th>\n",
              "      <td>6.553300e+04</td>\n",
              "      <td>1.700000e+01</td>\n",
              "      <td>1.200000e+08</td>\n",
              "      <td>5.115000e+03</td>\n",
              "      <td>9.198000e+03</td>\n",
              "      <td>8.591554e+06</td>\n",
              "      <td>1.339773e+07</td>\n",
              "      <td>6.444000e+04</td>\n",
              "      <td>1.460000e+03</td>\n",
              "      <td>1.121703e+04</td>\n",
              "      <td>...</td>\n",
              "      <td>1.031000e+03</td>\n",
              "      <td>4.800000e+01</td>\n",
              "      <td>1.102401e+08</td>\n",
              "      <td>5.723446e+07</td>\n",
              "      <td>1.102401e+08</td>\n",
              "      <td>1.102401e+08</td>\n",
              "      <td>3.394503e+11</td>\n",
              "      <td>2.432682e+11</td>\n",
              "      <td>9.797810e+11</td>\n",
              "      <td>1.260300e+10</td>\n",
              "    </tr>\n",
              "  </tbody>\n",
              "</table>\n",
              "<p>8 rows × 78 columns</p>\n",
              "</div>\n",
              "      <button class=\"colab-df-convert\" onclick=\"convertToInteractive('df-36e881ca-de19-47dd-99a3-3047157df3c0')\"\n",
              "              title=\"Convert this dataframe to an interactive table.\"\n",
              "              style=\"display:none;\">\n",
              "        \n",
              "  <svg xmlns=\"http://www.w3.org/2000/svg\" height=\"24px\"viewBox=\"0 0 24 24\"\n",
              "       width=\"24px\">\n",
              "    <path d=\"M0 0h24v24H0V0z\" fill=\"none\"/>\n",
              "    <path d=\"M18.56 5.44l.94 2.06.94-2.06 2.06-.94-2.06-.94-.94-2.06-.94 2.06-2.06.94zm-11 1L8.5 8.5l.94-2.06 2.06-.94-2.06-.94L8.5 2.5l-.94 2.06-2.06.94zm10 10l.94 2.06.94-2.06 2.06-.94-2.06-.94-.94-2.06-.94 2.06-2.06.94z\"/><path d=\"M17.41 7.96l-1.37-1.37c-.4-.4-.92-.59-1.43-.59-.52 0-1.04.2-1.43.59L10.3 9.45l-7.72 7.72c-.78.78-.78 2.05 0 2.83L4 21.41c.39.39.9.59 1.41.59.51 0 1.02-.2 1.41-.59l7.78-7.78 2.81-2.81c.8-.78.8-2.07 0-2.86zM5.41 20L4 18.59l7.72-7.72 1.47 1.35L5.41 20z\"/>\n",
              "  </svg>\n",
              "      </button>\n",
              "      \n",
              "  <style>\n",
              "    .colab-df-container {\n",
              "      display:flex;\n",
              "      flex-wrap:wrap;\n",
              "      gap: 12px;\n",
              "    }\n",
              "\n",
              "    .colab-df-convert {\n",
              "      background-color: #E8F0FE;\n",
              "      border: none;\n",
              "      border-radius: 50%;\n",
              "      cursor: pointer;\n",
              "      display: none;\n",
              "      fill: #1967D2;\n",
              "      height: 32px;\n",
              "      padding: 0 0 0 0;\n",
              "      width: 32px;\n",
              "    }\n",
              "\n",
              "    .colab-df-convert:hover {\n",
              "      background-color: #E2EBFA;\n",
              "      box-shadow: 0px 1px 2px rgba(60, 64, 67, 0.3), 0px 1px 3px 1px rgba(60, 64, 67, 0.15);\n",
              "      fill: #174EA6;\n",
              "    }\n",
              "\n",
              "    [theme=dark] .colab-df-convert {\n",
              "      background-color: #3B4455;\n",
              "      fill: #D2E3FC;\n",
              "    }\n",
              "\n",
              "    [theme=dark] .colab-df-convert:hover {\n",
              "      background-color: #434B5C;\n",
              "      box-shadow: 0px 1px 3px 1px rgba(0, 0, 0, 0.15);\n",
              "      filter: drop-shadow(0px 1px 2px rgba(0, 0, 0, 0.3));\n",
              "      fill: #FFFFFF;\n",
              "    }\n",
              "  </style>\n",
              "\n",
              "      <script>\n",
              "        const buttonEl =\n",
              "          document.querySelector('#df-36e881ca-de19-47dd-99a3-3047157df3c0 button.colab-df-convert');\n",
              "        buttonEl.style.display =\n",
              "          google.colab.kernel.accessAllowed ? 'block' : 'none';\n",
              "\n",
              "        async function convertToInteractive(key) {\n",
              "          const element = document.querySelector('#df-36e881ca-de19-47dd-99a3-3047157df3c0');\n",
              "          const dataTable =\n",
              "            await google.colab.kernel.invokeFunction('convertToInteractive',\n",
              "                                                     [key], {});\n",
              "          if (!dataTable) return;\n",
              "\n",
              "          const docLinkHtml = 'Like what you see? Visit the ' +\n",
              "            '<a target=\"_blank\" href=https://colab.research.google.com/notebooks/data_table.ipynb>data table notebook</a>'\n",
              "            + ' to learn more about interactive tables.';\n",
              "          element.innerHTML = '';\n",
              "          dataTable['output_type'] = 'display_data';\n",
              "          await google.colab.output.renderOutput(dataTable, element);\n",
              "          const docLink = document.createElement('div');\n",
              "          docLink.innerHTML = docLinkHtml;\n",
              "          element.appendChild(docLink);\n",
              "        }\n",
              "      </script>\n",
              "    </div>\n",
              "  </div>\n",
              "  "
            ]
          },
          "metadata": {},
          "execution_count": 11
        }
      ],
      "source": [
        "df_dataset.describe()"
      ]
    },
    {
      "cell_type": "code",
      "execution_count": 12,
      "metadata": {
        "id": "F7Moalk0Weh1"
      },
      "outputs": [],
      "source": [
        "# drop missing values\n",
        "df_dataset.dropna(inplace=True)"
      ]
    },
    {
      "cell_type": "code",
      "execution_count": 13,
      "metadata": {
        "colab": {
          "base_uri": "https://localhost:8080/",
          "height": 713
        },
        "id": "Ulnenpa5Wg_s",
        "outputId": "66915925-4b1e-403b-ead7-344f0a4aace8"
      },
      "outputs": [
        {
          "output_type": "execute_result",
          "data": {
            "text/plain": [
              "         Dst Port  Protocol            Timestamp  Flow Duration  Tot Fwd Pkts  \\\n",
              "0               0         0  14/02/2018 08:31:01      112641719             3   \n",
              "1               0         0  14/02/2018 08:33:50      112641466             3   \n",
              "2               0         0  14/02/2018 08:36:39      112638623             3   \n",
              "3              22         6  14/02/2018 08:40:13        6453966            15   \n",
              "4              22         6  14/02/2018 08:40:23        8804066            14   \n",
              "...           ...       ...                  ...            ...           ...   \n",
              "1048570        80         6  14/02/2018 10:53:23       10156986             5   \n",
              "1048571        80         6  14/02/2018 10:53:33            117             2   \n",
              "1048572        80         6  14/02/2018 10:53:28        5095331             3   \n",
              "1048573        80         6  14/02/2018 10:53:28        5235511             3   \n",
              "1048574       443         6  14/02/2018 10:53:28        5807256             6   \n",
              "\n",
              "         Tot Bwd Pkts  TotLen Fwd Pkts  TotLen Bwd Pkts  Fwd Pkt Len Max  \\\n",
              "0                   0                0                0                0   \n",
              "1                   0                0                0                0   \n",
              "2                   0                0                0                0   \n",
              "3                  10             1239             2273              744   \n",
              "4                  11             1143             2209              744   \n",
              "...               ...              ...              ...              ...   \n",
              "1048570             5             1089             1923              587   \n",
              "1048571             0                0                0                0   \n",
              "1048572             1                0                0                0   \n",
              "1048573             1                0                0                0   \n",
              "1048574             4              327              145              245   \n",
              "\n",
              "         Fwd Pkt Len Min  ...  Fwd Seg Size Min  Active Mean  Active Std  \\\n",
              "0                      0  ...                 0          0.0         0.0   \n",
              "1                      0  ...                 0          0.0         0.0   \n",
              "2                      0  ...                 0          0.0         0.0   \n",
              "3                      0  ...                32          0.0         0.0   \n",
              "4                      0  ...                32          0.0         0.0   \n",
              "...                  ...  ...               ...          ...         ...   \n",
              "1048570                0  ...                20          0.0         0.0   \n",
              "1048571                0  ...                20          0.0         0.0   \n",
              "1048572                0  ...                20          0.0         0.0   \n",
              "1048573                0  ...                20          0.0         0.0   \n",
              "1048574                0  ...                20     291569.0         0.0   \n",
              "\n",
              "         Active Max  Active Min   Idle Mean    Idle Std  Idle Max  Idle Min  \\\n",
              "0                 0           0  56320859.5  139.300036  56320958  56320761   \n",
              "1                 0           0  56320733.0  114.551299  56320814  56320652   \n",
              "2                 0           0  56319311.5  301.934596  56319525  56319098   \n",
              "3                 0           0         0.0    0.000000         0         0   \n",
              "4                 0           0         0.0    0.000000         0         0   \n",
              "...             ...         ...         ...         ...       ...       ...   \n",
              "1048570           0           0         0.0    0.000000         0         0   \n",
              "1048571           0           0         0.0    0.000000         0         0   \n",
              "1048572           0           0         0.0    0.000000         0         0   \n",
              "1048573           0           0         0.0    0.000000         0         0   \n",
              "1048574      291569      291569   5515650.0    0.000000   5515650   5515650   \n",
              "\n",
              "          Label  \n",
              "0        Benign  \n",
              "1        Benign  \n",
              "2        Benign  \n",
              "3        Benign  \n",
              "4        Benign  \n",
              "...         ...  \n",
              "1048570  Benign  \n",
              "1048571  Benign  \n",
              "1048572  Benign  \n",
              "1048573  Benign  \n",
              "1048574  Benign  \n",
              "\n",
              "[1044751 rows x 80 columns]"
            ],
            "text/html": [
              "\n",
              "  <div id=\"df-060b69ae-2b73-4531-a3a8-f9a23781b615\">\n",
              "    <div class=\"colab-df-container\">\n",
              "      <div>\n",
              "<style scoped>\n",
              "    .dataframe tbody tr th:only-of-type {\n",
              "        vertical-align: middle;\n",
              "    }\n",
              "\n",
              "    .dataframe tbody tr th {\n",
              "        vertical-align: top;\n",
              "    }\n",
              "\n",
              "    .dataframe thead th {\n",
              "        text-align: right;\n",
              "    }\n",
              "</style>\n",
              "<table border=\"1\" class=\"dataframe\">\n",
              "  <thead>\n",
              "    <tr style=\"text-align: right;\">\n",
              "      <th></th>\n",
              "      <th>Dst Port</th>\n",
              "      <th>Protocol</th>\n",
              "      <th>Timestamp</th>\n",
              "      <th>Flow Duration</th>\n",
              "      <th>Tot Fwd Pkts</th>\n",
              "      <th>Tot Bwd Pkts</th>\n",
              "      <th>TotLen Fwd Pkts</th>\n",
              "      <th>TotLen Bwd Pkts</th>\n",
              "      <th>Fwd Pkt Len Max</th>\n",
              "      <th>Fwd Pkt Len Min</th>\n",
              "      <th>...</th>\n",
              "      <th>Fwd Seg Size Min</th>\n",
              "      <th>Active Mean</th>\n",
              "      <th>Active Std</th>\n",
              "      <th>Active Max</th>\n",
              "      <th>Active Min</th>\n",
              "      <th>Idle Mean</th>\n",
              "      <th>Idle Std</th>\n",
              "      <th>Idle Max</th>\n",
              "      <th>Idle Min</th>\n",
              "      <th>Label</th>\n",
              "    </tr>\n",
              "  </thead>\n",
              "  <tbody>\n",
              "    <tr>\n",
              "      <th>0</th>\n",
              "      <td>0</td>\n",
              "      <td>0</td>\n",
              "      <td>14/02/2018 08:31:01</td>\n",
              "      <td>112641719</td>\n",
              "      <td>3</td>\n",
              "      <td>0</td>\n",
              "      <td>0</td>\n",
              "      <td>0</td>\n",
              "      <td>0</td>\n",
              "      <td>0</td>\n",
              "      <td>...</td>\n",
              "      <td>0</td>\n",
              "      <td>0.0</td>\n",
              "      <td>0.0</td>\n",
              "      <td>0</td>\n",
              "      <td>0</td>\n",
              "      <td>56320859.5</td>\n",
              "      <td>139.300036</td>\n",
              "      <td>56320958</td>\n",
              "      <td>56320761</td>\n",
              "      <td>Benign</td>\n",
              "    </tr>\n",
              "    <tr>\n",
              "      <th>1</th>\n",
              "      <td>0</td>\n",
              "      <td>0</td>\n",
              "      <td>14/02/2018 08:33:50</td>\n",
              "      <td>112641466</td>\n",
              "      <td>3</td>\n",
              "      <td>0</td>\n",
              "      <td>0</td>\n",
              "      <td>0</td>\n",
              "      <td>0</td>\n",
              "      <td>0</td>\n",
              "      <td>...</td>\n",
              "      <td>0</td>\n",
              "      <td>0.0</td>\n",
              "      <td>0.0</td>\n",
              "      <td>0</td>\n",
              "      <td>0</td>\n",
              "      <td>56320733.0</td>\n",
              "      <td>114.551299</td>\n",
              "      <td>56320814</td>\n",
              "      <td>56320652</td>\n",
              "      <td>Benign</td>\n",
              "    </tr>\n",
              "    <tr>\n",
              "      <th>2</th>\n",
              "      <td>0</td>\n",
              "      <td>0</td>\n",
              "      <td>14/02/2018 08:36:39</td>\n",
              "      <td>112638623</td>\n",
              "      <td>3</td>\n",
              "      <td>0</td>\n",
              "      <td>0</td>\n",
              "      <td>0</td>\n",
              "      <td>0</td>\n",
              "      <td>0</td>\n",
              "      <td>...</td>\n",
              "      <td>0</td>\n",
              "      <td>0.0</td>\n",
              "      <td>0.0</td>\n",
              "      <td>0</td>\n",
              "      <td>0</td>\n",
              "      <td>56319311.5</td>\n",
              "      <td>301.934596</td>\n",
              "      <td>56319525</td>\n",
              "      <td>56319098</td>\n",
              "      <td>Benign</td>\n",
              "    </tr>\n",
              "    <tr>\n",
              "      <th>3</th>\n",
              "      <td>22</td>\n",
              "      <td>6</td>\n",
              "      <td>14/02/2018 08:40:13</td>\n",
              "      <td>6453966</td>\n",
              "      <td>15</td>\n",
              "      <td>10</td>\n",
              "      <td>1239</td>\n",
              "      <td>2273</td>\n",
              "      <td>744</td>\n",
              "      <td>0</td>\n",
              "      <td>...</td>\n",
              "      <td>32</td>\n",
              "      <td>0.0</td>\n",
              "      <td>0.0</td>\n",
              "      <td>0</td>\n",
              "      <td>0</td>\n",
              "      <td>0.0</td>\n",
              "      <td>0.000000</td>\n",
              "      <td>0</td>\n",
              "      <td>0</td>\n",
              "      <td>Benign</td>\n",
              "    </tr>\n",
              "    <tr>\n",
              "      <th>4</th>\n",
              "      <td>22</td>\n",
              "      <td>6</td>\n",
              "      <td>14/02/2018 08:40:23</td>\n",
              "      <td>8804066</td>\n",
              "      <td>14</td>\n",
              "      <td>11</td>\n",
              "      <td>1143</td>\n",
              "      <td>2209</td>\n",
              "      <td>744</td>\n",
              "      <td>0</td>\n",
              "      <td>...</td>\n",
              "      <td>32</td>\n",
              "      <td>0.0</td>\n",
              "      <td>0.0</td>\n",
              "      <td>0</td>\n",
              "      <td>0</td>\n",
              "      <td>0.0</td>\n",
              "      <td>0.000000</td>\n",
              "      <td>0</td>\n",
              "      <td>0</td>\n",
              "      <td>Benign</td>\n",
              "    </tr>\n",
              "    <tr>\n",
              "      <th>...</th>\n",
              "      <td>...</td>\n",
              "      <td>...</td>\n",
              "      <td>...</td>\n",
              "      <td>...</td>\n",
              "      <td>...</td>\n",
              "      <td>...</td>\n",
              "      <td>...</td>\n",
              "      <td>...</td>\n",
              "      <td>...</td>\n",
              "      <td>...</td>\n",
              "      <td>...</td>\n",
              "      <td>...</td>\n",
              "      <td>...</td>\n",
              "      <td>...</td>\n",
              "      <td>...</td>\n",
              "      <td>...</td>\n",
              "      <td>...</td>\n",
              "      <td>...</td>\n",
              "      <td>...</td>\n",
              "      <td>...</td>\n",
              "      <td>...</td>\n",
              "    </tr>\n",
              "    <tr>\n",
              "      <th>1048570</th>\n",
              "      <td>80</td>\n",
              "      <td>6</td>\n",
              "      <td>14/02/2018 10:53:23</td>\n",
              "      <td>10156986</td>\n",
              "      <td>5</td>\n",
              "      <td>5</td>\n",
              "      <td>1089</td>\n",
              "      <td>1923</td>\n",
              "      <td>587</td>\n",
              "      <td>0</td>\n",
              "      <td>...</td>\n",
              "      <td>20</td>\n",
              "      <td>0.0</td>\n",
              "      <td>0.0</td>\n",
              "      <td>0</td>\n",
              "      <td>0</td>\n",
              "      <td>0.0</td>\n",
              "      <td>0.000000</td>\n",
              "      <td>0</td>\n",
              "      <td>0</td>\n",
              "      <td>Benign</td>\n",
              "    </tr>\n",
              "    <tr>\n",
              "      <th>1048571</th>\n",
              "      <td>80</td>\n",
              "      <td>6</td>\n",
              "      <td>14/02/2018 10:53:33</td>\n",
              "      <td>117</td>\n",
              "      <td>2</td>\n",
              "      <td>0</td>\n",
              "      <td>0</td>\n",
              "      <td>0</td>\n",
              "      <td>0</td>\n",
              "      <td>0</td>\n",
              "      <td>...</td>\n",
              "      <td>20</td>\n",
              "      <td>0.0</td>\n",
              "      <td>0.0</td>\n",
              "      <td>0</td>\n",
              "      <td>0</td>\n",
              "      <td>0.0</td>\n",
              "      <td>0.000000</td>\n",
              "      <td>0</td>\n",
              "      <td>0</td>\n",
              "      <td>Benign</td>\n",
              "    </tr>\n",
              "    <tr>\n",
              "      <th>1048572</th>\n",
              "      <td>80</td>\n",
              "      <td>6</td>\n",
              "      <td>14/02/2018 10:53:28</td>\n",
              "      <td>5095331</td>\n",
              "      <td>3</td>\n",
              "      <td>1</td>\n",
              "      <td>0</td>\n",
              "      <td>0</td>\n",
              "      <td>0</td>\n",
              "      <td>0</td>\n",
              "      <td>...</td>\n",
              "      <td>20</td>\n",
              "      <td>0.0</td>\n",
              "      <td>0.0</td>\n",
              "      <td>0</td>\n",
              "      <td>0</td>\n",
              "      <td>0.0</td>\n",
              "      <td>0.000000</td>\n",
              "      <td>0</td>\n",
              "      <td>0</td>\n",
              "      <td>Benign</td>\n",
              "    </tr>\n",
              "    <tr>\n",
              "      <th>1048573</th>\n",
              "      <td>80</td>\n",
              "      <td>6</td>\n",
              "      <td>14/02/2018 10:53:28</td>\n",
              "      <td>5235511</td>\n",
              "      <td>3</td>\n",
              "      <td>1</td>\n",
              "      <td>0</td>\n",
              "      <td>0</td>\n",
              "      <td>0</td>\n",
              "      <td>0</td>\n",
              "      <td>...</td>\n",
              "      <td>20</td>\n",
              "      <td>0.0</td>\n",
              "      <td>0.0</td>\n",
              "      <td>0</td>\n",
              "      <td>0</td>\n",
              "      <td>0.0</td>\n",
              "      <td>0.000000</td>\n",
              "      <td>0</td>\n",
              "      <td>0</td>\n",
              "      <td>Benign</td>\n",
              "    </tr>\n",
              "    <tr>\n",
              "      <th>1048574</th>\n",
              "      <td>443</td>\n",
              "      <td>6</td>\n",
              "      <td>14/02/2018 10:53:28</td>\n",
              "      <td>5807256</td>\n",
              "      <td>6</td>\n",
              "      <td>4</td>\n",
              "      <td>327</td>\n",
              "      <td>145</td>\n",
              "      <td>245</td>\n",
              "      <td>0</td>\n",
              "      <td>...</td>\n",
              "      <td>20</td>\n",
              "      <td>291569.0</td>\n",
              "      <td>0.0</td>\n",
              "      <td>291569</td>\n",
              "      <td>291569</td>\n",
              "      <td>5515650.0</td>\n",
              "      <td>0.000000</td>\n",
              "      <td>5515650</td>\n",
              "      <td>5515650</td>\n",
              "      <td>Benign</td>\n",
              "    </tr>\n",
              "  </tbody>\n",
              "</table>\n",
              "<p>1044751 rows × 80 columns</p>\n",
              "</div>\n",
              "      <button class=\"colab-df-convert\" onclick=\"convertToInteractive('df-060b69ae-2b73-4531-a3a8-f9a23781b615')\"\n",
              "              title=\"Convert this dataframe to an interactive table.\"\n",
              "              style=\"display:none;\">\n",
              "        \n",
              "  <svg xmlns=\"http://www.w3.org/2000/svg\" height=\"24px\"viewBox=\"0 0 24 24\"\n",
              "       width=\"24px\">\n",
              "    <path d=\"M0 0h24v24H0V0z\" fill=\"none\"/>\n",
              "    <path d=\"M18.56 5.44l.94 2.06.94-2.06 2.06-.94-2.06-.94-.94-2.06-.94 2.06-2.06.94zm-11 1L8.5 8.5l.94-2.06 2.06-.94-2.06-.94L8.5 2.5l-.94 2.06-2.06.94zm10 10l.94 2.06.94-2.06 2.06-.94-2.06-.94-.94-2.06-.94 2.06-2.06.94z\"/><path d=\"M17.41 7.96l-1.37-1.37c-.4-.4-.92-.59-1.43-.59-.52 0-1.04.2-1.43.59L10.3 9.45l-7.72 7.72c-.78.78-.78 2.05 0 2.83L4 21.41c.39.39.9.59 1.41.59.51 0 1.02-.2 1.41-.59l7.78-7.78 2.81-2.81c.8-.78.8-2.07 0-2.86zM5.41 20L4 18.59l7.72-7.72 1.47 1.35L5.41 20z\"/>\n",
              "  </svg>\n",
              "      </button>\n",
              "      \n",
              "  <style>\n",
              "    .colab-df-container {\n",
              "      display:flex;\n",
              "      flex-wrap:wrap;\n",
              "      gap: 12px;\n",
              "    }\n",
              "\n",
              "    .colab-df-convert {\n",
              "      background-color: #E8F0FE;\n",
              "      border: none;\n",
              "      border-radius: 50%;\n",
              "      cursor: pointer;\n",
              "      display: none;\n",
              "      fill: #1967D2;\n",
              "      height: 32px;\n",
              "      padding: 0 0 0 0;\n",
              "      width: 32px;\n",
              "    }\n",
              "\n",
              "    .colab-df-convert:hover {\n",
              "      background-color: #E2EBFA;\n",
              "      box-shadow: 0px 1px 2px rgba(60, 64, 67, 0.3), 0px 1px 3px 1px rgba(60, 64, 67, 0.15);\n",
              "      fill: #174EA6;\n",
              "    }\n",
              "\n",
              "    [theme=dark] .colab-df-convert {\n",
              "      background-color: #3B4455;\n",
              "      fill: #D2E3FC;\n",
              "    }\n",
              "\n",
              "    [theme=dark] .colab-df-convert:hover {\n",
              "      background-color: #434B5C;\n",
              "      box-shadow: 0px 1px 3px 1px rgba(0, 0, 0, 0.15);\n",
              "      filter: drop-shadow(0px 1px 2px rgba(0, 0, 0, 0.3));\n",
              "      fill: #FFFFFF;\n",
              "    }\n",
              "  </style>\n",
              "\n",
              "      <script>\n",
              "        const buttonEl =\n",
              "          document.querySelector('#df-060b69ae-2b73-4531-a3a8-f9a23781b615 button.colab-df-convert');\n",
              "        buttonEl.style.display =\n",
              "          google.colab.kernel.accessAllowed ? 'block' : 'none';\n",
              "\n",
              "        async function convertToInteractive(key) {\n",
              "          const element = document.querySelector('#df-060b69ae-2b73-4531-a3a8-f9a23781b615');\n",
              "          const dataTable =\n",
              "            await google.colab.kernel.invokeFunction('convertToInteractive',\n",
              "                                                     [key], {});\n",
              "          if (!dataTable) return;\n",
              "\n",
              "          const docLinkHtml = 'Like what you see? Visit the ' +\n",
              "            '<a target=\"_blank\" href=https://colab.research.google.com/notebooks/data_table.ipynb>data table notebook</a>'\n",
              "            + ' to learn more about interactive tables.';\n",
              "          element.innerHTML = '';\n",
              "          dataTable['output_type'] = 'display_data';\n",
              "          await google.colab.output.renderOutput(dataTable, element);\n",
              "          const docLink = document.createElement('div');\n",
              "          docLink.innerHTML = docLinkHtml;\n",
              "          element.appendChild(docLink);\n",
              "        }\n",
              "      </script>\n",
              "    </div>\n",
              "  </div>\n",
              "  "
            ]
          },
          "metadata": {},
          "execution_count": 13
        }
      ],
      "source": [
        "df_dataset"
      ]
    },
    {
      "cell_type": "code",
      "execution_count": 14,
      "metadata": {
        "colab": {
          "base_uri": "https://localhost:8080/"
        },
        "id": "UlLVlICOWjuL",
        "outputId": "e51a89f1-dbcf-4451-b8a5-0aa694245c69"
      },
      "outputs": [
        {
          "output_type": "execute_result",
          "data": {
            "text/plain": [
              "Benign            663808\n",
              "FTP-BruteForce    193354\n",
              "SSH-Bruteforce    187589\n",
              "Name: Label, dtype: int64"
            ]
          },
          "metadata": {},
          "execution_count": 14
        }
      ],
      "source": [
        "df_dataset[\"Label\"].value_counts()"
      ]
    },
    {
      "cell_type": "code",
      "execution_count": 15,
      "metadata": {
        "id": "6BmNl-JjWmWr"
      },
      "outputs": [],
      "source": [
        "df = df_dataset"
      ]
    },
    {
      "cell_type": "code",
      "execution_count": 16,
      "metadata": {
        "colab": {
          "base_uri": "https://localhost:8080/",
          "height": 617
        },
        "id": "x55PVzWCWooy",
        "outputId": "d735bbde-d027-4edc-a734-1c6162686acc"
      },
      "outputs": [
        {
          "output_type": "display_data",
          "data": {
            "text/html": [
              "        <script type=\"text/javascript\">\n",
              "        window.PlotlyConfig = {MathJaxConfig: 'local'};\n",
              "        if (window.MathJax && window.MathJax.Hub && window.MathJax.Hub.Config) {window.MathJax.Hub.Config({SVG: {font: \"STIX-Web\"}});}\n",
              "        if (typeof require !== 'undefined') {\n",
              "        require.undef(\"plotly\");\n",
              "        requirejs.config({\n",
              "            paths: {\n",
              "                'plotly': ['https://cdn.plot.ly/plotly-2.18.2.min']\n",
              "            }\n",
              "        });\n",
              "        require(['plotly'], function(Plotly) {\n",
              "            window._Plotly = Plotly;\n",
              "        });\n",
              "        }\n",
              "        </script>\n",
              "        "
            ]
          },
          "metadata": {}
        },
        {
          "output_type": "display_data",
          "data": {
            "application/vnd.plotly.v1+json": {
              "data": [
                {
                  "name": "Benign",
                  "orientation": "v",
                  "text": [
                    663808
                  ],
                  "textposition": "outside",
                  "x": [
                    "Benign"
                  ],
                  "y": [
                    663808
                  ],
                  "type": "bar"
                },
                {
                  "name": "FTP-BruteForce",
                  "orientation": "v",
                  "text": [
                    193354
                  ],
                  "textposition": "outside",
                  "x": [
                    "FTP-BruteForce"
                  ],
                  "y": [
                    193354
                  ],
                  "type": "bar"
                },
                {
                  "name": "SSH-Bruteforce",
                  "orientation": "v",
                  "text": [
                    187589
                  ],
                  "textposition": "outside",
                  "x": [
                    "SSH-Bruteforce"
                  ],
                  "y": [
                    187589
                  ],
                  "type": "bar"
                }
              ],
              "layout": {
                "height": 600,
                "template": {
                  "data": {
                    "barpolar": [
                      {
                        "marker": {
                          "line": {
                            "color": "#E5ECF6",
                            "width": 0.5
                          },
                          "pattern": {
                            "fillmode": "overlay",
                            "size": 10,
                            "solidity": 0.2
                          }
                        },
                        "type": "barpolar"
                      }
                    ],
                    "bar": [
                      {
                        "error_x": {
                          "color": "#2a3f5f"
                        },
                        "error_y": {
                          "color": "#2a3f5f"
                        },
                        "marker": {
                          "line": {
                            "color": "#E5ECF6",
                            "width": 0.5
                          },
                          "pattern": {
                            "fillmode": "overlay",
                            "size": 10,
                            "solidity": 0.2
                          }
                        },
                        "type": "bar"
                      }
                    ],
                    "carpet": [
                      {
                        "aaxis": {
                          "endlinecolor": "#2a3f5f",
                          "gridcolor": "white",
                          "linecolor": "white",
                          "minorgridcolor": "white",
                          "startlinecolor": "#2a3f5f"
                        },
                        "baxis": {
                          "endlinecolor": "#2a3f5f",
                          "gridcolor": "white",
                          "linecolor": "white",
                          "minorgridcolor": "white",
                          "startlinecolor": "#2a3f5f"
                        },
                        "type": "carpet"
                      }
                    ],
                    "choropleth": [
                      {
                        "colorbar": {
                          "outlinewidth": 0,
                          "ticks": ""
                        },
                        "type": "choropleth"
                      }
                    ],
                    "contourcarpet": [
                      {
                        "colorbar": {
                          "outlinewidth": 0,
                          "ticks": ""
                        },
                        "type": "contourcarpet"
                      }
                    ],
                    "contour": [
                      {
                        "colorbar": {
                          "outlinewidth": 0,
                          "ticks": ""
                        },
                        "colorscale": [
                          [
                            0,
                            "#0d0887"
                          ],
                          [
                            0.1111111111111111,
                            "#46039f"
                          ],
                          [
                            0.2222222222222222,
                            "#7201a8"
                          ],
                          [
                            0.3333333333333333,
                            "#9c179e"
                          ],
                          [
                            0.4444444444444444,
                            "#bd3786"
                          ],
                          [
                            0.5555555555555556,
                            "#d8576b"
                          ],
                          [
                            0.6666666666666666,
                            "#ed7953"
                          ],
                          [
                            0.7777777777777778,
                            "#fb9f3a"
                          ],
                          [
                            0.8888888888888888,
                            "#fdca26"
                          ],
                          [
                            1,
                            "#f0f921"
                          ]
                        ],
                        "type": "contour"
                      }
                    ],
                    "heatmapgl": [
                      {
                        "colorbar": {
                          "outlinewidth": 0,
                          "ticks": ""
                        },
                        "colorscale": [
                          [
                            0,
                            "#0d0887"
                          ],
                          [
                            0.1111111111111111,
                            "#46039f"
                          ],
                          [
                            0.2222222222222222,
                            "#7201a8"
                          ],
                          [
                            0.3333333333333333,
                            "#9c179e"
                          ],
                          [
                            0.4444444444444444,
                            "#bd3786"
                          ],
                          [
                            0.5555555555555556,
                            "#d8576b"
                          ],
                          [
                            0.6666666666666666,
                            "#ed7953"
                          ],
                          [
                            0.7777777777777778,
                            "#fb9f3a"
                          ],
                          [
                            0.8888888888888888,
                            "#fdca26"
                          ],
                          [
                            1,
                            "#f0f921"
                          ]
                        ],
                        "type": "heatmapgl"
                      }
                    ],
                    "heatmap": [
                      {
                        "colorbar": {
                          "outlinewidth": 0,
                          "ticks": ""
                        },
                        "colorscale": [
                          [
                            0,
                            "#0d0887"
                          ],
                          [
                            0.1111111111111111,
                            "#46039f"
                          ],
                          [
                            0.2222222222222222,
                            "#7201a8"
                          ],
                          [
                            0.3333333333333333,
                            "#9c179e"
                          ],
                          [
                            0.4444444444444444,
                            "#bd3786"
                          ],
                          [
                            0.5555555555555556,
                            "#d8576b"
                          ],
                          [
                            0.6666666666666666,
                            "#ed7953"
                          ],
                          [
                            0.7777777777777778,
                            "#fb9f3a"
                          ],
                          [
                            0.8888888888888888,
                            "#fdca26"
                          ],
                          [
                            1,
                            "#f0f921"
                          ]
                        ],
                        "type": "heatmap"
                      }
                    ],
                    "histogram2dcontour": [
                      {
                        "colorbar": {
                          "outlinewidth": 0,
                          "ticks": ""
                        },
                        "colorscale": [
                          [
                            0,
                            "#0d0887"
                          ],
                          [
                            0.1111111111111111,
                            "#46039f"
                          ],
                          [
                            0.2222222222222222,
                            "#7201a8"
                          ],
                          [
                            0.3333333333333333,
                            "#9c179e"
                          ],
                          [
                            0.4444444444444444,
                            "#bd3786"
                          ],
                          [
                            0.5555555555555556,
                            "#d8576b"
                          ],
                          [
                            0.6666666666666666,
                            "#ed7953"
                          ],
                          [
                            0.7777777777777778,
                            "#fb9f3a"
                          ],
                          [
                            0.8888888888888888,
                            "#fdca26"
                          ],
                          [
                            1,
                            "#f0f921"
                          ]
                        ],
                        "type": "histogram2dcontour"
                      }
                    ],
                    "histogram2d": [
                      {
                        "colorbar": {
                          "outlinewidth": 0,
                          "ticks": ""
                        },
                        "colorscale": [
                          [
                            0,
                            "#0d0887"
                          ],
                          [
                            0.1111111111111111,
                            "#46039f"
                          ],
                          [
                            0.2222222222222222,
                            "#7201a8"
                          ],
                          [
                            0.3333333333333333,
                            "#9c179e"
                          ],
                          [
                            0.4444444444444444,
                            "#bd3786"
                          ],
                          [
                            0.5555555555555556,
                            "#d8576b"
                          ],
                          [
                            0.6666666666666666,
                            "#ed7953"
                          ],
                          [
                            0.7777777777777778,
                            "#fb9f3a"
                          ],
                          [
                            0.8888888888888888,
                            "#fdca26"
                          ],
                          [
                            1,
                            "#f0f921"
                          ]
                        ],
                        "type": "histogram2d"
                      }
                    ],
                    "histogram": [
                      {
                        "marker": {
                          "pattern": {
                            "fillmode": "overlay",
                            "size": 10,
                            "solidity": 0.2
                          }
                        },
                        "type": "histogram"
                      }
                    ],
                    "mesh3d": [
                      {
                        "colorbar": {
                          "outlinewidth": 0,
                          "ticks": ""
                        },
                        "type": "mesh3d"
                      }
                    ],
                    "parcoords": [
                      {
                        "line": {
                          "colorbar": {
                            "outlinewidth": 0,
                            "ticks": ""
                          }
                        },
                        "type": "parcoords"
                      }
                    ],
                    "pie": [
                      {
                        "automargin": true,
                        "type": "pie"
                      }
                    ],
                    "scatter3d": [
                      {
                        "line": {
                          "colorbar": {
                            "outlinewidth": 0,
                            "ticks": ""
                          }
                        },
                        "marker": {
                          "colorbar": {
                            "outlinewidth": 0,
                            "ticks": ""
                          }
                        },
                        "type": "scatter3d"
                      }
                    ],
                    "scattercarpet": [
                      {
                        "marker": {
                          "colorbar": {
                            "outlinewidth": 0,
                            "ticks": ""
                          }
                        },
                        "type": "scattercarpet"
                      }
                    ],
                    "scattergeo": [
                      {
                        "marker": {
                          "colorbar": {
                            "outlinewidth": 0,
                            "ticks": ""
                          }
                        },
                        "type": "scattergeo"
                      }
                    ],
                    "scattergl": [
                      {
                        "marker": {
                          "colorbar": {
                            "outlinewidth": 0,
                            "ticks": ""
                          }
                        },
                        "type": "scattergl"
                      }
                    ],
                    "scattermapbox": [
                      {
                        "marker": {
                          "colorbar": {
                            "outlinewidth": 0,
                            "ticks": ""
                          }
                        },
                        "type": "scattermapbox"
                      }
                    ],
                    "scatterpolargl": [
                      {
                        "marker": {
                          "colorbar": {
                            "outlinewidth": 0,
                            "ticks": ""
                          }
                        },
                        "type": "scatterpolargl"
                      }
                    ],
                    "scatterpolar": [
                      {
                        "marker": {
                          "colorbar": {
                            "outlinewidth": 0,
                            "ticks": ""
                          }
                        },
                        "type": "scatterpolar"
                      }
                    ],
                    "scatter": [
                      {
                        "fillpattern": {
                          "fillmode": "overlay",
                          "size": 10,
                          "solidity": 0.2
                        },
                        "type": "scatter"
                      }
                    ],
                    "scatterternary": [
                      {
                        "marker": {
                          "colorbar": {
                            "outlinewidth": 0,
                            "ticks": ""
                          }
                        },
                        "type": "scatterternary"
                      }
                    ],
                    "surface": [
                      {
                        "colorbar": {
                          "outlinewidth": 0,
                          "ticks": ""
                        },
                        "colorscale": [
                          [
                            0,
                            "#0d0887"
                          ],
                          [
                            0.1111111111111111,
                            "#46039f"
                          ],
                          [
                            0.2222222222222222,
                            "#7201a8"
                          ],
                          [
                            0.3333333333333333,
                            "#9c179e"
                          ],
                          [
                            0.4444444444444444,
                            "#bd3786"
                          ],
                          [
                            0.5555555555555556,
                            "#d8576b"
                          ],
                          [
                            0.6666666666666666,
                            "#ed7953"
                          ],
                          [
                            0.7777777777777778,
                            "#fb9f3a"
                          ],
                          [
                            0.8888888888888888,
                            "#fdca26"
                          ],
                          [
                            1,
                            "#f0f921"
                          ]
                        ],
                        "type": "surface"
                      }
                    ],
                    "table": [
                      {
                        "cells": {
                          "fill": {
                            "color": "#EBF0F8"
                          },
                          "line": {
                            "color": "white"
                          }
                        },
                        "header": {
                          "fill": {
                            "color": "#C8D4E3"
                          },
                          "line": {
                            "color": "white"
                          }
                        },
                        "type": "table"
                      }
                    ]
                  },
                  "layout": {
                    "annotationdefaults": {
                      "arrowcolor": "#2a3f5f",
                      "arrowhead": 0,
                      "arrowwidth": 1
                    },
                    "autotypenumbers": "strict",
                    "coloraxis": {
                      "colorbar": {
                        "outlinewidth": 0,
                        "ticks": ""
                      }
                    },
                    "colorscale": {
                      "diverging": [
                        [
                          0,
                          "#8e0152"
                        ],
                        [
                          0.1,
                          "#c51b7d"
                        ],
                        [
                          0.2,
                          "#de77ae"
                        ],
                        [
                          0.3,
                          "#f1b6da"
                        ],
                        [
                          0.4,
                          "#fde0ef"
                        ],
                        [
                          0.5,
                          "#f7f7f7"
                        ],
                        [
                          0.6,
                          "#e6f5d0"
                        ],
                        [
                          0.7,
                          "#b8e186"
                        ],
                        [
                          0.8,
                          "#7fbc41"
                        ],
                        [
                          0.9,
                          "#4d9221"
                        ],
                        [
                          1,
                          "#276419"
                        ]
                      ],
                      "sequential": [
                        [
                          0,
                          "#0d0887"
                        ],
                        [
                          0.1111111111111111,
                          "#46039f"
                        ],
                        [
                          0.2222222222222222,
                          "#7201a8"
                        ],
                        [
                          0.3333333333333333,
                          "#9c179e"
                        ],
                        [
                          0.4444444444444444,
                          "#bd3786"
                        ],
                        [
                          0.5555555555555556,
                          "#d8576b"
                        ],
                        [
                          0.6666666666666666,
                          "#ed7953"
                        ],
                        [
                          0.7777777777777778,
                          "#fb9f3a"
                        ],
                        [
                          0.8888888888888888,
                          "#fdca26"
                        ],
                        [
                          1,
                          "#f0f921"
                        ]
                      ],
                      "sequentialminus": [
                        [
                          0,
                          "#0d0887"
                        ],
                        [
                          0.1111111111111111,
                          "#46039f"
                        ],
                        [
                          0.2222222222222222,
                          "#7201a8"
                        ],
                        [
                          0.3333333333333333,
                          "#9c179e"
                        ],
                        [
                          0.4444444444444444,
                          "#bd3786"
                        ],
                        [
                          0.5555555555555556,
                          "#d8576b"
                        ],
                        [
                          0.6666666666666666,
                          "#ed7953"
                        ],
                        [
                          0.7777777777777778,
                          "#fb9f3a"
                        ],
                        [
                          0.8888888888888888,
                          "#fdca26"
                        ],
                        [
                          1,
                          "#f0f921"
                        ]
                      ]
                    },
                    "colorway": [
                      "#636efa",
                      "#EF553B",
                      "#00cc96",
                      "#ab63fa",
                      "#FFA15A",
                      "#19d3f3",
                      "#FF6692",
                      "#B6E880",
                      "#FF97FF",
                      "#FECB52"
                    ],
                    "font": {
                      "color": "#2a3f5f"
                    },
                    "geo": {
                      "bgcolor": "white",
                      "lakecolor": "white",
                      "landcolor": "#E5ECF6",
                      "showlakes": true,
                      "showland": true,
                      "subunitcolor": "white"
                    },
                    "hoverlabel": {
                      "align": "left"
                    },
                    "hovermode": "closest",
                    "mapbox": {
                      "style": "light"
                    },
                    "paper_bgcolor": "white",
                    "plot_bgcolor": "#E5ECF6",
                    "polar": {
                      "angularaxis": {
                        "gridcolor": "white",
                        "linecolor": "white",
                        "ticks": ""
                      },
                      "bgcolor": "#E5ECF6",
                      "radialaxis": {
                        "gridcolor": "white",
                        "linecolor": "white",
                        "ticks": ""
                      }
                    },
                    "scene": {
                      "xaxis": {
                        "backgroundcolor": "#E5ECF6",
                        "gridcolor": "white",
                        "gridwidth": 2,
                        "linecolor": "white",
                        "showbackground": true,
                        "ticks": "",
                        "zerolinecolor": "white"
                      },
                      "yaxis": {
                        "backgroundcolor": "#E5ECF6",
                        "gridcolor": "white",
                        "gridwidth": 2,
                        "linecolor": "white",
                        "showbackground": true,
                        "ticks": "",
                        "zerolinecolor": "white"
                      },
                      "zaxis": {
                        "backgroundcolor": "#E5ECF6",
                        "gridcolor": "white",
                        "gridwidth": 2,
                        "linecolor": "white",
                        "showbackground": true,
                        "ticks": "",
                        "zerolinecolor": "white"
                      }
                    },
                    "shapedefaults": {
                      "line": {
                        "color": "#2a3f5f"
                      }
                    },
                    "ternary": {
                      "aaxis": {
                        "gridcolor": "white",
                        "linecolor": "white",
                        "ticks": ""
                      },
                      "baxis": {
                        "gridcolor": "white",
                        "linecolor": "white",
                        "ticks": ""
                      },
                      "bgcolor": "#E5ECF6",
                      "caxis": {
                        "gridcolor": "white",
                        "linecolor": "white",
                        "ticks": ""
                      }
                    },
                    "title": {
                      "x": 0.05
                    },
                    "xaxis": {
                      "automargin": true,
                      "gridcolor": "white",
                      "linecolor": "white",
                      "ticks": "",
                      "title": {
                        "standoff": 15
                      },
                      "zerolinecolor": "white",
                      "zerolinewidth": 2
                    },
                    "yaxis": {
                      "automargin": true,
                      "gridcolor": "white",
                      "linecolor": "white",
                      "ticks": "",
                      "title": {
                        "standoff": 15
                      },
                      "zerolinecolor": "white",
                      "zerolinewidth": 2
                    }
                  }
                },
                "title": {
                  "text": "Class Distribution"
                },
                "width": 800,
                "xaxis": {
                  "title": {
                    "text": "Attack Name"
                  }
                },
                "yaxis": {
                  "title": {
                    "text": "Number of attacks"
                  }
                }
              },
              "config": {
                "showLink": false,
                "linkText": "Export to plot.ly",
                "plotlyServerURL": "https://plot.ly"
              }
            },
            "text/html": [
              "<div>                            <div id=\"3be9e8c5-2cd9-419f-82c8-e8a8eaa34b94\" class=\"plotly-graph-div\" style=\"height:600px; width:800px;\"></div>            <script type=\"text/javascript\">                require([\"plotly\"], function(Plotly) {                    window.PLOTLYENV=window.PLOTLYENV || {};                                    if (document.getElementById(\"3be9e8c5-2cd9-419f-82c8-e8a8eaa34b94\")) {                    Plotly.newPlot(                        \"3be9e8c5-2cd9-419f-82c8-e8a8eaa34b94\",                        [{\"name\":\"Benign\",\"orientation\":\"v\",\"text\":[663808.0],\"textposition\":\"outside\",\"x\":[\"Benign\"],\"y\":[663808],\"type\":\"bar\"},{\"name\":\"FTP-BruteForce\",\"orientation\":\"v\",\"text\":[193354.0],\"textposition\":\"outside\",\"x\":[\"FTP-BruteForce\"],\"y\":[193354],\"type\":\"bar\"},{\"name\":\"SSH-Bruteforce\",\"orientation\":\"v\",\"text\":[187589.0],\"textposition\":\"outside\",\"x\":[\"SSH-Bruteforce\"],\"y\":[187589],\"type\":\"bar\"}],                        {\"height\":600,\"template\":{\"data\":{\"barpolar\":[{\"marker\":{\"line\":{\"color\":\"#E5ECF6\",\"width\":0.5},\"pattern\":{\"fillmode\":\"overlay\",\"size\":10,\"solidity\":0.2}},\"type\":\"barpolar\"}],\"bar\":[{\"error_x\":{\"color\":\"#2a3f5f\"},\"error_y\":{\"color\":\"#2a3f5f\"},\"marker\":{\"line\":{\"color\":\"#E5ECF6\",\"width\":0.5},\"pattern\":{\"fillmode\":\"overlay\",\"size\":10,\"solidity\":0.2}},\"type\":\"bar\"}],\"carpet\":[{\"aaxis\":{\"endlinecolor\":\"#2a3f5f\",\"gridcolor\":\"white\",\"linecolor\":\"white\",\"minorgridcolor\":\"white\",\"startlinecolor\":\"#2a3f5f\"},\"baxis\":{\"endlinecolor\":\"#2a3f5f\",\"gridcolor\":\"white\",\"linecolor\":\"white\",\"minorgridcolor\":\"white\",\"startlinecolor\":\"#2a3f5f\"},\"type\":\"carpet\"}],\"choropleth\":[{\"colorbar\":{\"outlinewidth\":0,\"ticks\":\"\"},\"type\":\"choropleth\"}],\"contourcarpet\":[{\"colorbar\":{\"outlinewidth\":0,\"ticks\":\"\"},\"type\":\"contourcarpet\"}],\"contour\":[{\"colorbar\":{\"outlinewidth\":0,\"ticks\":\"\"},\"colorscale\":[[0.0,\"#0d0887\"],[0.1111111111111111,\"#46039f\"],[0.2222222222222222,\"#7201a8\"],[0.3333333333333333,\"#9c179e\"],[0.4444444444444444,\"#bd3786\"],[0.5555555555555556,\"#d8576b\"],[0.6666666666666666,\"#ed7953\"],[0.7777777777777778,\"#fb9f3a\"],[0.8888888888888888,\"#fdca26\"],[1.0,\"#f0f921\"]],\"type\":\"contour\"}],\"heatmapgl\":[{\"colorbar\":{\"outlinewidth\":0,\"ticks\":\"\"},\"colorscale\":[[0.0,\"#0d0887\"],[0.1111111111111111,\"#46039f\"],[0.2222222222222222,\"#7201a8\"],[0.3333333333333333,\"#9c179e\"],[0.4444444444444444,\"#bd3786\"],[0.5555555555555556,\"#d8576b\"],[0.6666666666666666,\"#ed7953\"],[0.7777777777777778,\"#fb9f3a\"],[0.8888888888888888,\"#fdca26\"],[1.0,\"#f0f921\"]],\"type\":\"heatmapgl\"}],\"heatmap\":[{\"colorbar\":{\"outlinewidth\":0,\"ticks\":\"\"},\"colorscale\":[[0.0,\"#0d0887\"],[0.1111111111111111,\"#46039f\"],[0.2222222222222222,\"#7201a8\"],[0.3333333333333333,\"#9c179e\"],[0.4444444444444444,\"#bd3786\"],[0.5555555555555556,\"#d8576b\"],[0.6666666666666666,\"#ed7953\"],[0.7777777777777778,\"#fb9f3a\"],[0.8888888888888888,\"#fdca26\"],[1.0,\"#f0f921\"]],\"type\":\"heatmap\"}],\"histogram2dcontour\":[{\"colorbar\":{\"outlinewidth\":0,\"ticks\":\"\"},\"colorscale\":[[0.0,\"#0d0887\"],[0.1111111111111111,\"#46039f\"],[0.2222222222222222,\"#7201a8\"],[0.3333333333333333,\"#9c179e\"],[0.4444444444444444,\"#bd3786\"],[0.5555555555555556,\"#d8576b\"],[0.6666666666666666,\"#ed7953\"],[0.7777777777777778,\"#fb9f3a\"],[0.8888888888888888,\"#fdca26\"],[1.0,\"#f0f921\"]],\"type\":\"histogram2dcontour\"}],\"histogram2d\":[{\"colorbar\":{\"outlinewidth\":0,\"ticks\":\"\"},\"colorscale\":[[0.0,\"#0d0887\"],[0.1111111111111111,\"#46039f\"],[0.2222222222222222,\"#7201a8\"],[0.3333333333333333,\"#9c179e\"],[0.4444444444444444,\"#bd3786\"],[0.5555555555555556,\"#d8576b\"],[0.6666666666666666,\"#ed7953\"],[0.7777777777777778,\"#fb9f3a\"],[0.8888888888888888,\"#fdca26\"],[1.0,\"#f0f921\"]],\"type\":\"histogram2d\"}],\"histogram\":[{\"marker\":{\"pattern\":{\"fillmode\":\"overlay\",\"size\":10,\"solidity\":0.2}},\"type\":\"histogram\"}],\"mesh3d\":[{\"colorbar\":{\"outlinewidth\":0,\"ticks\":\"\"},\"type\":\"mesh3d\"}],\"parcoords\":[{\"line\":{\"colorbar\":{\"outlinewidth\":0,\"ticks\":\"\"}},\"type\":\"parcoords\"}],\"pie\":[{\"automargin\":true,\"type\":\"pie\"}],\"scatter3d\":[{\"line\":{\"colorbar\":{\"outlinewidth\":0,\"ticks\":\"\"}},\"marker\":{\"colorbar\":{\"outlinewidth\":0,\"ticks\":\"\"}},\"type\":\"scatter3d\"}],\"scattercarpet\":[{\"marker\":{\"colorbar\":{\"outlinewidth\":0,\"ticks\":\"\"}},\"type\":\"scattercarpet\"}],\"scattergeo\":[{\"marker\":{\"colorbar\":{\"outlinewidth\":0,\"ticks\":\"\"}},\"type\":\"scattergeo\"}],\"scattergl\":[{\"marker\":{\"colorbar\":{\"outlinewidth\":0,\"ticks\":\"\"}},\"type\":\"scattergl\"}],\"scattermapbox\":[{\"marker\":{\"colorbar\":{\"outlinewidth\":0,\"ticks\":\"\"}},\"type\":\"scattermapbox\"}],\"scatterpolargl\":[{\"marker\":{\"colorbar\":{\"outlinewidth\":0,\"ticks\":\"\"}},\"type\":\"scatterpolargl\"}],\"scatterpolar\":[{\"marker\":{\"colorbar\":{\"outlinewidth\":0,\"ticks\":\"\"}},\"type\":\"scatterpolar\"}],\"scatter\":[{\"fillpattern\":{\"fillmode\":\"overlay\",\"size\":10,\"solidity\":0.2},\"type\":\"scatter\"}],\"scatterternary\":[{\"marker\":{\"colorbar\":{\"outlinewidth\":0,\"ticks\":\"\"}},\"type\":\"scatterternary\"}],\"surface\":[{\"colorbar\":{\"outlinewidth\":0,\"ticks\":\"\"},\"colorscale\":[[0.0,\"#0d0887\"],[0.1111111111111111,\"#46039f\"],[0.2222222222222222,\"#7201a8\"],[0.3333333333333333,\"#9c179e\"],[0.4444444444444444,\"#bd3786\"],[0.5555555555555556,\"#d8576b\"],[0.6666666666666666,\"#ed7953\"],[0.7777777777777778,\"#fb9f3a\"],[0.8888888888888888,\"#fdca26\"],[1.0,\"#f0f921\"]],\"type\":\"surface\"}],\"table\":[{\"cells\":{\"fill\":{\"color\":\"#EBF0F8\"},\"line\":{\"color\":\"white\"}},\"header\":{\"fill\":{\"color\":\"#C8D4E3\"},\"line\":{\"color\":\"white\"}},\"type\":\"table\"}]},\"layout\":{\"annotationdefaults\":{\"arrowcolor\":\"#2a3f5f\",\"arrowhead\":0,\"arrowwidth\":1},\"autotypenumbers\":\"strict\",\"coloraxis\":{\"colorbar\":{\"outlinewidth\":0,\"ticks\":\"\"}},\"colorscale\":{\"diverging\":[[0,\"#8e0152\"],[0.1,\"#c51b7d\"],[0.2,\"#de77ae\"],[0.3,\"#f1b6da\"],[0.4,\"#fde0ef\"],[0.5,\"#f7f7f7\"],[0.6,\"#e6f5d0\"],[0.7,\"#b8e186\"],[0.8,\"#7fbc41\"],[0.9,\"#4d9221\"],[1,\"#276419\"]],\"sequential\":[[0.0,\"#0d0887\"],[0.1111111111111111,\"#46039f\"],[0.2222222222222222,\"#7201a8\"],[0.3333333333333333,\"#9c179e\"],[0.4444444444444444,\"#bd3786\"],[0.5555555555555556,\"#d8576b\"],[0.6666666666666666,\"#ed7953\"],[0.7777777777777778,\"#fb9f3a\"],[0.8888888888888888,\"#fdca26\"],[1.0,\"#f0f921\"]],\"sequentialminus\":[[0.0,\"#0d0887\"],[0.1111111111111111,\"#46039f\"],[0.2222222222222222,\"#7201a8\"],[0.3333333333333333,\"#9c179e\"],[0.4444444444444444,\"#bd3786\"],[0.5555555555555556,\"#d8576b\"],[0.6666666666666666,\"#ed7953\"],[0.7777777777777778,\"#fb9f3a\"],[0.8888888888888888,\"#fdca26\"],[1.0,\"#f0f921\"]]},\"colorway\":[\"#636efa\",\"#EF553B\",\"#00cc96\",\"#ab63fa\",\"#FFA15A\",\"#19d3f3\",\"#FF6692\",\"#B6E880\",\"#FF97FF\",\"#FECB52\"],\"font\":{\"color\":\"#2a3f5f\"},\"geo\":{\"bgcolor\":\"white\",\"lakecolor\":\"white\",\"landcolor\":\"#E5ECF6\",\"showlakes\":true,\"showland\":true,\"subunitcolor\":\"white\"},\"hoverlabel\":{\"align\":\"left\"},\"hovermode\":\"closest\",\"mapbox\":{\"style\":\"light\"},\"paper_bgcolor\":\"white\",\"plot_bgcolor\":\"#E5ECF6\",\"polar\":{\"angularaxis\":{\"gridcolor\":\"white\",\"linecolor\":\"white\",\"ticks\":\"\"},\"bgcolor\":\"#E5ECF6\",\"radialaxis\":{\"gridcolor\":\"white\",\"linecolor\":\"white\",\"ticks\":\"\"}},\"scene\":{\"xaxis\":{\"backgroundcolor\":\"#E5ECF6\",\"gridcolor\":\"white\",\"gridwidth\":2,\"linecolor\":\"white\",\"showbackground\":true,\"ticks\":\"\",\"zerolinecolor\":\"white\"},\"yaxis\":{\"backgroundcolor\":\"#E5ECF6\",\"gridcolor\":\"white\",\"gridwidth\":2,\"linecolor\":\"white\",\"showbackground\":true,\"ticks\":\"\",\"zerolinecolor\":\"white\"},\"zaxis\":{\"backgroundcolor\":\"#E5ECF6\",\"gridcolor\":\"white\",\"gridwidth\":2,\"linecolor\":\"white\",\"showbackground\":true,\"ticks\":\"\",\"zerolinecolor\":\"white\"}},\"shapedefaults\":{\"line\":{\"color\":\"#2a3f5f\"}},\"ternary\":{\"aaxis\":{\"gridcolor\":\"white\",\"linecolor\":\"white\",\"ticks\":\"\"},\"baxis\":{\"gridcolor\":\"white\",\"linecolor\":\"white\",\"ticks\":\"\"},\"bgcolor\":\"#E5ECF6\",\"caxis\":{\"gridcolor\":\"white\",\"linecolor\":\"white\",\"ticks\":\"\"}},\"title\":{\"x\":0.05},\"xaxis\":{\"automargin\":true,\"gridcolor\":\"white\",\"linecolor\":\"white\",\"ticks\":\"\",\"title\":{\"standoff\":15},\"zerolinecolor\":\"white\",\"zerolinewidth\":2},\"yaxis\":{\"automargin\":true,\"gridcolor\":\"white\",\"linecolor\":\"white\",\"ticks\":\"\",\"title\":{\"standoff\":15},\"zerolinecolor\":\"white\",\"zerolinewidth\":2}}},\"title\":{\"text\":\"Class Distribution\"},\"width\":800,\"xaxis\":{\"title\":{\"text\":\"Attack Name\"}},\"yaxis\":{\"title\":{\"text\":\"Number of attacks\"}}},                        {\"responsive\": true}                    ).then(function(){\n",
              "                            \n",
              "var gd = document.getElementById('3be9e8c5-2cd9-419f-82c8-e8a8eaa34b94');\n",
              "var x = new MutationObserver(function (mutations, observer) {{\n",
              "        var display = window.getComputedStyle(gd).display;\n",
              "        if (!display || display === 'none') {{\n",
              "            console.log([gd, 'removed!']);\n",
              "            Plotly.purge(gd);\n",
              "            observer.disconnect();\n",
              "        }}\n",
              "}});\n",
              "\n",
              "// Listen for the removal of the full notebook cells\n",
              "var notebookContainer = gd.closest('#notebook-container');\n",
              "if (notebookContainer) {{\n",
              "    x.observe(notebookContainer, {childList: true});\n",
              "}}\n",
              "\n",
              "// Listen for the clearing of the current output cell\n",
              "var outputEl = gd.closest('.output');\n",
              "if (outputEl) {{\n",
              "    x.observe(outputEl, {childList: true});\n",
              "}}\n",
              "\n",
              "                        })                };                });            </script>        </div>"
            ]
          },
          "metadata": {}
        }
      ],
      "source": [
        "from plotly.offline import init_notebook_mode, iplot, plot\n",
        "import plotly as py\n",
        "import plotly.express as px\n",
        "init_notebook_mode(connected=True)\n",
        "import plotly.graph_objs as go\n",
        "\n",
        "fig = go.Figure(data=[\n",
        "    go.Bar(name='Benign', \n",
        "           y=df[\"Label\"].value_counts().values[0:1],\n",
        "           x=['Benign'],\n",
        "           text = df[\"Label\"].value_counts()[0:1],\n",
        "           orientation='v',\n",
        "           textposition='outside',),\n",
        "    go.Bar(name='FTP-BruteForce', \n",
        "           y=df[\"Label\"].value_counts().values[1:2],\n",
        "           x=['FTP-BruteForce'],\n",
        "           text = df[\"Label\"].value_counts()[1:2],\n",
        "           orientation='v',\n",
        "           textposition='outside',),\n",
        "    go.Bar(name='SSH-Bruteforce', \n",
        "           y=df[\"Label\"].value_counts().values[2:],\n",
        "           x=['SSH-Bruteforce'],\n",
        "           text = df[\"Label\"].value_counts()[2:],\n",
        "           orientation='v',\n",
        "           textposition='outside',)\n",
        "])\n",
        "# Change the bar mode\n",
        "fig.update_layout(\n",
        "                  width=800,\n",
        "                  height=600,\n",
        "                  title=f'Class Distribution',\n",
        "                  yaxis_title='Number of attacks',\n",
        "                  xaxis_title='Attack Name',)\n",
        "iplot(fig)"
      ]
    },
    {
      "cell_type": "code",
      "execution_count": 17,
      "metadata": {
        "id": "GA59tW7cWrWv"
      },
      "outputs": [],
      "source": [
        "df.replace(to_replace=[\"FTP-BruteForce\", \"SSH-Bruteforce\"], value=\"Malicious\", inplace=True)"
      ]
    },
    {
      "cell_type": "code",
      "execution_count": 18,
      "metadata": {
        "colab": {
          "base_uri": "https://localhost:8080/"
        },
        "id": "yTxr4D3GWtqP",
        "outputId": "cf71f5c1-c381-4c93-e558-bc19f02cac2a"
      },
      "outputs": [
        {
          "output_type": "execute_result",
          "data": {
            "text/plain": [
              "Benign       663808\n",
              "Malicious    380943\n",
              "Name: Label, dtype: int64"
            ]
          },
          "metadata": {},
          "execution_count": 18
        }
      ],
      "source": [
        "df_dataset[\"Label\"].value_counts()"
      ]
    },
    {
      "cell_type": "code",
      "execution_count": 19,
      "metadata": {
        "colab": {
          "base_uri": "https://localhost:8080/",
          "height": 617
        },
        "id": "VP4UauFvWvkR",
        "outputId": "8b5880a2-0012-497b-9f10-a40506e43ccf"
      },
      "outputs": [
        {
          "output_type": "display_data",
          "data": {
            "application/vnd.plotly.v1+json": {
              "data": [
                {
                  "name": "Benign",
                  "orientation": "v",
                  "text": [
                    663808
                  ],
                  "textposition": "outside",
                  "x": [
                    "Benign"
                  ],
                  "y": [
                    663808
                  ],
                  "type": "bar"
                },
                {
                  "name": "Malicious",
                  "orientation": "v",
                  "text": [
                    380943
                  ],
                  "textposition": "outside",
                  "x": [
                    "Malicious"
                  ],
                  "y": [
                    380943
                  ],
                  "type": "bar"
                }
              ],
              "layout": {
                "height": 600,
                "template": {
                  "data": {
                    "barpolar": [
                      {
                        "marker": {
                          "line": {
                            "color": "#E5ECF6",
                            "width": 0.5
                          },
                          "pattern": {
                            "fillmode": "overlay",
                            "size": 10,
                            "solidity": 0.2
                          }
                        },
                        "type": "barpolar"
                      }
                    ],
                    "bar": [
                      {
                        "error_x": {
                          "color": "#2a3f5f"
                        },
                        "error_y": {
                          "color": "#2a3f5f"
                        },
                        "marker": {
                          "line": {
                            "color": "#E5ECF6",
                            "width": 0.5
                          },
                          "pattern": {
                            "fillmode": "overlay",
                            "size": 10,
                            "solidity": 0.2
                          }
                        },
                        "type": "bar"
                      }
                    ],
                    "carpet": [
                      {
                        "aaxis": {
                          "endlinecolor": "#2a3f5f",
                          "gridcolor": "white",
                          "linecolor": "white",
                          "minorgridcolor": "white",
                          "startlinecolor": "#2a3f5f"
                        },
                        "baxis": {
                          "endlinecolor": "#2a3f5f",
                          "gridcolor": "white",
                          "linecolor": "white",
                          "minorgridcolor": "white",
                          "startlinecolor": "#2a3f5f"
                        },
                        "type": "carpet"
                      }
                    ],
                    "choropleth": [
                      {
                        "colorbar": {
                          "outlinewidth": 0,
                          "ticks": ""
                        },
                        "type": "choropleth"
                      }
                    ],
                    "contourcarpet": [
                      {
                        "colorbar": {
                          "outlinewidth": 0,
                          "ticks": ""
                        },
                        "type": "contourcarpet"
                      }
                    ],
                    "contour": [
                      {
                        "colorbar": {
                          "outlinewidth": 0,
                          "ticks": ""
                        },
                        "colorscale": [
                          [
                            0,
                            "#0d0887"
                          ],
                          [
                            0.1111111111111111,
                            "#46039f"
                          ],
                          [
                            0.2222222222222222,
                            "#7201a8"
                          ],
                          [
                            0.3333333333333333,
                            "#9c179e"
                          ],
                          [
                            0.4444444444444444,
                            "#bd3786"
                          ],
                          [
                            0.5555555555555556,
                            "#d8576b"
                          ],
                          [
                            0.6666666666666666,
                            "#ed7953"
                          ],
                          [
                            0.7777777777777778,
                            "#fb9f3a"
                          ],
                          [
                            0.8888888888888888,
                            "#fdca26"
                          ],
                          [
                            1,
                            "#f0f921"
                          ]
                        ],
                        "type": "contour"
                      }
                    ],
                    "heatmapgl": [
                      {
                        "colorbar": {
                          "outlinewidth": 0,
                          "ticks": ""
                        },
                        "colorscale": [
                          [
                            0,
                            "#0d0887"
                          ],
                          [
                            0.1111111111111111,
                            "#46039f"
                          ],
                          [
                            0.2222222222222222,
                            "#7201a8"
                          ],
                          [
                            0.3333333333333333,
                            "#9c179e"
                          ],
                          [
                            0.4444444444444444,
                            "#bd3786"
                          ],
                          [
                            0.5555555555555556,
                            "#d8576b"
                          ],
                          [
                            0.6666666666666666,
                            "#ed7953"
                          ],
                          [
                            0.7777777777777778,
                            "#fb9f3a"
                          ],
                          [
                            0.8888888888888888,
                            "#fdca26"
                          ],
                          [
                            1,
                            "#f0f921"
                          ]
                        ],
                        "type": "heatmapgl"
                      }
                    ],
                    "heatmap": [
                      {
                        "colorbar": {
                          "outlinewidth": 0,
                          "ticks": ""
                        },
                        "colorscale": [
                          [
                            0,
                            "#0d0887"
                          ],
                          [
                            0.1111111111111111,
                            "#46039f"
                          ],
                          [
                            0.2222222222222222,
                            "#7201a8"
                          ],
                          [
                            0.3333333333333333,
                            "#9c179e"
                          ],
                          [
                            0.4444444444444444,
                            "#bd3786"
                          ],
                          [
                            0.5555555555555556,
                            "#d8576b"
                          ],
                          [
                            0.6666666666666666,
                            "#ed7953"
                          ],
                          [
                            0.7777777777777778,
                            "#fb9f3a"
                          ],
                          [
                            0.8888888888888888,
                            "#fdca26"
                          ],
                          [
                            1,
                            "#f0f921"
                          ]
                        ],
                        "type": "heatmap"
                      }
                    ],
                    "histogram2dcontour": [
                      {
                        "colorbar": {
                          "outlinewidth": 0,
                          "ticks": ""
                        },
                        "colorscale": [
                          [
                            0,
                            "#0d0887"
                          ],
                          [
                            0.1111111111111111,
                            "#46039f"
                          ],
                          [
                            0.2222222222222222,
                            "#7201a8"
                          ],
                          [
                            0.3333333333333333,
                            "#9c179e"
                          ],
                          [
                            0.4444444444444444,
                            "#bd3786"
                          ],
                          [
                            0.5555555555555556,
                            "#d8576b"
                          ],
                          [
                            0.6666666666666666,
                            "#ed7953"
                          ],
                          [
                            0.7777777777777778,
                            "#fb9f3a"
                          ],
                          [
                            0.8888888888888888,
                            "#fdca26"
                          ],
                          [
                            1,
                            "#f0f921"
                          ]
                        ],
                        "type": "histogram2dcontour"
                      }
                    ],
                    "histogram2d": [
                      {
                        "colorbar": {
                          "outlinewidth": 0,
                          "ticks": ""
                        },
                        "colorscale": [
                          [
                            0,
                            "#0d0887"
                          ],
                          [
                            0.1111111111111111,
                            "#46039f"
                          ],
                          [
                            0.2222222222222222,
                            "#7201a8"
                          ],
                          [
                            0.3333333333333333,
                            "#9c179e"
                          ],
                          [
                            0.4444444444444444,
                            "#bd3786"
                          ],
                          [
                            0.5555555555555556,
                            "#d8576b"
                          ],
                          [
                            0.6666666666666666,
                            "#ed7953"
                          ],
                          [
                            0.7777777777777778,
                            "#fb9f3a"
                          ],
                          [
                            0.8888888888888888,
                            "#fdca26"
                          ],
                          [
                            1,
                            "#f0f921"
                          ]
                        ],
                        "type": "histogram2d"
                      }
                    ],
                    "histogram": [
                      {
                        "marker": {
                          "pattern": {
                            "fillmode": "overlay",
                            "size": 10,
                            "solidity": 0.2
                          }
                        },
                        "type": "histogram"
                      }
                    ],
                    "mesh3d": [
                      {
                        "colorbar": {
                          "outlinewidth": 0,
                          "ticks": ""
                        },
                        "type": "mesh3d"
                      }
                    ],
                    "parcoords": [
                      {
                        "line": {
                          "colorbar": {
                            "outlinewidth": 0,
                            "ticks": ""
                          }
                        },
                        "type": "parcoords"
                      }
                    ],
                    "pie": [
                      {
                        "automargin": true,
                        "type": "pie"
                      }
                    ],
                    "scatter3d": [
                      {
                        "line": {
                          "colorbar": {
                            "outlinewidth": 0,
                            "ticks": ""
                          }
                        },
                        "marker": {
                          "colorbar": {
                            "outlinewidth": 0,
                            "ticks": ""
                          }
                        },
                        "type": "scatter3d"
                      }
                    ],
                    "scattercarpet": [
                      {
                        "marker": {
                          "colorbar": {
                            "outlinewidth": 0,
                            "ticks": ""
                          }
                        },
                        "type": "scattercarpet"
                      }
                    ],
                    "scattergeo": [
                      {
                        "marker": {
                          "colorbar": {
                            "outlinewidth": 0,
                            "ticks": ""
                          }
                        },
                        "type": "scattergeo"
                      }
                    ],
                    "scattergl": [
                      {
                        "marker": {
                          "colorbar": {
                            "outlinewidth": 0,
                            "ticks": ""
                          }
                        },
                        "type": "scattergl"
                      }
                    ],
                    "scattermapbox": [
                      {
                        "marker": {
                          "colorbar": {
                            "outlinewidth": 0,
                            "ticks": ""
                          }
                        },
                        "type": "scattermapbox"
                      }
                    ],
                    "scatterpolargl": [
                      {
                        "marker": {
                          "colorbar": {
                            "outlinewidth": 0,
                            "ticks": ""
                          }
                        },
                        "type": "scatterpolargl"
                      }
                    ],
                    "scatterpolar": [
                      {
                        "marker": {
                          "colorbar": {
                            "outlinewidth": 0,
                            "ticks": ""
                          }
                        },
                        "type": "scatterpolar"
                      }
                    ],
                    "scatter": [
                      {
                        "fillpattern": {
                          "fillmode": "overlay",
                          "size": 10,
                          "solidity": 0.2
                        },
                        "type": "scatter"
                      }
                    ],
                    "scatterternary": [
                      {
                        "marker": {
                          "colorbar": {
                            "outlinewidth": 0,
                            "ticks": ""
                          }
                        },
                        "type": "scatterternary"
                      }
                    ],
                    "surface": [
                      {
                        "colorbar": {
                          "outlinewidth": 0,
                          "ticks": ""
                        },
                        "colorscale": [
                          [
                            0,
                            "#0d0887"
                          ],
                          [
                            0.1111111111111111,
                            "#46039f"
                          ],
                          [
                            0.2222222222222222,
                            "#7201a8"
                          ],
                          [
                            0.3333333333333333,
                            "#9c179e"
                          ],
                          [
                            0.4444444444444444,
                            "#bd3786"
                          ],
                          [
                            0.5555555555555556,
                            "#d8576b"
                          ],
                          [
                            0.6666666666666666,
                            "#ed7953"
                          ],
                          [
                            0.7777777777777778,
                            "#fb9f3a"
                          ],
                          [
                            0.8888888888888888,
                            "#fdca26"
                          ],
                          [
                            1,
                            "#f0f921"
                          ]
                        ],
                        "type": "surface"
                      }
                    ],
                    "table": [
                      {
                        "cells": {
                          "fill": {
                            "color": "#EBF0F8"
                          },
                          "line": {
                            "color": "white"
                          }
                        },
                        "header": {
                          "fill": {
                            "color": "#C8D4E3"
                          },
                          "line": {
                            "color": "white"
                          }
                        },
                        "type": "table"
                      }
                    ]
                  },
                  "layout": {
                    "annotationdefaults": {
                      "arrowcolor": "#2a3f5f",
                      "arrowhead": 0,
                      "arrowwidth": 1
                    },
                    "autotypenumbers": "strict",
                    "coloraxis": {
                      "colorbar": {
                        "outlinewidth": 0,
                        "ticks": ""
                      }
                    },
                    "colorscale": {
                      "diverging": [
                        [
                          0,
                          "#8e0152"
                        ],
                        [
                          0.1,
                          "#c51b7d"
                        ],
                        [
                          0.2,
                          "#de77ae"
                        ],
                        [
                          0.3,
                          "#f1b6da"
                        ],
                        [
                          0.4,
                          "#fde0ef"
                        ],
                        [
                          0.5,
                          "#f7f7f7"
                        ],
                        [
                          0.6,
                          "#e6f5d0"
                        ],
                        [
                          0.7,
                          "#b8e186"
                        ],
                        [
                          0.8,
                          "#7fbc41"
                        ],
                        [
                          0.9,
                          "#4d9221"
                        ],
                        [
                          1,
                          "#276419"
                        ]
                      ],
                      "sequential": [
                        [
                          0,
                          "#0d0887"
                        ],
                        [
                          0.1111111111111111,
                          "#46039f"
                        ],
                        [
                          0.2222222222222222,
                          "#7201a8"
                        ],
                        [
                          0.3333333333333333,
                          "#9c179e"
                        ],
                        [
                          0.4444444444444444,
                          "#bd3786"
                        ],
                        [
                          0.5555555555555556,
                          "#d8576b"
                        ],
                        [
                          0.6666666666666666,
                          "#ed7953"
                        ],
                        [
                          0.7777777777777778,
                          "#fb9f3a"
                        ],
                        [
                          0.8888888888888888,
                          "#fdca26"
                        ],
                        [
                          1,
                          "#f0f921"
                        ]
                      ],
                      "sequentialminus": [
                        [
                          0,
                          "#0d0887"
                        ],
                        [
                          0.1111111111111111,
                          "#46039f"
                        ],
                        [
                          0.2222222222222222,
                          "#7201a8"
                        ],
                        [
                          0.3333333333333333,
                          "#9c179e"
                        ],
                        [
                          0.4444444444444444,
                          "#bd3786"
                        ],
                        [
                          0.5555555555555556,
                          "#d8576b"
                        ],
                        [
                          0.6666666666666666,
                          "#ed7953"
                        ],
                        [
                          0.7777777777777778,
                          "#fb9f3a"
                        ],
                        [
                          0.8888888888888888,
                          "#fdca26"
                        ],
                        [
                          1,
                          "#f0f921"
                        ]
                      ]
                    },
                    "colorway": [
                      "#636efa",
                      "#EF553B",
                      "#00cc96",
                      "#ab63fa",
                      "#FFA15A",
                      "#19d3f3",
                      "#FF6692",
                      "#B6E880",
                      "#FF97FF",
                      "#FECB52"
                    ],
                    "font": {
                      "color": "#2a3f5f"
                    },
                    "geo": {
                      "bgcolor": "white",
                      "lakecolor": "white",
                      "landcolor": "#E5ECF6",
                      "showlakes": true,
                      "showland": true,
                      "subunitcolor": "white"
                    },
                    "hoverlabel": {
                      "align": "left"
                    },
                    "hovermode": "closest",
                    "mapbox": {
                      "style": "light"
                    },
                    "paper_bgcolor": "white",
                    "plot_bgcolor": "#E5ECF6",
                    "polar": {
                      "angularaxis": {
                        "gridcolor": "white",
                        "linecolor": "white",
                        "ticks": ""
                      },
                      "bgcolor": "#E5ECF6",
                      "radialaxis": {
                        "gridcolor": "white",
                        "linecolor": "white",
                        "ticks": ""
                      }
                    },
                    "scene": {
                      "xaxis": {
                        "backgroundcolor": "#E5ECF6",
                        "gridcolor": "white",
                        "gridwidth": 2,
                        "linecolor": "white",
                        "showbackground": true,
                        "ticks": "",
                        "zerolinecolor": "white"
                      },
                      "yaxis": {
                        "backgroundcolor": "#E5ECF6",
                        "gridcolor": "white",
                        "gridwidth": 2,
                        "linecolor": "white",
                        "showbackground": true,
                        "ticks": "",
                        "zerolinecolor": "white"
                      },
                      "zaxis": {
                        "backgroundcolor": "#E5ECF6",
                        "gridcolor": "white",
                        "gridwidth": 2,
                        "linecolor": "white",
                        "showbackground": true,
                        "ticks": "",
                        "zerolinecolor": "white"
                      }
                    },
                    "shapedefaults": {
                      "line": {
                        "color": "#2a3f5f"
                      }
                    },
                    "ternary": {
                      "aaxis": {
                        "gridcolor": "white",
                        "linecolor": "white",
                        "ticks": ""
                      },
                      "baxis": {
                        "gridcolor": "white",
                        "linecolor": "white",
                        "ticks": ""
                      },
                      "bgcolor": "#E5ECF6",
                      "caxis": {
                        "gridcolor": "white",
                        "linecolor": "white",
                        "ticks": ""
                      }
                    },
                    "title": {
                      "x": 0.05
                    },
                    "xaxis": {
                      "automargin": true,
                      "gridcolor": "white",
                      "linecolor": "white",
                      "ticks": "",
                      "title": {
                        "standoff": 15
                      },
                      "zerolinecolor": "white",
                      "zerolinewidth": 2
                    },
                    "yaxis": {
                      "automargin": true,
                      "gridcolor": "white",
                      "linecolor": "white",
                      "ticks": "",
                      "title": {
                        "standoff": 15
                      },
                      "zerolinecolor": "white",
                      "zerolinewidth": 2
                    }
                  }
                },
                "title": {
                  "text": "Class Distribution"
                },
                "width": 800,
                "xaxis": {
                  "title": {
                    "text": "Attack Name"
                  }
                },
                "yaxis": {
                  "title": {
                    "text": "Number of attacks"
                  }
                }
              },
              "config": {
                "showLink": false,
                "linkText": "Export to plot.ly",
                "plotlyServerURL": "https://plot.ly"
              }
            },
            "text/html": [
              "<div>                            <div id=\"d13c2bce-5d9a-4a78-be0d-91d8fd9d6898\" class=\"plotly-graph-div\" style=\"height:600px; width:800px;\"></div>            <script type=\"text/javascript\">                require([\"plotly\"], function(Plotly) {                    window.PLOTLYENV=window.PLOTLYENV || {};                                    if (document.getElementById(\"d13c2bce-5d9a-4a78-be0d-91d8fd9d6898\")) {                    Plotly.newPlot(                        \"d13c2bce-5d9a-4a78-be0d-91d8fd9d6898\",                        [{\"name\":\"Benign\",\"orientation\":\"v\",\"text\":[663808.0],\"textposition\":\"outside\",\"x\":[\"Benign\"],\"y\":[663808],\"type\":\"bar\"},{\"name\":\"Malicious\",\"orientation\":\"v\",\"text\":[380943.0],\"textposition\":\"outside\",\"x\":[\"Malicious\"],\"y\":[380943],\"type\":\"bar\"}],                        {\"height\":600,\"template\":{\"data\":{\"barpolar\":[{\"marker\":{\"line\":{\"color\":\"#E5ECF6\",\"width\":0.5},\"pattern\":{\"fillmode\":\"overlay\",\"size\":10,\"solidity\":0.2}},\"type\":\"barpolar\"}],\"bar\":[{\"error_x\":{\"color\":\"#2a3f5f\"},\"error_y\":{\"color\":\"#2a3f5f\"},\"marker\":{\"line\":{\"color\":\"#E5ECF6\",\"width\":0.5},\"pattern\":{\"fillmode\":\"overlay\",\"size\":10,\"solidity\":0.2}},\"type\":\"bar\"}],\"carpet\":[{\"aaxis\":{\"endlinecolor\":\"#2a3f5f\",\"gridcolor\":\"white\",\"linecolor\":\"white\",\"minorgridcolor\":\"white\",\"startlinecolor\":\"#2a3f5f\"},\"baxis\":{\"endlinecolor\":\"#2a3f5f\",\"gridcolor\":\"white\",\"linecolor\":\"white\",\"minorgridcolor\":\"white\",\"startlinecolor\":\"#2a3f5f\"},\"type\":\"carpet\"}],\"choropleth\":[{\"colorbar\":{\"outlinewidth\":0,\"ticks\":\"\"},\"type\":\"choropleth\"}],\"contourcarpet\":[{\"colorbar\":{\"outlinewidth\":0,\"ticks\":\"\"},\"type\":\"contourcarpet\"}],\"contour\":[{\"colorbar\":{\"outlinewidth\":0,\"ticks\":\"\"},\"colorscale\":[[0.0,\"#0d0887\"],[0.1111111111111111,\"#46039f\"],[0.2222222222222222,\"#7201a8\"],[0.3333333333333333,\"#9c179e\"],[0.4444444444444444,\"#bd3786\"],[0.5555555555555556,\"#d8576b\"],[0.6666666666666666,\"#ed7953\"],[0.7777777777777778,\"#fb9f3a\"],[0.8888888888888888,\"#fdca26\"],[1.0,\"#f0f921\"]],\"type\":\"contour\"}],\"heatmapgl\":[{\"colorbar\":{\"outlinewidth\":0,\"ticks\":\"\"},\"colorscale\":[[0.0,\"#0d0887\"],[0.1111111111111111,\"#46039f\"],[0.2222222222222222,\"#7201a8\"],[0.3333333333333333,\"#9c179e\"],[0.4444444444444444,\"#bd3786\"],[0.5555555555555556,\"#d8576b\"],[0.6666666666666666,\"#ed7953\"],[0.7777777777777778,\"#fb9f3a\"],[0.8888888888888888,\"#fdca26\"],[1.0,\"#f0f921\"]],\"type\":\"heatmapgl\"}],\"heatmap\":[{\"colorbar\":{\"outlinewidth\":0,\"ticks\":\"\"},\"colorscale\":[[0.0,\"#0d0887\"],[0.1111111111111111,\"#46039f\"],[0.2222222222222222,\"#7201a8\"],[0.3333333333333333,\"#9c179e\"],[0.4444444444444444,\"#bd3786\"],[0.5555555555555556,\"#d8576b\"],[0.6666666666666666,\"#ed7953\"],[0.7777777777777778,\"#fb9f3a\"],[0.8888888888888888,\"#fdca26\"],[1.0,\"#f0f921\"]],\"type\":\"heatmap\"}],\"histogram2dcontour\":[{\"colorbar\":{\"outlinewidth\":0,\"ticks\":\"\"},\"colorscale\":[[0.0,\"#0d0887\"],[0.1111111111111111,\"#46039f\"],[0.2222222222222222,\"#7201a8\"],[0.3333333333333333,\"#9c179e\"],[0.4444444444444444,\"#bd3786\"],[0.5555555555555556,\"#d8576b\"],[0.6666666666666666,\"#ed7953\"],[0.7777777777777778,\"#fb9f3a\"],[0.8888888888888888,\"#fdca26\"],[1.0,\"#f0f921\"]],\"type\":\"histogram2dcontour\"}],\"histogram2d\":[{\"colorbar\":{\"outlinewidth\":0,\"ticks\":\"\"},\"colorscale\":[[0.0,\"#0d0887\"],[0.1111111111111111,\"#46039f\"],[0.2222222222222222,\"#7201a8\"],[0.3333333333333333,\"#9c179e\"],[0.4444444444444444,\"#bd3786\"],[0.5555555555555556,\"#d8576b\"],[0.6666666666666666,\"#ed7953\"],[0.7777777777777778,\"#fb9f3a\"],[0.8888888888888888,\"#fdca26\"],[1.0,\"#f0f921\"]],\"type\":\"histogram2d\"}],\"histogram\":[{\"marker\":{\"pattern\":{\"fillmode\":\"overlay\",\"size\":10,\"solidity\":0.2}},\"type\":\"histogram\"}],\"mesh3d\":[{\"colorbar\":{\"outlinewidth\":0,\"ticks\":\"\"},\"type\":\"mesh3d\"}],\"parcoords\":[{\"line\":{\"colorbar\":{\"outlinewidth\":0,\"ticks\":\"\"}},\"type\":\"parcoords\"}],\"pie\":[{\"automargin\":true,\"type\":\"pie\"}],\"scatter3d\":[{\"line\":{\"colorbar\":{\"outlinewidth\":0,\"ticks\":\"\"}},\"marker\":{\"colorbar\":{\"outlinewidth\":0,\"ticks\":\"\"}},\"type\":\"scatter3d\"}],\"scattercarpet\":[{\"marker\":{\"colorbar\":{\"outlinewidth\":0,\"ticks\":\"\"}},\"type\":\"scattercarpet\"}],\"scattergeo\":[{\"marker\":{\"colorbar\":{\"outlinewidth\":0,\"ticks\":\"\"}},\"type\":\"scattergeo\"}],\"scattergl\":[{\"marker\":{\"colorbar\":{\"outlinewidth\":0,\"ticks\":\"\"}},\"type\":\"scattergl\"}],\"scattermapbox\":[{\"marker\":{\"colorbar\":{\"outlinewidth\":0,\"ticks\":\"\"}},\"type\":\"scattermapbox\"}],\"scatterpolargl\":[{\"marker\":{\"colorbar\":{\"outlinewidth\":0,\"ticks\":\"\"}},\"type\":\"scatterpolargl\"}],\"scatterpolar\":[{\"marker\":{\"colorbar\":{\"outlinewidth\":0,\"ticks\":\"\"}},\"type\":\"scatterpolar\"}],\"scatter\":[{\"fillpattern\":{\"fillmode\":\"overlay\",\"size\":10,\"solidity\":0.2},\"type\":\"scatter\"}],\"scatterternary\":[{\"marker\":{\"colorbar\":{\"outlinewidth\":0,\"ticks\":\"\"}},\"type\":\"scatterternary\"}],\"surface\":[{\"colorbar\":{\"outlinewidth\":0,\"ticks\":\"\"},\"colorscale\":[[0.0,\"#0d0887\"],[0.1111111111111111,\"#46039f\"],[0.2222222222222222,\"#7201a8\"],[0.3333333333333333,\"#9c179e\"],[0.4444444444444444,\"#bd3786\"],[0.5555555555555556,\"#d8576b\"],[0.6666666666666666,\"#ed7953\"],[0.7777777777777778,\"#fb9f3a\"],[0.8888888888888888,\"#fdca26\"],[1.0,\"#f0f921\"]],\"type\":\"surface\"}],\"table\":[{\"cells\":{\"fill\":{\"color\":\"#EBF0F8\"},\"line\":{\"color\":\"white\"}},\"header\":{\"fill\":{\"color\":\"#C8D4E3\"},\"line\":{\"color\":\"white\"}},\"type\":\"table\"}]},\"layout\":{\"annotationdefaults\":{\"arrowcolor\":\"#2a3f5f\",\"arrowhead\":0,\"arrowwidth\":1},\"autotypenumbers\":\"strict\",\"coloraxis\":{\"colorbar\":{\"outlinewidth\":0,\"ticks\":\"\"}},\"colorscale\":{\"diverging\":[[0,\"#8e0152\"],[0.1,\"#c51b7d\"],[0.2,\"#de77ae\"],[0.3,\"#f1b6da\"],[0.4,\"#fde0ef\"],[0.5,\"#f7f7f7\"],[0.6,\"#e6f5d0\"],[0.7,\"#b8e186\"],[0.8,\"#7fbc41\"],[0.9,\"#4d9221\"],[1,\"#276419\"]],\"sequential\":[[0.0,\"#0d0887\"],[0.1111111111111111,\"#46039f\"],[0.2222222222222222,\"#7201a8\"],[0.3333333333333333,\"#9c179e\"],[0.4444444444444444,\"#bd3786\"],[0.5555555555555556,\"#d8576b\"],[0.6666666666666666,\"#ed7953\"],[0.7777777777777778,\"#fb9f3a\"],[0.8888888888888888,\"#fdca26\"],[1.0,\"#f0f921\"]],\"sequentialminus\":[[0.0,\"#0d0887\"],[0.1111111111111111,\"#46039f\"],[0.2222222222222222,\"#7201a8\"],[0.3333333333333333,\"#9c179e\"],[0.4444444444444444,\"#bd3786\"],[0.5555555555555556,\"#d8576b\"],[0.6666666666666666,\"#ed7953\"],[0.7777777777777778,\"#fb9f3a\"],[0.8888888888888888,\"#fdca26\"],[1.0,\"#f0f921\"]]},\"colorway\":[\"#636efa\",\"#EF553B\",\"#00cc96\",\"#ab63fa\",\"#FFA15A\",\"#19d3f3\",\"#FF6692\",\"#B6E880\",\"#FF97FF\",\"#FECB52\"],\"font\":{\"color\":\"#2a3f5f\"},\"geo\":{\"bgcolor\":\"white\",\"lakecolor\":\"white\",\"landcolor\":\"#E5ECF6\",\"showlakes\":true,\"showland\":true,\"subunitcolor\":\"white\"},\"hoverlabel\":{\"align\":\"left\"},\"hovermode\":\"closest\",\"mapbox\":{\"style\":\"light\"},\"paper_bgcolor\":\"white\",\"plot_bgcolor\":\"#E5ECF6\",\"polar\":{\"angularaxis\":{\"gridcolor\":\"white\",\"linecolor\":\"white\",\"ticks\":\"\"},\"bgcolor\":\"#E5ECF6\",\"radialaxis\":{\"gridcolor\":\"white\",\"linecolor\":\"white\",\"ticks\":\"\"}},\"scene\":{\"xaxis\":{\"backgroundcolor\":\"#E5ECF6\",\"gridcolor\":\"white\",\"gridwidth\":2,\"linecolor\":\"white\",\"showbackground\":true,\"ticks\":\"\",\"zerolinecolor\":\"white\"},\"yaxis\":{\"backgroundcolor\":\"#E5ECF6\",\"gridcolor\":\"white\",\"gridwidth\":2,\"linecolor\":\"white\",\"showbackground\":true,\"ticks\":\"\",\"zerolinecolor\":\"white\"},\"zaxis\":{\"backgroundcolor\":\"#E5ECF6\",\"gridcolor\":\"white\",\"gridwidth\":2,\"linecolor\":\"white\",\"showbackground\":true,\"ticks\":\"\",\"zerolinecolor\":\"white\"}},\"shapedefaults\":{\"line\":{\"color\":\"#2a3f5f\"}},\"ternary\":{\"aaxis\":{\"gridcolor\":\"white\",\"linecolor\":\"white\",\"ticks\":\"\"},\"baxis\":{\"gridcolor\":\"white\",\"linecolor\":\"white\",\"ticks\":\"\"},\"bgcolor\":\"#E5ECF6\",\"caxis\":{\"gridcolor\":\"white\",\"linecolor\":\"white\",\"ticks\":\"\"}},\"title\":{\"x\":0.05},\"xaxis\":{\"automargin\":true,\"gridcolor\":\"white\",\"linecolor\":\"white\",\"ticks\":\"\",\"title\":{\"standoff\":15},\"zerolinecolor\":\"white\",\"zerolinewidth\":2},\"yaxis\":{\"automargin\":true,\"gridcolor\":\"white\",\"linecolor\":\"white\",\"ticks\":\"\",\"title\":{\"standoff\":15},\"zerolinecolor\":\"white\",\"zerolinewidth\":2}}},\"title\":{\"text\":\"Class Distribution\"},\"width\":800,\"xaxis\":{\"title\":{\"text\":\"Attack Name\"}},\"yaxis\":{\"title\":{\"text\":\"Number of attacks\"}}},                        {\"responsive\": true}                    ).then(function(){\n",
              "                            \n",
              "var gd = document.getElementById('d13c2bce-5d9a-4a78-be0d-91d8fd9d6898');\n",
              "var x = new MutationObserver(function (mutations, observer) {{\n",
              "        var display = window.getComputedStyle(gd).display;\n",
              "        if (!display || display === 'none') {{\n",
              "            console.log([gd, 'removed!']);\n",
              "            Plotly.purge(gd);\n",
              "            observer.disconnect();\n",
              "        }}\n",
              "}});\n",
              "\n",
              "// Listen for the removal of the full notebook cells\n",
              "var notebookContainer = gd.closest('#notebook-container');\n",
              "if (notebookContainer) {{\n",
              "    x.observe(notebookContainer, {childList: true});\n",
              "}}\n",
              "\n",
              "// Listen for the clearing of the current output cell\n",
              "var outputEl = gd.closest('.output');\n",
              "if (outputEl) {{\n",
              "    x.observe(outputEl, {childList: true});\n",
              "}}\n",
              "\n",
              "                        })                };                });            </script>        </div>"
            ]
          },
          "metadata": {}
        }
      ],
      "source": [
        "fig = go.Figure(data=[\n",
        "    go.Bar(name='Benign', \n",
        "           y=df[\"Label\"].value_counts().values[0:1],\n",
        "           x=['Benign'],\n",
        "           text = df[\"Label\"].value_counts()[0:1],\n",
        "           orientation='v',\n",
        "           textposition='outside',),\n",
        "    go.Bar(name='Malicious', \n",
        "           y=df[\"Label\"].value_counts().values[1:2],\n",
        "           x=['Malicious'],\n",
        "           text = df[\"Label\"].value_counts()[1:2],\n",
        "           orientation='v',\n",
        "           textposition='outside',)\n",
        "])\n",
        "# Change the bar mode\n",
        "fig.update_layout(\n",
        "                  width=800,\n",
        "                  height=600,\n",
        "                  title=f'Class Distribution',\n",
        "                  yaxis_title='Number of attacks',\n",
        "                  xaxis_title='Attack Name',)\n",
        "iplot(fig)"
      ]
    },
    {
      "cell_type": "code",
      "execution_count": 20,
      "metadata": {
        "id": "xQnuY7LwWx7I"
      },
      "outputs": [],
      "source": [
        "df1 = df[df[\"Label\"] == \"Benign\"][:380943]\n",
        "df2 = df[df[\"Label\"] == \"Malicious\"][:380943]\n",
        "df_equal = pd.concat([ df1,df2], axis =0)"
      ]
    },
    {
      "cell_type": "code",
      "execution_count": 21,
      "metadata": {
        "id": "e8mRc-yyWzu6"
      },
      "outputs": [],
      "source": [
        "df_equal.replace(to_replace=\"Benign\", value=0, inplace=True)\n",
        "df_equal.replace(to_replace=\"Malicious\", value=1, inplace=True)"
      ]
    },
    {
      "cell_type": "code",
      "execution_count": 22,
      "metadata": {
        "id": "zLSU0iHEW12V"
      },
      "outputs": [],
      "source": [
        "train, test = train_test_split(df_equal, test_size=0.3, random_state=RANDOM_STATE_SEED)"
      ]
    },
    {
      "cell_type": "code",
      "execution_count": 23,
      "metadata": {
        "colab": {
          "base_uri": "https://localhost:8080/"
        },
        "id": "Bjjj3Ff0W3x1",
        "outputId": "49c10a1b-0e01-4279-b163-136ce608af15"
      },
      "outputs": [
        {
          "output_type": "execute_result",
          "data": {
            "text/plain": [
              "Index(['Dst Port', 'Protocol', 'Timestamp', 'Flow Duration', 'Tot Fwd Pkts',\n",
              "       'Tot Bwd Pkts', 'TotLen Fwd Pkts', 'TotLen Bwd Pkts', 'Fwd Pkt Len Max',\n",
              "       'Fwd Pkt Len Min', 'Fwd Pkt Len Mean', 'Fwd Pkt Len Std',\n",
              "       'Bwd Pkt Len Max', 'Bwd Pkt Len Min', 'Bwd Pkt Len Mean',\n",
              "       'Bwd Pkt Len Std', 'Flow Byts/s', 'Flow Pkts/s', 'Flow IAT Mean',\n",
              "       'Flow IAT Std', 'Flow IAT Max', 'Flow IAT Min', 'Fwd IAT Tot',\n",
              "       'Fwd IAT Mean', 'Fwd IAT Std', 'Fwd IAT Max', 'Fwd IAT Min',\n",
              "       'Bwd IAT Tot', 'Bwd IAT Mean', 'Bwd IAT Std', 'Bwd IAT Max',\n",
              "       'Bwd IAT Min', 'Fwd PSH Flags', 'Bwd PSH Flags', 'Fwd URG Flags',\n",
              "       'Bwd URG Flags', 'Fwd Header Len', 'Bwd Header Len', 'Fwd Pkts/s',\n",
              "       'Bwd Pkts/s', 'Pkt Len Min', 'Pkt Len Max', 'Pkt Len Mean',\n",
              "       'Pkt Len Std', 'Pkt Len Var', 'FIN Flag Cnt', 'SYN Flag Cnt',\n",
              "       'RST Flag Cnt', 'PSH Flag Cnt', 'ACK Flag Cnt', 'URG Flag Cnt',\n",
              "       'CWE Flag Count', 'ECE Flag Cnt', 'Down/Up Ratio', 'Pkt Size Avg',\n",
              "       'Fwd Seg Size Avg', 'Bwd Seg Size Avg', 'Fwd Byts/b Avg',\n",
              "       'Fwd Pkts/b Avg', 'Fwd Blk Rate Avg', 'Bwd Byts/b Avg',\n",
              "       'Bwd Pkts/b Avg', 'Bwd Blk Rate Avg', 'Subflow Fwd Pkts',\n",
              "       'Subflow Fwd Byts', 'Subflow Bwd Pkts', 'Subflow Bwd Byts',\n",
              "       'Init Fwd Win Byts', 'Init Bwd Win Byts', 'Fwd Act Data Pkts',\n",
              "       'Fwd Seg Size Min', 'Active Mean', 'Active Std', 'Active Max',\n",
              "       'Active Min', 'Idle Mean', 'Idle Std', 'Idle Max', 'Idle Min', 'Label'],\n",
              "      dtype='object')"
            ]
          },
          "metadata": {},
          "execution_count": 23
        }
      ],
      "source": [
        "train.columns"
      ]
    },
    {
      "cell_type": "code",
      "execution_count": 24,
      "metadata": {
        "colab": {
          "base_uri": "https://localhost:8080/"
        },
        "id": "LfytxWhnW6K9",
        "outputId": "4381c3d1-b8fc-48c6-d805-2f77c12526ef"
      },
      "outputs": [
        {
          "output_type": "stream",
          "name": "stdout",
          "text": [
            "<class 'pandas.core.frame.DataFrame'>\n",
            "Int64Index: 533320 entries, 283302 to 503594\n",
            "Data columns (total 80 columns):\n",
            " #   Column             Non-Null Count   Dtype  \n",
            "---  ------             --------------   -----  \n",
            " 0   Dst Port           533320 non-null  int64  \n",
            " 1   Protocol           533320 non-null  int64  \n",
            " 2   Timestamp          533320 non-null  object \n",
            " 3   Flow Duration      533320 non-null  int64  \n",
            " 4   Tot Fwd Pkts       533320 non-null  int64  \n",
            " 5   Tot Bwd Pkts       533320 non-null  int64  \n",
            " 6   TotLen Fwd Pkts    533320 non-null  int64  \n",
            " 7   TotLen Bwd Pkts    533320 non-null  int64  \n",
            " 8   Fwd Pkt Len Max    533320 non-null  int64  \n",
            " 9   Fwd Pkt Len Min    533320 non-null  int64  \n",
            " 10  Fwd Pkt Len Mean   533320 non-null  float64\n",
            " 11  Fwd Pkt Len Std    533320 non-null  float64\n",
            " 12  Bwd Pkt Len Max    533320 non-null  int64  \n",
            " 13  Bwd Pkt Len Min    533320 non-null  int64  \n",
            " 14  Bwd Pkt Len Mean   533320 non-null  float64\n",
            " 15  Bwd Pkt Len Std    533320 non-null  float64\n",
            " 16  Flow Byts/s        533320 non-null  float64\n",
            " 17  Flow Pkts/s        533320 non-null  float64\n",
            " 18  Flow IAT Mean      533320 non-null  float64\n",
            " 19  Flow IAT Std       533320 non-null  float64\n",
            " 20  Flow IAT Max       533320 non-null  int64  \n",
            " 21  Flow IAT Min       533320 non-null  int64  \n",
            " 22  Fwd IAT Tot        533320 non-null  int64  \n",
            " 23  Fwd IAT Mean       533320 non-null  float64\n",
            " 24  Fwd IAT Std        533320 non-null  float64\n",
            " 25  Fwd IAT Max        533320 non-null  int64  \n",
            " 26  Fwd IAT Min        533320 non-null  int64  \n",
            " 27  Bwd IAT Tot        533320 non-null  int64  \n",
            " 28  Bwd IAT Mean       533320 non-null  float64\n",
            " 29  Bwd IAT Std        533320 non-null  float64\n",
            " 30  Bwd IAT Max        533320 non-null  int64  \n",
            " 31  Bwd IAT Min        533320 non-null  int64  \n",
            " 32  Fwd PSH Flags      533320 non-null  int64  \n",
            " 33  Bwd PSH Flags      533320 non-null  int64  \n",
            " 34  Fwd URG Flags      533320 non-null  int64  \n",
            " 35  Bwd URG Flags      533320 non-null  int64  \n",
            " 36  Fwd Header Len     533320 non-null  int64  \n",
            " 37  Bwd Header Len     533320 non-null  int64  \n",
            " 38  Fwd Pkts/s         533320 non-null  float64\n",
            " 39  Bwd Pkts/s         533320 non-null  float64\n",
            " 40  Pkt Len Min        533320 non-null  int64  \n",
            " 41  Pkt Len Max        533320 non-null  int64  \n",
            " 42  Pkt Len Mean       533320 non-null  float64\n",
            " 43  Pkt Len Std        533320 non-null  float64\n",
            " 44  Pkt Len Var        533320 non-null  float64\n",
            " 45  FIN Flag Cnt       533320 non-null  int64  \n",
            " 46  SYN Flag Cnt       533320 non-null  int64  \n",
            " 47  RST Flag Cnt       533320 non-null  int64  \n",
            " 48  PSH Flag Cnt       533320 non-null  int64  \n",
            " 49  ACK Flag Cnt       533320 non-null  int64  \n",
            " 50  URG Flag Cnt       533320 non-null  int64  \n",
            " 51  CWE Flag Count     533320 non-null  int64  \n",
            " 52  ECE Flag Cnt       533320 non-null  int64  \n",
            " 53  Down/Up Ratio      533320 non-null  int64  \n",
            " 54  Pkt Size Avg       533320 non-null  float64\n",
            " 55  Fwd Seg Size Avg   533320 non-null  float64\n",
            " 56  Bwd Seg Size Avg   533320 non-null  float64\n",
            " 57  Fwd Byts/b Avg     533320 non-null  int64  \n",
            " 58  Fwd Pkts/b Avg     533320 non-null  int64  \n",
            " 59  Fwd Blk Rate Avg   533320 non-null  int64  \n",
            " 60  Bwd Byts/b Avg     533320 non-null  int64  \n",
            " 61  Bwd Pkts/b Avg     533320 non-null  int64  \n",
            " 62  Bwd Blk Rate Avg   533320 non-null  int64  \n",
            " 63  Subflow Fwd Pkts   533320 non-null  int64  \n",
            " 64  Subflow Fwd Byts   533320 non-null  int64  \n",
            " 65  Subflow Bwd Pkts   533320 non-null  int64  \n",
            " 66  Subflow Bwd Byts   533320 non-null  int64  \n",
            " 67  Init Fwd Win Byts  533320 non-null  int64  \n",
            " 68  Init Bwd Win Byts  533320 non-null  int64  \n",
            " 69  Fwd Act Data Pkts  533320 non-null  int64  \n",
            " 70  Fwd Seg Size Min   533320 non-null  int64  \n",
            " 71  Active Mean        533320 non-null  float64\n",
            " 72  Active Std         533320 non-null  float64\n",
            " 73  Active Max         533320 non-null  int64  \n",
            " 74  Active Min         533320 non-null  int64  \n",
            " 75  Idle Mean          533320 non-null  float64\n",
            " 76  Idle Std           533320 non-null  float64\n",
            " 77  Idle Max           533320 non-null  int64  \n",
            " 78  Idle Min           533320 non-null  int64  \n",
            " 79  Label              533320 non-null  int64  \n",
            "dtypes: float64(24), int64(55), object(1)\n",
            "memory usage: 329.6+ MB\n"
          ]
        }
      ],
      "source": [
        "# feature info\n",
        "train.info()\n"
      ]
    },
    {
      "cell_type": "markdown",
      "metadata": {
        "id": "I76oGz3HW9U0"
      },
      "source": [
        "All of our data except the 'Timestamp' column is numerical. These numerical columns contain different ranges of values, which can confuse our model. Thus, we must normalize our data"
      ]
    },
    {
      "cell_type": "code",
      "execution_count": 25,
      "metadata": {
        "id": "72VDTnpBW-RN"
      },
      "outputs": [],
      "source": [
        "min_max_scaler = MinMaxScaler().fit(train[['Flow Duration', 'Tot Fwd Pkts',\n",
        "       'Tot Bwd Pkts', 'TotLen Fwd Pkts', 'TotLen Bwd Pkts', 'Fwd Pkt Len Max',\n",
        "       'Fwd Pkt Len Min', 'Fwd Pkt Len Mean', 'Fwd Pkt Len Std',\n",
        "       'Bwd Pkt Len Max', 'Bwd Pkt Len Min', 'Bwd Pkt Len Mean',\n",
        "       'Bwd Pkt Len Std', 'Flow Byts/s', 'Flow Pkts/s', 'Flow IAT Mean',\n",
        "       'Flow IAT Std', 'Flow IAT Max', 'Flow IAT Min', 'Fwd IAT Tot',\n",
        "       'Fwd IAT Mean', 'Fwd IAT Std', 'Fwd IAT Max', 'Fwd IAT Min',\n",
        "       'Bwd IAT Tot', 'Bwd IAT Mean', 'Bwd IAT Std', 'Bwd IAT Max',\n",
        "       'Bwd IAT Min', 'Fwd PSH Flags', 'Bwd PSH Flags', 'Fwd URG Flags',\n",
        "       'Bwd URG Flags', 'Fwd Header Len', 'Bwd Header Len', 'Fwd Pkts/s',\n",
        "       'Bwd Pkts/s', 'Pkt Len Min', 'Pkt Len Max', 'Pkt Len Mean',\n",
        "       'Pkt Len Std', 'Pkt Len Var', 'FIN Flag Cnt', 'SYN Flag Cnt',\n",
        "       'RST Flag Cnt', 'PSH Flag Cnt', 'ACK Flag Cnt', 'URG Flag Cnt',\n",
        "       'CWE Flag Count', 'ECE Flag Cnt', 'Down/Up Ratio', 'Pkt Size Avg',\n",
        "       'Fwd Seg Size Avg', 'Bwd Seg Size Avg', 'Fwd Byts/b Avg',\n",
        "       'Fwd Pkts/b Avg', 'Fwd Blk Rate Avg', 'Bwd Byts/b Avg',\n",
        "       'Bwd Pkts/b Avg', 'Bwd Blk Rate Avg', 'Subflow Fwd Pkts',\n",
        "       'Subflow Fwd Byts', 'Subflow Bwd Pkts', 'Subflow Bwd Byts',\n",
        "       'Init Fwd Win Byts', 'Init Bwd Win Byts', 'Fwd Act Data Pkts',\n",
        "       'Fwd Seg Size Min', 'Active Mean', 'Active Std', 'Active Max',\n",
        "       'Active Min', 'Idle Mean', 'Idle Std', 'Idle Max', 'Idle Min']])"
      ]
    },
    {
      "cell_type": "code",
      "execution_count": 26,
      "metadata": {
        "id": "dCee8_AAXC_3"
      },
      "outputs": [],
      "source": [
        "min_max_scaler = MinMaxScaler().fit(train[['Flow Duration', 'Tot Fwd Pkts',\n",
        "       'Tot Bwd Pkts', 'TotLen Fwd Pkts', 'TotLen Bwd Pkts', 'Fwd Pkt Len Max',\n",
        "       'Fwd Pkt Len Min', 'Fwd Pkt Len Mean', 'Fwd Pkt Len Std',\n",
        "       'Bwd Pkt Len Max', 'Bwd Pkt Len Min', 'Bwd Pkt Len Mean',\n",
        "       'Bwd Pkt Len Std', 'Flow Byts/s', 'Flow Pkts/s', 'Flow IAT Mean',\n",
        "       'Flow IAT Std', 'Flow IAT Max', 'Flow IAT Min', 'Fwd IAT Tot',\n",
        "       'Fwd IAT Mean', 'Fwd IAT Std', 'Fwd IAT Max', 'Fwd IAT Min',\n",
        "       'Bwd IAT Tot', 'Bwd IAT Mean', 'Bwd IAT Std', 'Bwd IAT Max',\n",
        "       'Bwd IAT Min', 'Fwd PSH Flags', 'Bwd PSH Flags', 'Fwd URG Flags',\n",
        "       'Bwd URG Flags', 'Fwd Header Len', 'Bwd Header Len', 'Fwd Pkts/s',\n",
        "       'Bwd Pkts/s', 'Pkt Len Min', 'Pkt Len Max', 'Pkt Len Mean',\n",
        "       'Pkt Len Std', 'Pkt Len Var', 'FIN Flag Cnt', 'SYN Flag Cnt',\n",
        "       'RST Flag Cnt', 'PSH Flag Cnt', 'ACK Flag Cnt', 'URG Flag Cnt',\n",
        "       'CWE Flag Count', 'ECE Flag Cnt', 'Down/Up Ratio', 'Pkt Size Avg',\n",
        "       'Fwd Seg Size Avg', 'Bwd Seg Size Avg', 'Fwd Byts/b Avg',\n",
        "       'Fwd Pkts/b Avg', 'Fwd Blk Rate Avg', 'Bwd Byts/b Avg',\n",
        "       'Bwd Pkts/b Avg', 'Bwd Blk Rate Avg', 'Subflow Fwd Pkts',\n",
        "       'Subflow Fwd Byts', 'Subflow Bwd Pkts', 'Subflow Bwd Byts',\n",
        "       'Init Fwd Win Byts', 'Init Bwd Win Byts', 'Fwd Act Data Pkts',\n",
        "       'Fwd Seg Size Min', 'Active Mean', 'Active Std', 'Active Max',\n",
        "       'Active Min', 'Idle Mean', 'Idle Std', 'Idle Max', 'Idle Min']])"
      ]
    },
    {
      "cell_type": "code",
      "execution_count": 27,
      "metadata": {
        "colab": {
          "base_uri": "https://localhost:8080/",
          "height": 713
        },
        "id": "KwLZW8sGXGbS",
        "outputId": "d4bb90df-709a-4938-85ec-8a9e1964cb87"
      },
      "outputs": [
        {
          "output_type": "execute_result",
          "data": {
            "text/plain": [
              "        Dst Port  Protocol            Timestamp  Flow Duration  Tot Fwd Pkts  \\\n",
              "283302        22         6  14/02/2018 02:44:59              6             1   \n",
              "480713       445         6  14/02/2018 09:28:57         925131             7   \n",
              "537462     65056         6  14/02/2018 12:25:41             41             2   \n",
              "30261         21         6  14/02/2018 10:48:35             20             1   \n",
              "302725        22         6  14/02/2018 03:07:55         339914            22   \n",
              "...          ...       ...                  ...            ...           ...   \n",
              "641600        53        17  14/02/2018 11:21:11            853             1   \n",
              "748743      3389         6  14/02/2018 09:18:23        2510060             9   \n",
              "513629        53        17  14/02/2018 05:22:36          11046             1   \n",
              "290961        22         6  14/02/2018 03:02:16         281201            22   \n",
              "503594        80         6  14/02/2018 08:34:37        1024073             6   \n",
              "\n",
              "        Tot Bwd Pkts  TotLen Fwd Pkts  TotLen Bwd Pkts  Fwd Pkt Len Max  \\\n",
              "283302             1                0                0                0   \n",
              "480713             5              364              582              103   \n",
              "537462             0                0                0                0   \n",
              "30261              1                0                0                0   \n",
              "302725            22             1912             2665              640   \n",
              "...              ...              ...              ...              ...   \n",
              "641600             1               42              102               42   \n",
              "748743             7             1148             1581              677   \n",
              "513629             1               64              145               64   \n",
              "290961            22             1912             2665              640   \n",
              "503594             5              283             1734              213   \n",
              "\n",
              "        Fwd Pkt Len Min  ...  Fwd Seg Size Min  Active Mean  Active Std  \\\n",
              "283302                0  ...                32          0.0         0.0   \n",
              "480713                0  ...                20          0.0         0.0   \n",
              "537462                0  ...                20          0.0         0.0   \n",
              "30261                 0  ...                40          0.0         0.0   \n",
              "302725                0  ...                32          0.0         0.0   \n",
              "...                 ...  ...               ...          ...         ...   \n",
              "641600               42  ...                 8          0.0         0.0   \n",
              "748743                0  ...                20          0.0         0.0   \n",
              "513629               64  ...                 8          0.0         0.0   \n",
              "290961                0  ...                32          0.0         0.0   \n",
              "503594                0  ...                20          0.0         0.0   \n",
              "\n",
              "        Active Max  Active Min  Idle Mean  Idle Std  Idle Max  Idle Min  Label  \n",
              "283302           0           0        0.0       0.0         0         0      1  \n",
              "480713           0           0        0.0       0.0         0         0      0  \n",
              "537462           0           0        0.0       0.0         0         0      0  \n",
              "30261            0           0        0.0       0.0         0         0      1  \n",
              "302725           0           0        0.0       0.0         0         0      1  \n",
              "...            ...         ...        ...       ...       ...       ...    ...  \n",
              "641600           0           0        0.0       0.0         0         0      0  \n",
              "748743           0           0        0.0       0.0         0         0      0  \n",
              "513629           0           0        0.0       0.0         0         0      0  \n",
              "290961           0           0        0.0       0.0         0         0      1  \n",
              "503594           0           0        0.0       0.0         0         0      0  \n",
              "\n",
              "[533320 rows x 80 columns]"
            ],
            "text/html": [
              "\n",
              "  <div id=\"df-ca295f8e-3be5-49ed-8aeb-cd7a7bdf867c\">\n",
              "    <div class=\"colab-df-container\">\n",
              "      <div>\n",
              "<style scoped>\n",
              "    .dataframe tbody tr th:only-of-type {\n",
              "        vertical-align: middle;\n",
              "    }\n",
              "\n",
              "    .dataframe tbody tr th {\n",
              "        vertical-align: top;\n",
              "    }\n",
              "\n",
              "    .dataframe thead th {\n",
              "        text-align: right;\n",
              "    }\n",
              "</style>\n",
              "<table border=\"1\" class=\"dataframe\">\n",
              "  <thead>\n",
              "    <tr style=\"text-align: right;\">\n",
              "      <th></th>\n",
              "      <th>Dst Port</th>\n",
              "      <th>Protocol</th>\n",
              "      <th>Timestamp</th>\n",
              "      <th>Flow Duration</th>\n",
              "      <th>Tot Fwd Pkts</th>\n",
              "      <th>Tot Bwd Pkts</th>\n",
              "      <th>TotLen Fwd Pkts</th>\n",
              "      <th>TotLen Bwd Pkts</th>\n",
              "      <th>Fwd Pkt Len Max</th>\n",
              "      <th>Fwd Pkt Len Min</th>\n",
              "      <th>...</th>\n",
              "      <th>Fwd Seg Size Min</th>\n",
              "      <th>Active Mean</th>\n",
              "      <th>Active Std</th>\n",
              "      <th>Active Max</th>\n",
              "      <th>Active Min</th>\n",
              "      <th>Idle Mean</th>\n",
              "      <th>Idle Std</th>\n",
              "      <th>Idle Max</th>\n",
              "      <th>Idle Min</th>\n",
              "      <th>Label</th>\n",
              "    </tr>\n",
              "  </thead>\n",
              "  <tbody>\n",
              "    <tr>\n",
              "      <th>283302</th>\n",
              "      <td>22</td>\n",
              "      <td>6</td>\n",
              "      <td>14/02/2018 02:44:59</td>\n",
              "      <td>6</td>\n",
              "      <td>1</td>\n",
              "      <td>1</td>\n",
              "      <td>0</td>\n",
              "      <td>0</td>\n",
              "      <td>0</td>\n",
              "      <td>0</td>\n",
              "      <td>...</td>\n",
              "      <td>32</td>\n",
              "      <td>0.0</td>\n",
              "      <td>0.0</td>\n",
              "      <td>0</td>\n",
              "      <td>0</td>\n",
              "      <td>0.0</td>\n",
              "      <td>0.0</td>\n",
              "      <td>0</td>\n",
              "      <td>0</td>\n",
              "      <td>1</td>\n",
              "    </tr>\n",
              "    <tr>\n",
              "      <th>480713</th>\n",
              "      <td>445</td>\n",
              "      <td>6</td>\n",
              "      <td>14/02/2018 09:28:57</td>\n",
              "      <td>925131</td>\n",
              "      <td>7</td>\n",
              "      <td>5</td>\n",
              "      <td>364</td>\n",
              "      <td>582</td>\n",
              "      <td>103</td>\n",
              "      <td>0</td>\n",
              "      <td>...</td>\n",
              "      <td>20</td>\n",
              "      <td>0.0</td>\n",
              "      <td>0.0</td>\n",
              "      <td>0</td>\n",
              "      <td>0</td>\n",
              "      <td>0.0</td>\n",
              "      <td>0.0</td>\n",
              "      <td>0</td>\n",
              "      <td>0</td>\n",
              "      <td>0</td>\n",
              "    </tr>\n",
              "    <tr>\n",
              "      <th>537462</th>\n",
              "      <td>65056</td>\n",
              "      <td>6</td>\n",
              "      <td>14/02/2018 12:25:41</td>\n",
              "      <td>41</td>\n",
              "      <td>2</td>\n",
              "      <td>0</td>\n",
              "      <td>0</td>\n",
              "      <td>0</td>\n",
              "      <td>0</td>\n",
              "      <td>0</td>\n",
              "      <td>...</td>\n",
              "      <td>20</td>\n",
              "      <td>0.0</td>\n",
              "      <td>0.0</td>\n",
              "      <td>0</td>\n",
              "      <td>0</td>\n",
              "      <td>0.0</td>\n",
              "      <td>0.0</td>\n",
              "      <td>0</td>\n",
              "      <td>0</td>\n",
              "      <td>0</td>\n",
              "    </tr>\n",
              "    <tr>\n",
              "      <th>30261</th>\n",
              "      <td>21</td>\n",
              "      <td>6</td>\n",
              "      <td>14/02/2018 10:48:35</td>\n",
              "      <td>20</td>\n",
              "      <td>1</td>\n",
              "      <td>1</td>\n",
              "      <td>0</td>\n",
              "      <td>0</td>\n",
              "      <td>0</td>\n",
              "      <td>0</td>\n",
              "      <td>...</td>\n",
              "      <td>40</td>\n",
              "      <td>0.0</td>\n",
              "      <td>0.0</td>\n",
              "      <td>0</td>\n",
              "      <td>0</td>\n",
              "      <td>0.0</td>\n",
              "      <td>0.0</td>\n",
              "      <td>0</td>\n",
              "      <td>0</td>\n",
              "      <td>1</td>\n",
              "    </tr>\n",
              "    <tr>\n",
              "      <th>302725</th>\n",
              "      <td>22</td>\n",
              "      <td>6</td>\n",
              "      <td>14/02/2018 03:07:55</td>\n",
              "      <td>339914</td>\n",
              "      <td>22</td>\n",
              "      <td>22</td>\n",
              "      <td>1912</td>\n",
              "      <td>2665</td>\n",
              "      <td>640</td>\n",
              "      <td>0</td>\n",
              "      <td>...</td>\n",
              "      <td>32</td>\n",
              "      <td>0.0</td>\n",
              "      <td>0.0</td>\n",
              "      <td>0</td>\n",
              "      <td>0</td>\n",
              "      <td>0.0</td>\n",
              "      <td>0.0</td>\n",
              "      <td>0</td>\n",
              "      <td>0</td>\n",
              "      <td>1</td>\n",
              "    </tr>\n",
              "    <tr>\n",
              "      <th>...</th>\n",
              "      <td>...</td>\n",
              "      <td>...</td>\n",
              "      <td>...</td>\n",
              "      <td>...</td>\n",
              "      <td>...</td>\n",
              "      <td>...</td>\n",
              "      <td>...</td>\n",
              "      <td>...</td>\n",
              "      <td>...</td>\n",
              "      <td>...</td>\n",
              "      <td>...</td>\n",
              "      <td>...</td>\n",
              "      <td>...</td>\n",
              "      <td>...</td>\n",
              "      <td>...</td>\n",
              "      <td>...</td>\n",
              "      <td>...</td>\n",
              "      <td>...</td>\n",
              "      <td>...</td>\n",
              "      <td>...</td>\n",
              "      <td>...</td>\n",
              "    </tr>\n",
              "    <tr>\n",
              "      <th>641600</th>\n",
              "      <td>53</td>\n",
              "      <td>17</td>\n",
              "      <td>14/02/2018 11:21:11</td>\n",
              "      <td>853</td>\n",
              "      <td>1</td>\n",
              "      <td>1</td>\n",
              "      <td>42</td>\n",
              "      <td>102</td>\n",
              "      <td>42</td>\n",
              "      <td>42</td>\n",
              "      <td>...</td>\n",
              "      <td>8</td>\n",
              "      <td>0.0</td>\n",
              "      <td>0.0</td>\n",
              "      <td>0</td>\n",
              "      <td>0</td>\n",
              "      <td>0.0</td>\n",
              "      <td>0.0</td>\n",
              "      <td>0</td>\n",
              "      <td>0</td>\n",
              "      <td>0</td>\n",
              "    </tr>\n",
              "    <tr>\n",
              "      <th>748743</th>\n",
              "      <td>3389</td>\n",
              "      <td>6</td>\n",
              "      <td>14/02/2018 09:18:23</td>\n",
              "      <td>2510060</td>\n",
              "      <td>9</td>\n",
              "      <td>7</td>\n",
              "      <td>1148</td>\n",
              "      <td>1581</td>\n",
              "      <td>677</td>\n",
              "      <td>0</td>\n",
              "      <td>...</td>\n",
              "      <td>20</td>\n",
              "      <td>0.0</td>\n",
              "      <td>0.0</td>\n",
              "      <td>0</td>\n",
              "      <td>0</td>\n",
              "      <td>0.0</td>\n",
              "      <td>0.0</td>\n",
              "      <td>0</td>\n",
              "      <td>0</td>\n",
              "      <td>0</td>\n",
              "    </tr>\n",
              "    <tr>\n",
              "      <th>513629</th>\n",
              "      <td>53</td>\n",
              "      <td>17</td>\n",
              "      <td>14/02/2018 05:22:36</td>\n",
              "      <td>11046</td>\n",
              "      <td>1</td>\n",
              "      <td>1</td>\n",
              "      <td>64</td>\n",
              "      <td>145</td>\n",
              "      <td>64</td>\n",
              "      <td>64</td>\n",
              "      <td>...</td>\n",
              "      <td>8</td>\n",
              "      <td>0.0</td>\n",
              "      <td>0.0</td>\n",
              "      <td>0</td>\n",
              "      <td>0</td>\n",
              "      <td>0.0</td>\n",
              "      <td>0.0</td>\n",
              "      <td>0</td>\n",
              "      <td>0</td>\n",
              "      <td>0</td>\n",
              "    </tr>\n",
              "    <tr>\n",
              "      <th>290961</th>\n",
              "      <td>22</td>\n",
              "      <td>6</td>\n",
              "      <td>14/02/2018 03:02:16</td>\n",
              "      <td>281201</td>\n",
              "      <td>22</td>\n",
              "      <td>22</td>\n",
              "      <td>1912</td>\n",
              "      <td>2665</td>\n",
              "      <td>640</td>\n",
              "      <td>0</td>\n",
              "      <td>...</td>\n",
              "      <td>32</td>\n",
              "      <td>0.0</td>\n",
              "      <td>0.0</td>\n",
              "      <td>0</td>\n",
              "      <td>0</td>\n",
              "      <td>0.0</td>\n",
              "      <td>0.0</td>\n",
              "      <td>0</td>\n",
              "      <td>0</td>\n",
              "      <td>1</td>\n",
              "    </tr>\n",
              "    <tr>\n",
              "      <th>503594</th>\n",
              "      <td>80</td>\n",
              "      <td>6</td>\n",
              "      <td>14/02/2018 08:34:37</td>\n",
              "      <td>1024073</td>\n",
              "      <td>6</td>\n",
              "      <td>5</td>\n",
              "      <td>283</td>\n",
              "      <td>1734</td>\n",
              "      <td>213</td>\n",
              "      <td>0</td>\n",
              "      <td>...</td>\n",
              "      <td>20</td>\n",
              "      <td>0.0</td>\n",
              "      <td>0.0</td>\n",
              "      <td>0</td>\n",
              "      <td>0</td>\n",
              "      <td>0.0</td>\n",
              "      <td>0.0</td>\n",
              "      <td>0</td>\n",
              "      <td>0</td>\n",
              "      <td>0</td>\n",
              "    </tr>\n",
              "  </tbody>\n",
              "</table>\n",
              "<p>533320 rows × 80 columns</p>\n",
              "</div>\n",
              "      <button class=\"colab-df-convert\" onclick=\"convertToInteractive('df-ca295f8e-3be5-49ed-8aeb-cd7a7bdf867c')\"\n",
              "              title=\"Convert this dataframe to an interactive table.\"\n",
              "              style=\"display:none;\">\n",
              "        \n",
              "  <svg xmlns=\"http://www.w3.org/2000/svg\" height=\"24px\"viewBox=\"0 0 24 24\"\n",
              "       width=\"24px\">\n",
              "    <path d=\"M0 0h24v24H0V0z\" fill=\"none\"/>\n",
              "    <path d=\"M18.56 5.44l.94 2.06.94-2.06 2.06-.94-2.06-.94-.94-2.06-.94 2.06-2.06.94zm-11 1L8.5 8.5l.94-2.06 2.06-.94-2.06-.94L8.5 2.5l-.94 2.06-2.06.94zm10 10l.94 2.06.94-2.06 2.06-.94-2.06-.94-.94-2.06-.94 2.06-2.06.94z\"/><path d=\"M17.41 7.96l-1.37-1.37c-.4-.4-.92-.59-1.43-.59-.52 0-1.04.2-1.43.59L10.3 9.45l-7.72 7.72c-.78.78-.78 2.05 0 2.83L4 21.41c.39.39.9.59 1.41.59.51 0 1.02-.2 1.41-.59l7.78-7.78 2.81-2.81c.8-.78.8-2.07 0-2.86zM5.41 20L4 18.59l7.72-7.72 1.47 1.35L5.41 20z\"/>\n",
              "  </svg>\n",
              "      </button>\n",
              "      \n",
              "  <style>\n",
              "    .colab-df-container {\n",
              "      display:flex;\n",
              "      flex-wrap:wrap;\n",
              "      gap: 12px;\n",
              "    }\n",
              "\n",
              "    .colab-df-convert {\n",
              "      background-color: #E8F0FE;\n",
              "      border: none;\n",
              "      border-radius: 50%;\n",
              "      cursor: pointer;\n",
              "      display: none;\n",
              "      fill: #1967D2;\n",
              "      height: 32px;\n",
              "      padding: 0 0 0 0;\n",
              "      width: 32px;\n",
              "    }\n",
              "\n",
              "    .colab-df-convert:hover {\n",
              "      background-color: #E2EBFA;\n",
              "      box-shadow: 0px 1px 2px rgba(60, 64, 67, 0.3), 0px 1px 3px 1px rgba(60, 64, 67, 0.15);\n",
              "      fill: #174EA6;\n",
              "    }\n",
              "\n",
              "    [theme=dark] .colab-df-convert {\n",
              "      background-color: #3B4455;\n",
              "      fill: #D2E3FC;\n",
              "    }\n",
              "\n",
              "    [theme=dark] .colab-df-convert:hover {\n",
              "      background-color: #434B5C;\n",
              "      box-shadow: 0px 1px 3px 1px rgba(0, 0, 0, 0.15);\n",
              "      filter: drop-shadow(0px 1px 2px rgba(0, 0, 0, 0.3));\n",
              "      fill: #FFFFFF;\n",
              "    }\n",
              "  </style>\n",
              "\n",
              "      <script>\n",
              "        const buttonEl =\n",
              "          document.querySelector('#df-ca295f8e-3be5-49ed-8aeb-cd7a7bdf867c button.colab-df-convert');\n",
              "        buttonEl.style.display =\n",
              "          google.colab.kernel.accessAllowed ? 'block' : 'none';\n",
              "\n",
              "        async function convertToInteractive(key) {\n",
              "          const element = document.querySelector('#df-ca295f8e-3be5-49ed-8aeb-cd7a7bdf867c');\n",
              "          const dataTable =\n",
              "            await google.colab.kernel.invokeFunction('convertToInteractive',\n",
              "                                                     [key], {});\n",
              "          if (!dataTable) return;\n",
              "\n",
              "          const docLinkHtml = 'Like what you see? Visit the ' +\n",
              "            '<a target=\"_blank\" href=https://colab.research.google.com/notebooks/data_table.ipynb>data table notebook</a>'\n",
              "            + ' to learn more about interactive tables.';\n",
              "          element.innerHTML = '';\n",
              "          dataTable['output_type'] = 'display_data';\n",
              "          await google.colab.output.renderOutput(dataTable, element);\n",
              "          const docLink = document.createElement('div');\n",
              "          docLink.innerHTML = docLinkHtml;\n",
              "          element.appendChild(docLink);\n",
              "        }\n",
              "      </script>\n",
              "    </div>\n",
              "  </div>\n",
              "  "
            ]
          },
          "metadata": {},
          "execution_count": 27
        }
      ],
      "source": [
        "train"
      ]
    },
    {
      "cell_type": "code",
      "execution_count": 28,
      "metadata": {
        "colab": {
          "base_uri": "https://localhost:8080/",
          "height": 411
        },
        "id": "BYou3mIxXIor",
        "outputId": "c99db504-864a-404f-801e-485701bfd8d6"
      },
      "outputs": [
        {
          "output_type": "execute_result",
          "data": {
            "text/plain": [
              "            Dst Port       Protocol  Flow Duration   Tot Fwd Pkts  \\\n",
              "count  533320.000000  533320.000000   5.333200e+05  533320.000000   \n",
              "mean     3650.678158       7.610885   6.631718e+06       6.163572   \n",
              "std     12513.138055       3.999449   2.855006e+07      33.051640   \n",
              "min         0.000000       0.000000  -1.187300e+10       1.000000   \n",
              "25%        21.000000       6.000000   6.000000e+00       1.000000   \n",
              "50%        22.000000       6.000000   4.510000e+02       1.000000   \n",
              "75%       137.000000       6.000000   3.814360e+05       8.000000   \n",
              "max     65532.000000      17.000000   1.200000e+08    4909.000000   \n",
              "\n",
              "        Tot Bwd Pkts  TotLen Fwd Pkts  TotLen Bwd Pkts  Fwd Pkt Len Max  \\\n",
              "count  533320.000000     5.333200e+05     5.333200e+05    533320.000000   \n",
              "mean        6.735007     4.919835e+02     3.255189e+03       181.760753   \n",
              "std        81.236709     1.864088e+04     1.168716e+05       302.062092   \n",
              "min         0.000000     0.000000e+00     0.000000e+00         0.000000   \n",
              "25%         1.000000     0.000000e+00     0.000000e+00         0.000000   \n",
              "50%         1.000000     2.000000e+00     0.000000e+00         1.000000   \n",
              "75%         7.000000     5.900000e+02     1.581000e+03       343.000000   \n",
              "max      8808.000000     8.568642e+06     1.282239e+07     64440.000000   \n",
              "\n",
              "       Fwd Pkt Len Min  Fwd Pkt Len Mean  ...  Fwd Seg Size Min   Active Mean  \\\n",
              "count    533320.000000     533320.000000  ...     533320.000000  5.333200e+05   \n",
              "mean          6.409756         36.857375  ...         26.080762  4.181302e+04   \n",
              "std          17.559980         54.511419  ...         11.205754  5.152052e+05   \n",
              "min           0.000000          0.000000  ...          0.000000  0.000000e+00   \n",
              "25%           0.000000          0.000000  ...         20.000000  0.000000e+00   \n",
              "50%           0.000000          0.500000  ...         32.000000  0.000000e+00   \n",
              "75%           0.000000         64.682416  ...         40.000000  0.000000e+00   \n",
              "max        1460.000000      11217.025225  ...         40.000000  1.102401e+08   \n",
              "\n",
              "         Active Std    Active Max    Active Min     Idle Mean      Idle Std  \\\n",
              "count  5.333200e+05  5.333200e+05  5.333200e+05  5.333200e+05  5.333200e+05   \n",
              "mean   1.674815e+04  6.969863e+04  3.263120e+04  1.714177e+06  7.294516e+04   \n",
              "std    2.029426e+05  6.577756e+05  4.946701e+05  8.987485e+06  1.278775e+06   \n",
              "min    0.000000e+00  0.000000e+00  0.000000e+00  0.000000e+00  0.000000e+00   \n",
              "25%    0.000000e+00  0.000000e+00  0.000000e+00  0.000000e+00  0.000000e+00   \n",
              "50%    0.000000e+00  0.000000e+00  0.000000e+00  0.000000e+00  0.000000e+00   \n",
              "75%    0.000000e+00  0.000000e+00  0.000000e+00  0.000000e+00  0.000000e+00   \n",
              "max    5.677513e+07  1.102401e+08  1.102401e+08  1.199797e+08  6.050963e+07   \n",
              "\n",
              "           Idle Max      Idle Min          Label  \n",
              "count  5.333200e+05  5.333200e+05  533320.000000  \n",
              "mean   1.769709e+06  1.644659e+06       0.499436  \n",
              "std    9.222492e+06  8.854061e+06       0.500000  \n",
              "min    0.000000e+00  0.000000e+00       0.000000  \n",
              "25%    0.000000e+00  0.000000e+00       0.000000  \n",
              "50%    0.000000e+00  0.000000e+00       0.000000  \n",
              "75%    0.000000e+00  0.000000e+00       1.000000  \n",
              "max    1.199797e+08  1.199797e+08       1.000000  \n",
              "\n",
              "[8 rows x 79 columns]"
            ],
            "text/html": [
              "\n",
              "  <div id=\"df-7070aa38-34ea-47d1-b4b3-7234657f238b\">\n",
              "    <div class=\"colab-df-container\">\n",
              "      <div>\n",
              "<style scoped>\n",
              "    .dataframe tbody tr th:only-of-type {\n",
              "        vertical-align: middle;\n",
              "    }\n",
              "\n",
              "    .dataframe tbody tr th {\n",
              "        vertical-align: top;\n",
              "    }\n",
              "\n",
              "    .dataframe thead th {\n",
              "        text-align: right;\n",
              "    }\n",
              "</style>\n",
              "<table border=\"1\" class=\"dataframe\">\n",
              "  <thead>\n",
              "    <tr style=\"text-align: right;\">\n",
              "      <th></th>\n",
              "      <th>Dst Port</th>\n",
              "      <th>Protocol</th>\n",
              "      <th>Flow Duration</th>\n",
              "      <th>Tot Fwd Pkts</th>\n",
              "      <th>Tot Bwd Pkts</th>\n",
              "      <th>TotLen Fwd Pkts</th>\n",
              "      <th>TotLen Bwd Pkts</th>\n",
              "      <th>Fwd Pkt Len Max</th>\n",
              "      <th>Fwd Pkt Len Min</th>\n",
              "      <th>Fwd Pkt Len Mean</th>\n",
              "      <th>...</th>\n",
              "      <th>Fwd Seg Size Min</th>\n",
              "      <th>Active Mean</th>\n",
              "      <th>Active Std</th>\n",
              "      <th>Active Max</th>\n",
              "      <th>Active Min</th>\n",
              "      <th>Idle Mean</th>\n",
              "      <th>Idle Std</th>\n",
              "      <th>Idle Max</th>\n",
              "      <th>Idle Min</th>\n",
              "      <th>Label</th>\n",
              "    </tr>\n",
              "  </thead>\n",
              "  <tbody>\n",
              "    <tr>\n",
              "      <th>count</th>\n",
              "      <td>533320.000000</td>\n",
              "      <td>533320.000000</td>\n",
              "      <td>5.333200e+05</td>\n",
              "      <td>533320.000000</td>\n",
              "      <td>533320.000000</td>\n",
              "      <td>5.333200e+05</td>\n",
              "      <td>5.333200e+05</td>\n",
              "      <td>533320.000000</td>\n",
              "      <td>533320.000000</td>\n",
              "      <td>533320.000000</td>\n",
              "      <td>...</td>\n",
              "      <td>533320.000000</td>\n",
              "      <td>5.333200e+05</td>\n",
              "      <td>5.333200e+05</td>\n",
              "      <td>5.333200e+05</td>\n",
              "      <td>5.333200e+05</td>\n",
              "      <td>5.333200e+05</td>\n",
              "      <td>5.333200e+05</td>\n",
              "      <td>5.333200e+05</td>\n",
              "      <td>5.333200e+05</td>\n",
              "      <td>533320.000000</td>\n",
              "    </tr>\n",
              "    <tr>\n",
              "      <th>mean</th>\n",
              "      <td>3650.678158</td>\n",
              "      <td>7.610885</td>\n",
              "      <td>6.631718e+06</td>\n",
              "      <td>6.163572</td>\n",
              "      <td>6.735007</td>\n",
              "      <td>4.919835e+02</td>\n",
              "      <td>3.255189e+03</td>\n",
              "      <td>181.760753</td>\n",
              "      <td>6.409756</td>\n",
              "      <td>36.857375</td>\n",
              "      <td>...</td>\n",
              "      <td>26.080762</td>\n",
              "      <td>4.181302e+04</td>\n",
              "      <td>1.674815e+04</td>\n",
              "      <td>6.969863e+04</td>\n",
              "      <td>3.263120e+04</td>\n",
              "      <td>1.714177e+06</td>\n",
              "      <td>7.294516e+04</td>\n",
              "      <td>1.769709e+06</td>\n",
              "      <td>1.644659e+06</td>\n",
              "      <td>0.499436</td>\n",
              "    </tr>\n",
              "    <tr>\n",
              "      <th>std</th>\n",
              "      <td>12513.138055</td>\n",
              "      <td>3.999449</td>\n",
              "      <td>2.855006e+07</td>\n",
              "      <td>33.051640</td>\n",
              "      <td>81.236709</td>\n",
              "      <td>1.864088e+04</td>\n",
              "      <td>1.168716e+05</td>\n",
              "      <td>302.062092</td>\n",
              "      <td>17.559980</td>\n",
              "      <td>54.511419</td>\n",
              "      <td>...</td>\n",
              "      <td>11.205754</td>\n",
              "      <td>5.152052e+05</td>\n",
              "      <td>2.029426e+05</td>\n",
              "      <td>6.577756e+05</td>\n",
              "      <td>4.946701e+05</td>\n",
              "      <td>8.987485e+06</td>\n",
              "      <td>1.278775e+06</td>\n",
              "      <td>9.222492e+06</td>\n",
              "      <td>8.854061e+06</td>\n",
              "      <td>0.500000</td>\n",
              "    </tr>\n",
              "    <tr>\n",
              "      <th>min</th>\n",
              "      <td>0.000000</td>\n",
              "      <td>0.000000</td>\n",
              "      <td>-1.187300e+10</td>\n",
              "      <td>1.000000</td>\n",
              "      <td>0.000000</td>\n",
              "      <td>0.000000e+00</td>\n",
              "      <td>0.000000e+00</td>\n",
              "      <td>0.000000</td>\n",
              "      <td>0.000000</td>\n",
              "      <td>0.000000</td>\n",
              "      <td>...</td>\n",
              "      <td>0.000000</td>\n",
              "      <td>0.000000e+00</td>\n",
              "      <td>0.000000e+00</td>\n",
              "      <td>0.000000e+00</td>\n",
              "      <td>0.000000e+00</td>\n",
              "      <td>0.000000e+00</td>\n",
              "      <td>0.000000e+00</td>\n",
              "      <td>0.000000e+00</td>\n",
              "      <td>0.000000e+00</td>\n",
              "      <td>0.000000</td>\n",
              "    </tr>\n",
              "    <tr>\n",
              "      <th>25%</th>\n",
              "      <td>21.000000</td>\n",
              "      <td>6.000000</td>\n",
              "      <td>6.000000e+00</td>\n",
              "      <td>1.000000</td>\n",
              "      <td>1.000000</td>\n",
              "      <td>0.000000e+00</td>\n",
              "      <td>0.000000e+00</td>\n",
              "      <td>0.000000</td>\n",
              "      <td>0.000000</td>\n",
              "      <td>0.000000</td>\n",
              "      <td>...</td>\n",
              "      <td>20.000000</td>\n",
              "      <td>0.000000e+00</td>\n",
              "      <td>0.000000e+00</td>\n",
              "      <td>0.000000e+00</td>\n",
              "      <td>0.000000e+00</td>\n",
              "      <td>0.000000e+00</td>\n",
              "      <td>0.000000e+00</td>\n",
              "      <td>0.000000e+00</td>\n",
              "      <td>0.000000e+00</td>\n",
              "      <td>0.000000</td>\n",
              "    </tr>\n",
              "    <tr>\n",
              "      <th>50%</th>\n",
              "      <td>22.000000</td>\n",
              "      <td>6.000000</td>\n",
              "      <td>4.510000e+02</td>\n",
              "      <td>1.000000</td>\n",
              "      <td>1.000000</td>\n",
              "      <td>2.000000e+00</td>\n",
              "      <td>0.000000e+00</td>\n",
              "      <td>1.000000</td>\n",
              "      <td>0.000000</td>\n",
              "      <td>0.500000</td>\n",
              "      <td>...</td>\n",
              "      <td>32.000000</td>\n",
              "      <td>0.000000e+00</td>\n",
              "      <td>0.000000e+00</td>\n",
              "      <td>0.000000e+00</td>\n",
              "      <td>0.000000e+00</td>\n",
              "      <td>0.000000e+00</td>\n",
              "      <td>0.000000e+00</td>\n",
              "      <td>0.000000e+00</td>\n",
              "      <td>0.000000e+00</td>\n",
              "      <td>0.000000</td>\n",
              "    </tr>\n",
              "    <tr>\n",
              "      <th>75%</th>\n",
              "      <td>137.000000</td>\n",
              "      <td>6.000000</td>\n",
              "      <td>3.814360e+05</td>\n",
              "      <td>8.000000</td>\n",
              "      <td>7.000000</td>\n",
              "      <td>5.900000e+02</td>\n",
              "      <td>1.581000e+03</td>\n",
              "      <td>343.000000</td>\n",
              "      <td>0.000000</td>\n",
              "      <td>64.682416</td>\n",
              "      <td>...</td>\n",
              "      <td>40.000000</td>\n",
              "      <td>0.000000e+00</td>\n",
              "      <td>0.000000e+00</td>\n",
              "      <td>0.000000e+00</td>\n",
              "      <td>0.000000e+00</td>\n",
              "      <td>0.000000e+00</td>\n",
              "      <td>0.000000e+00</td>\n",
              "      <td>0.000000e+00</td>\n",
              "      <td>0.000000e+00</td>\n",
              "      <td>1.000000</td>\n",
              "    </tr>\n",
              "    <tr>\n",
              "      <th>max</th>\n",
              "      <td>65532.000000</td>\n",
              "      <td>17.000000</td>\n",
              "      <td>1.200000e+08</td>\n",
              "      <td>4909.000000</td>\n",
              "      <td>8808.000000</td>\n",
              "      <td>8.568642e+06</td>\n",
              "      <td>1.282239e+07</td>\n",
              "      <td>64440.000000</td>\n",
              "      <td>1460.000000</td>\n",
              "      <td>11217.025225</td>\n",
              "      <td>...</td>\n",
              "      <td>40.000000</td>\n",
              "      <td>1.102401e+08</td>\n",
              "      <td>5.677513e+07</td>\n",
              "      <td>1.102401e+08</td>\n",
              "      <td>1.102401e+08</td>\n",
              "      <td>1.199797e+08</td>\n",
              "      <td>6.050963e+07</td>\n",
              "      <td>1.199797e+08</td>\n",
              "      <td>1.199797e+08</td>\n",
              "      <td>1.000000</td>\n",
              "    </tr>\n",
              "  </tbody>\n",
              "</table>\n",
              "<p>8 rows × 79 columns</p>\n",
              "</div>\n",
              "      <button class=\"colab-df-convert\" onclick=\"convertToInteractive('df-7070aa38-34ea-47d1-b4b3-7234657f238b')\"\n",
              "              title=\"Convert this dataframe to an interactive table.\"\n",
              "              style=\"display:none;\">\n",
              "        \n",
              "  <svg xmlns=\"http://www.w3.org/2000/svg\" height=\"24px\"viewBox=\"0 0 24 24\"\n",
              "       width=\"24px\">\n",
              "    <path d=\"M0 0h24v24H0V0z\" fill=\"none\"/>\n",
              "    <path d=\"M18.56 5.44l.94 2.06.94-2.06 2.06-.94-2.06-.94-.94-2.06-.94 2.06-2.06.94zm-11 1L8.5 8.5l.94-2.06 2.06-.94-2.06-.94L8.5 2.5l-.94 2.06-2.06.94zm10 10l.94 2.06.94-2.06 2.06-.94-2.06-.94-.94-2.06-.94 2.06-2.06.94z\"/><path d=\"M17.41 7.96l-1.37-1.37c-.4-.4-.92-.59-1.43-.59-.52 0-1.04.2-1.43.59L10.3 9.45l-7.72 7.72c-.78.78-.78 2.05 0 2.83L4 21.41c.39.39.9.59 1.41.59.51 0 1.02-.2 1.41-.59l7.78-7.78 2.81-2.81c.8-.78.8-2.07 0-2.86zM5.41 20L4 18.59l7.72-7.72 1.47 1.35L5.41 20z\"/>\n",
              "  </svg>\n",
              "      </button>\n",
              "      \n",
              "  <style>\n",
              "    .colab-df-container {\n",
              "      display:flex;\n",
              "      flex-wrap:wrap;\n",
              "      gap: 12px;\n",
              "    }\n",
              "\n",
              "    .colab-df-convert {\n",
              "      background-color: #E8F0FE;\n",
              "      border: none;\n",
              "      border-radius: 50%;\n",
              "      cursor: pointer;\n",
              "      display: none;\n",
              "      fill: #1967D2;\n",
              "      height: 32px;\n",
              "      padding: 0 0 0 0;\n",
              "      width: 32px;\n",
              "    }\n",
              "\n",
              "    .colab-df-convert:hover {\n",
              "      background-color: #E2EBFA;\n",
              "      box-shadow: 0px 1px 2px rgba(60, 64, 67, 0.3), 0px 1px 3px 1px rgba(60, 64, 67, 0.15);\n",
              "      fill: #174EA6;\n",
              "    }\n",
              "\n",
              "    [theme=dark] .colab-df-convert {\n",
              "      background-color: #3B4455;\n",
              "      fill: #D2E3FC;\n",
              "    }\n",
              "\n",
              "    [theme=dark] .colab-df-convert:hover {\n",
              "      background-color: #434B5C;\n",
              "      box-shadow: 0px 1px 3px 1px rgba(0, 0, 0, 0.15);\n",
              "      filter: drop-shadow(0px 1px 2px rgba(0, 0, 0, 0.3));\n",
              "      fill: #FFFFFF;\n",
              "    }\n",
              "  </style>\n",
              "\n",
              "      <script>\n",
              "        const buttonEl =\n",
              "          document.querySelector('#df-7070aa38-34ea-47d1-b4b3-7234657f238b button.colab-df-convert');\n",
              "        buttonEl.style.display =\n",
              "          google.colab.kernel.accessAllowed ? 'block' : 'none';\n",
              "\n",
              "        async function convertToInteractive(key) {\n",
              "          const element = document.querySelector('#df-7070aa38-34ea-47d1-b4b3-7234657f238b');\n",
              "          const dataTable =\n",
              "            await google.colab.kernel.invokeFunction('convertToInteractive',\n",
              "                                                     [key], {});\n",
              "          if (!dataTable) return;\n",
              "\n",
              "          const docLinkHtml = 'Like what you see? Visit the ' +\n",
              "            '<a target=\"_blank\" href=https://colab.research.google.com/notebooks/data_table.ipynb>data table notebook</a>'\n",
              "            + ' to learn more about interactive tables.';\n",
              "          element.innerHTML = '';\n",
              "          dataTable['output_type'] = 'display_data';\n",
              "          await google.colab.output.renderOutput(dataTable, element);\n",
              "          const docLink = document.createElement('div');\n",
              "          docLink.innerHTML = docLinkHtml;\n",
              "          element.appendChild(docLink);\n",
              "        }\n",
              "      </script>\n",
              "    </div>\n",
              "  </div>\n",
              "  "
            ]
          },
          "metadata": {},
          "execution_count": 28
        }
      ],
      "source": [
        "train.describe()"
      ]
    },
    {
      "cell_type": "code",
      "execution_count": 29,
      "metadata": {
        "colab": {
          "base_uri": "https://localhost:8080/"
        },
        "id": "nkjIRZTpXK_T",
        "outputId": "fe627242-92e4-418e-a3e2-32fe74324173"
      },
      "outputs": [
        {
          "output_type": "stream",
          "name": "stdout",
          "text": [
            "<class 'pandas.core.frame.DataFrame'>\n",
            "Int64Index: 533320 entries, 283302 to 503594\n",
            "Data columns (total 80 columns):\n",
            " #   Column             Non-Null Count   Dtype  \n",
            "---  ------             --------------   -----  \n",
            " 0   Dst Port           533320 non-null  int64  \n",
            " 1   Protocol           533320 non-null  int64  \n",
            " 2   Timestamp          533320 non-null  object \n",
            " 3   Flow Duration      533320 non-null  int64  \n",
            " 4   Tot Fwd Pkts       533320 non-null  int64  \n",
            " 5   Tot Bwd Pkts       533320 non-null  int64  \n",
            " 6   TotLen Fwd Pkts    533320 non-null  int64  \n",
            " 7   TotLen Bwd Pkts    533320 non-null  int64  \n",
            " 8   Fwd Pkt Len Max    533320 non-null  int64  \n",
            " 9   Fwd Pkt Len Min    533320 non-null  int64  \n",
            " 10  Fwd Pkt Len Mean   533320 non-null  float64\n",
            " 11  Fwd Pkt Len Std    533320 non-null  float64\n",
            " 12  Bwd Pkt Len Max    533320 non-null  int64  \n",
            " 13  Bwd Pkt Len Min    533320 non-null  int64  \n",
            " 14  Bwd Pkt Len Mean   533320 non-null  float64\n",
            " 15  Bwd Pkt Len Std    533320 non-null  float64\n",
            " 16  Flow Byts/s        533320 non-null  float64\n",
            " 17  Flow Pkts/s        533320 non-null  float64\n",
            " 18  Flow IAT Mean      533320 non-null  float64\n",
            " 19  Flow IAT Std       533320 non-null  float64\n",
            " 20  Flow IAT Max       533320 non-null  int64  \n",
            " 21  Flow IAT Min       533320 non-null  int64  \n",
            " 22  Fwd IAT Tot        533320 non-null  int64  \n",
            " 23  Fwd IAT Mean       533320 non-null  float64\n",
            " 24  Fwd IAT Std        533320 non-null  float64\n",
            " 25  Fwd IAT Max        533320 non-null  int64  \n",
            " 26  Fwd IAT Min        533320 non-null  int64  \n",
            " 27  Bwd IAT Tot        533320 non-null  int64  \n",
            " 28  Bwd IAT Mean       533320 non-null  float64\n",
            " 29  Bwd IAT Std        533320 non-null  float64\n",
            " 30  Bwd IAT Max        533320 non-null  int64  \n",
            " 31  Bwd IAT Min        533320 non-null  int64  \n",
            " 32  Fwd PSH Flags      533320 non-null  int64  \n",
            " 33  Bwd PSH Flags      533320 non-null  int64  \n",
            " 34  Fwd URG Flags      533320 non-null  int64  \n",
            " 35  Bwd URG Flags      533320 non-null  int64  \n",
            " 36  Fwd Header Len     533320 non-null  int64  \n",
            " 37  Bwd Header Len     533320 non-null  int64  \n",
            " 38  Fwd Pkts/s         533320 non-null  float64\n",
            " 39  Bwd Pkts/s         533320 non-null  float64\n",
            " 40  Pkt Len Min        533320 non-null  int64  \n",
            " 41  Pkt Len Max        533320 non-null  int64  \n",
            " 42  Pkt Len Mean       533320 non-null  float64\n",
            " 43  Pkt Len Std        533320 non-null  float64\n",
            " 44  Pkt Len Var        533320 non-null  float64\n",
            " 45  FIN Flag Cnt       533320 non-null  int64  \n",
            " 46  SYN Flag Cnt       533320 non-null  int64  \n",
            " 47  RST Flag Cnt       533320 non-null  int64  \n",
            " 48  PSH Flag Cnt       533320 non-null  int64  \n",
            " 49  ACK Flag Cnt       533320 non-null  int64  \n",
            " 50  URG Flag Cnt       533320 non-null  int64  \n",
            " 51  CWE Flag Count     533320 non-null  int64  \n",
            " 52  ECE Flag Cnt       533320 non-null  int64  \n",
            " 53  Down/Up Ratio      533320 non-null  int64  \n",
            " 54  Pkt Size Avg       533320 non-null  float64\n",
            " 55  Fwd Seg Size Avg   533320 non-null  float64\n",
            " 56  Bwd Seg Size Avg   533320 non-null  float64\n",
            " 57  Fwd Byts/b Avg     533320 non-null  int64  \n",
            " 58  Fwd Pkts/b Avg     533320 non-null  int64  \n",
            " 59  Fwd Blk Rate Avg   533320 non-null  int64  \n",
            " 60  Bwd Byts/b Avg     533320 non-null  int64  \n",
            " 61  Bwd Pkts/b Avg     533320 non-null  int64  \n",
            " 62  Bwd Blk Rate Avg   533320 non-null  int64  \n",
            " 63  Subflow Fwd Pkts   533320 non-null  int64  \n",
            " 64  Subflow Fwd Byts   533320 non-null  int64  \n",
            " 65  Subflow Bwd Pkts   533320 non-null  int64  \n",
            " 66  Subflow Bwd Byts   533320 non-null  int64  \n",
            " 67  Init Fwd Win Byts  533320 non-null  int64  \n",
            " 68  Init Bwd Win Byts  533320 non-null  int64  \n",
            " 69  Fwd Act Data Pkts  533320 non-null  int64  \n",
            " 70  Fwd Seg Size Min   533320 non-null  int64  \n",
            " 71  Active Mean        533320 non-null  float64\n",
            " 72  Active Std         533320 non-null  float64\n",
            " 73  Active Max         533320 non-null  int64  \n",
            " 74  Active Min         533320 non-null  int64  \n",
            " 75  Idle Mean          533320 non-null  float64\n",
            " 76  Idle Std           533320 non-null  float64\n",
            " 77  Idle Max           533320 non-null  int64  \n",
            " 78  Idle Min           533320 non-null  int64  \n",
            " 79  Label              533320 non-null  int64  \n",
            "dtypes: float64(24), int64(55), object(1)\n",
            "memory usage: 329.6+ MB\n"
          ]
        }
      ],
      "source": [
        "train.info()"
      ]
    },
    {
      "cell_type": "code",
      "execution_count": 30,
      "metadata": {
        "id": "Y2rdpS_qXNHD"
      },
      "outputs": [],
      "source": [
        "train.drop(['Timestamp'], axis=1,inplace=True)\n",
        "test.drop(['Timestamp'],axis=1,inplace=True)"
      ]
    },
    {
      "cell_type": "code",
      "execution_count": 31,
      "metadata": {
        "colab": {
          "base_uri": "https://localhost:8080/"
        },
        "id": "vz4Frc_OXP1T",
        "outputId": "0521b07b-5722-4ef7-fe3b-c59540d5fe25"
      },
      "outputs": [
        {
          "output_type": "stream",
          "name": "stdout",
          "text": [
            "Full dataset:\n",
            "\n",
            "Benign: 380943\n",
            "Malicious: 380943\n",
            "---------------\n",
            "Training set:\n",
            "\n",
            "Benign: 266961\n",
            "Malicious: 266359\n",
            "---------------\n",
            "Test set:\n",
            "\n",
            "Benign: 113982\n",
            "Malicious: 114584\n"
          ]
        }
      ],
      "source": [
        "print(\"Full dataset:\\n\")\n",
        "print(\"Benign: \" + str(df_equal[\"Label\"].value_counts()[[0]].sum()))\n",
        "print(\"Malicious: \" + str(df_equal[\"Label\"].value_counts()[[1]].sum()))\n",
        "print(\"---------------\")\n",
        "\n",
        "print(\"Training set:\\n\")\n",
        "print(\"Benign: \" + str(train[\"Label\"].value_counts()[[0]].sum()))\n",
        "print(\"Malicious: \" + str(train[\"Label\"].value_counts()[[1]].sum()))\n",
        "print(\"---------------\")\n",
        "\n",
        "print(\"Test set:\\n\")\n",
        "print(\"Benign: \" + str(test[\"Label\"].value_counts()[[0]].sum()))\n",
        "print(\"Malicious: \" + str(test[\"Label\"].value_counts()[[1]].sum()))"
      ]
    },
    {
      "cell_type": "code",
      "execution_count": 32,
      "metadata": {
        "colab": {
          "base_uri": "https://localhost:8080/"
        },
        "id": "eJ5bDhCCXR9i",
        "outputId": "95cbe449-fe4a-4ce7-a895-2f90ef3abc0c"
      },
      "outputs": [
        {
          "output_type": "stream",
          "name": "stdout",
          "text": [
            "<class 'numpy.ndarray'>\n",
            "<class 'numpy.ndarray'>\n",
            "(533320, 78)\n",
            "(533320,)\n"
          ]
        }
      ],
      "source": [
        "y_train = np.array(train.pop(\"Label\"))# pop removes \"Label\" from the dataframe\n",
        "#y_train = np.array(train.pop(\"Timestamp\"))\n",
        "X_train = train.values\n",
        "\n",
        "print(type(X_train))\n",
        "print(type(y_train))\n",
        "print(X_train.shape)\n",
        "print(y_train.shape)"
      ]
    },
    {
      "cell_type": "code",
      "execution_count": 33,
      "metadata": {
        "colab": {
          "base_uri": "https://localhost:8080/"
        },
        "id": "H6FrOvKCXUA3",
        "outputId": "11280342-9fab-452f-a5e4-3d4110e16664"
      },
      "outputs": [
        {
          "output_type": "stream",
          "name": "stdout",
          "text": [
            "<class 'numpy.ndarray'>\n",
            "<class 'numpy.ndarray'>\n",
            "(228566, 78)\n",
            "(228566,)\n"
          ]
        }
      ],
      "source": [
        "y_test = np.array(test.pop(\"Label\")) # pop removes \"Label\" from the dataframe\n",
        "#y_test = np.array(test.pop(\"Timestamp\"))\n",
        "X_test = test.values\n",
        "\n",
        "print(type(X_test))\n",
        "print(type(y_test))\n",
        "print(X_test.shape)\n",
        "print(y_test.shape)"
      ]
    },
    {
      "cell_type": "code",
      "execution_count": 34,
      "metadata": {
        "colab": {
          "base_uri": "https://localhost:8080/"
        },
        "id": "Lq2wxwb0QYS2",
        "outputId": "211cb79c-d656-4ab4-e0b3-b02d6bbac0bc"
      },
      "outputs": [
        {
          "output_type": "stream",
          "name": "stdout",
          "text": [
            "Current Time in India: 12:55:32.763697\n"
          ]
        }
      ],
      "source": [
        "import pytz\n",
        "from datetime import datetime\n",
        "\n",
        "# Set the timezone to India\n",
        "tz = pytz.timezone('Asia/Kolkata')\n",
        "\n",
        "# Get the current time in India\n",
        "current_time = datetime.now(tz)\n",
        "\n",
        "# Print the current time in India\n",
        "print(\"Current Time in India:\", current_time.time())"
      ]
    },
    {
      "cell_type": "code",
      "execution_count": 35,
      "metadata": {
        "id": "PGQsnUfK_nm3"
      },
      "outputs": [],
      "source": [
        "# from keras.layers import Input, Dense, Conv1D, MaxPooling1D, GlobalAveragePooling1D, Concatenate, Dropout, BatchNormalization, Activation, Add, LSTM\n",
        "# from keras.models import Model\n",
        "# from keras.regularizers import l2\n",
        "# from keras.utils import to_categorical\n",
        "# from sklearn.metrics import confusion_matrix, precision_score, recall_score, f1_score, accuracy_score\n",
        "# # define model hyperparameters\n",
        "# input_shape = (78, 1)\n",
        "# num_classes = 2\n",
        "# growth_rate = 12\n",
        "# num_layers = 4\n",
        "# dropout_rate = 0.3\n",
        "# num_filters = 16\n",
        "# l2_weight = 0.01\n",
        "\n",
        "# # define input tensor\n",
        "# inputs = Input(shape=input_shape)\n",
        "\n",
        "# # create initial convolutional layer\n",
        "# x = Conv1D(num_filters, kernel_size=3, padding='same', activation='relu')(inputs)\n",
        "\n",
        "# # create dense blocks\n",
        "# for i in range(num_layers):\n",
        "#     # create a dense block\n",
        "#     x_concat = x\n",
        "#     for j in range(growth_rate):\n",
        "#         # add batch normalization, dropout, and a ReLU activation to each layer\n",
        "#         x = BatchNormalization()(x)\n",
        "#         x = Activation('relu')(x)\n",
        "#         x = Conv1D(growth_rate, kernel_size=1, padding='same', activation='relu', kernel_regularizer=l2(l2_weight))(x)\n",
        "#         x = Dropout(dropout_rate)(x)\n",
        "#         # concatenate each layer's output to the input tensor\n",
        "#         x_concat = Concatenate()([x_concat, x])\n",
        "#     # pass the dense block's output to a transition layer\n",
        "#     x = BatchNormalization()(x_concat)\n",
        "#     x = Conv1D(num_filters, kernel_size=1, padding='same', activation='relu', kernel_regularizer=l2(l2_weight))(x)\n",
        "#     x = MaxPooling1D(pool_size=2)(x)\n",
        "\n",
        "# # create residual blocks\n",
        "# for i in range(num_layers):\n",
        "#     # create a residual block\n",
        "#     x_concat = x\n",
        "#     x = BatchNormalization()(x)\n",
        "#     x = Activation('relu')(x)\n",
        "#     x = Conv1D(num_filters, kernel_size=3, padding='same', activation='relu', kernel_regularizer=l2(l2_weight))(x)\n",
        "#     x = Dropout(dropout_rate)(x)\n",
        "#     x = BatchNormalization()(x)\n",
        "#     x = Activation('relu')(x)\n",
        "#     x = Conv1D(num_filters, kernel_size=3, padding='same', activation='relu', kernel_regularizer=l2(l2_weight))(x)\n",
        "#     # add the input tensor to the residual block's output\n",
        "#     x = Add()([x_concat, x])\n",
        "\n",
        "# # pass the output of the residual blocks to the LSTM layer\n",
        "# x = LSTM(64, return_sequences=False, kernel_regularizer=l2(l2_weight))(x)\n",
        "\n",
        "# # create output layer\n",
        "# outputs = Dense(num_classes, activation='softmax', kernel_regularizer=l2(l2_weight))(x)\n",
        "\n",
        "# # create model with inputs and outputs\n",
        "# model = Model(inputs=inputs, outputs=outputs)\n",
        "\n",
        "# # compile the model\n",
        "# model.compile(loss='categorical_crossentropy', optimizer='adam', metrics=['accuracy'])\n",
        "\n",
        "\n",
        "# # reshape the input data for the model\n",
        "# X_train = X_train.reshape((X_train.shape[0], X_train.shape[1], 1)).astype('float32')\n",
        "# X_test = X_test.reshape((X_test.shape[0], X_test.shape[1], 1)).astype('float32')\n",
        "\n",
        "# # one-hot encode the target variable\n",
        "# y_train = to_categorical(y_train, num_classes=num_classes)\n",
        "# y_test = to_categorical(y_test, num_classes=num_classes)\n",
        "\n",
        "# # split the training data into a training set and a validation set\n",
        "# validation_split = 0.2\n",
        "# num_validation_samples = int(validation_split * len(X_train))\n",
        "# X_val = X_train[:num_validation_samples]\n",
        "# y_val = y_train[:num_validation_samples]\n",
        "# X_train_partial = X_train[num_validation_samples:]\n",
        "# y_train_partial = y_train[num_validation_samples:]\n",
        "# # train the model with validation on training data\n",
        "# model.fit(X_train_partial, y_train_partial, epochs=1, verbose=1, validation_data=(X_val, y_val))\n",
        "\n",
        "# # evaluate the final performance of the model on the testing data\n",
        "# y_pred = model.predict(X_test)\n",
        "# y_pred = np.argmax(y_pred, axis=1)\n",
        "# y_test = np.argmax(y_test, axis=1)\n",
        "\n",
        "# # calculate confusion matrix\n",
        "# conf_matrix = confusion_matrix(y_test, y_pred)\n",
        "# print('Confusion Matrix:\\n', conf_matrix)\n",
        "\n",
        "# # calculate precision, recall, and F1-score\n",
        "# precision = precision_score(y_test, y_pred)\n",
        "# recall = recall_score(y_test, y_pred)\n",
        "# f1score = f1_score(y_test, y_pred)\n",
        "# print('Precision:', precision)\n",
        "# print('Recall:', recall)\n",
        "# print('F1-Score:', f1score)\n",
        "\n",
        "# # calculate overall accuracy\n",
        "# accuracy = accuracy_score(y_test, y_pred)\n",
        "# print('Accuracy:', accuracy)"
      ]
    },
    {
      "cell_type": "code",
      "execution_count": 36,
      "metadata": {
        "colab": {
          "base_uri": "https://localhost:8080/"
        },
        "id": "xcSSSadgtmVa",
        "outputId": "d2a2310e-bd48-45ab-bacc-95d4df192a70"
      },
      "outputs": [
        {
          "output_type": "stream",
          "name": "stdout",
          "text": [
            "Looking in indexes: https://pypi.org/simple, https://us-python.pkg.dev/colab-wheels/public/simple/\n",
            "Requirement already satisfied: keras in /usr/local/lib/python3.9/dist-packages (2.12.0)\n"
          ]
        }
      ],
      "source": [
        "pip install keras --upgrade\n"
      ]
    },
    {
      "cell_type": "code",
      "execution_count": 37,
      "metadata": {
        "id": "gHl6_U-ytrfC"
      },
      "outputs": [],
      "source": [
        "from tensorflow.keras.preprocessing.sequence import pad_sequences\n"
      ]
    },
    {
      "cell_type": "code",
      "execution_count": null,
      "metadata": {
        "colab": {
          "base_uri": "https://localhost:8080/"
        },
        "id": "WEDh8yOOnYAt",
        "outputId": "19c6a74a-05b1-4c14-92ed-8fc889541921"
      },
      "outputs": [
        {
          "output_type": "stream",
          "name": "stdout",
          "text": [
            "Epoch 1/8\n",
            "13333/13333 [==============================] - 1115s 81ms/step - loss: 3.5155 - accuracy: 0.8658 - val_loss: 1.9558 - val_accuracy: 0.6566\n",
            "Epoch 2/8\n",
            "13333/13333 [==============================] - 1073s 80ms/step - loss: 0.1820 - accuracy: 0.9955 - val_loss: 0.0414 - val_accuracy: 0.9896\n",
            "Epoch 3/8\n",
            "13333/13333 [==============================] - 1114s 84ms/step - loss: 0.0236 - accuracy: 0.9966 - val_loss: 0.0165 - val_accuracy: 0.9980\n",
            "Epoch 4/8\n",
            "13333/13333 [==============================] - 1076s 81ms/step - loss: 0.0181 - accuracy: 0.9972 - val_loss: 0.0202 - val_accuracy: 0.9954\n",
            "Epoch 5/8\n",
            "13333/13333 [==============================] - 1124s 84ms/step - loss: 0.0277 - accuracy: 0.9945 - val_loss: 0.0930 - val_accuracy: 0.9698\n",
            "Epoch 6/8\n",
            "13333/13333 [==============================] - 1121s 84ms/step - loss: 0.0209 - accuracy: 0.9964 - val_loss: 4.8285 - val_accuracy: 0.5022\n",
            "Epoch 7/8\n",
            "13333/13333 [==============================] - 1119s 84ms/step - loss: 0.0186 - accuracy: 0.9969 - val_loss: 2.2122 - val_accuracy: 0.7114\n",
            "Epoch 8/8\n",
            "13333/13333 [==============================] - 1126s 84ms/step - loss: 0.0214 - accuracy: 0.9960 - val_loss: 0.1107 - val_accuracy: 0.9964\n",
            "Fold 1 validation accuracy: 0.9964\n",
            "Epoch 1/8\n",
            "  190/13333 [..............................] - ETA: 23:21 - loss: 0.0281 - accuracy: 0.9952"
          ]
        }
      ],
      "source": [
        "# with 5-fold validation\n",
        "from tensorflow.keras.regularizers import l2\n",
        "from tensorflow.keras.layers import Input, Dense, Conv1D, MaxPooling1D, GlobalAveragePooling1D, Concatenate, Dropout, BatchNormalization, Activation, Add, LSTM\n",
        "from tensorflow.keras.models import Model\n",
        "from tensorflow.keras.utils import to_categorical\n",
        "import numpy as np\n",
        "from sklearn.model_selection import KFold\n",
        "\n",
        "# define model hyperparameters\n",
        "input_shape = (78, 1)\n",
        "num_classes = 2\n",
        "growth_rate = 12\n",
        "num_layers = 4\n",
        "dropout_rate = 0.3\n",
        "num_filters = 16\n",
        "l2_reg = 0.01 # L2 regularization hyperparameter\n",
        "\n",
        "# define input tensor\n",
        "inputs = Input(shape=input_shape)\n",
        "\n",
        "# create initial convolutional layer\n",
        "x = Conv1D(num_filters, kernel_size=3, padding='same', activation='relu', kernel_regularizer=l2(l2_reg))(inputs)\n",
        "\n",
        "# create residual blocks\n",
        "for i in range(num_layers):\n",
        "    # create a residual block\n",
        "    x_concat = x\n",
        "    x = BatchNormalization()(x)\n",
        "    x = Activation('relu')(x)\n",
        "    x = Conv1D(num_filters, kernel_size=3, padding='same', activation='relu', kernel_regularizer=l2(l2_reg))(x)\n",
        "    x = Dropout(dropout_rate)(x)\n",
        "    x = BatchNormalization()(x)\n",
        "    x = Activation('relu')(x)\n",
        "    x = Conv1D(num_filters, kernel_size=3, padding='same', activation='relu', kernel_regularizer=l2(l2_reg))(x)\n",
        "    # add the input tensor to the residual block's output\n",
        "    x = Add()([x_concat, x])\n",
        "\n",
        "# create dense blocks\n",
        "for i in range(num_layers):\n",
        "    # create a dense block\n",
        "    x_concat = x\n",
        "    for j in range(growth_rate):\n",
        "        # add batch normalization, dropout, and a ReLU activation to each layer\n",
        "        x = BatchNormalization()(x)\n",
        "        x = Activation('relu')(x)\n",
        "        x = Conv1D(growth_rate, kernel_size=1, padding='same', activation='relu', kernel_regularizer=l2(l2_reg))(x)\n",
        "        x = Dropout(dropout_rate)(x)\n",
        "        # concatenate each layer's output to the input tensor\n",
        "        x_concat = Concatenate()([x_concat, x])\n",
        "    # pass the dense block's output to a transition layer\n",
        "    x = BatchNormalization()(x_concat)\n",
        "    x = Conv1D(num_filters, kernel_size=1, padding='same', activation='relu', kernel_regularizer=l2(l2_reg))(x)\n",
        "    x = MaxPooling1D(pool_size=2)(x)\n",
        "\n",
        "# pass the output of the residual blocks to the LSTM layer\n",
        "x = LSTM(64, return_sequences=False)(x)\n",
        "\n",
        "# create output layer\n",
        "outputs = Dense(num_classes, activation='softmax')(x)\n",
        "\n",
        "# create model with inputs and outputs\n",
        "model = Model(inputs=inputs, outputs=outputs)\n",
        "\n",
        "# compile the model\n",
        "model.compile(loss='categorical_crossentropy', optimizer='adam', metrics=['accuracy'])\n",
        "\n",
        "# define the input data X with some example data\n",
        "X = np.random.rand(100, 78)  # assuming the input shape is (100, 78)\n",
        "\n",
        "# reshape the input data for the model\n",
        "X = X.reshape((X.shape[0], X.shape[1], 1)).astype('float32')\n",
        "\n",
        "# define the target variable y with some example data\n",
        "y = np.random.randint(num_classes, size=100)  # assuming the number of classes is 2 and there are 100 samples\n",
        "\n",
        "# one-hot encode the target variable\n",
        "y = to_categorical(y, num_classes=num_classes)\n",
        "\n",
        "# define the number of folds\n",
        "num_folds = 5\n",
        "\n",
        "# define the K-fold cross-validator\n",
        "kfold = KFold(n_splits=num_folds, shuffle=True)\n",
        "\n",
        "# initialize an empty list to store the validation accuracy for each fold\n",
        "val_acc_scores = []\n",
        "val_loss_scores = []\n",
        "\n",
        "# loop over the folds\n",
        "fold_no = 1\n",
        "for train_index, val_index in kfold.split(X_train, y_train):\n",
        "    \n",
        "    # get the training and validation data for this fold\n",
        "    X_train_fold, X_val_fold = X_train[train_index], X_train[val_index]\n",
        "    y_train_fold, y_val_fold = y_train[train_index], y_train[val_index]\n",
        "    \n",
        "    # create model with inputs and outputs\n",
        "    model = Model(inputs=inputs, outputs=outputs)\n",
        "\n",
        "    # compile the model\n",
        "    model.compile(loss='categorical_crossentropy', optimizer='adam', metrics=['accuracy'])\n",
        "\n",
        "    # reshape the input data for the model\n",
        "    X_train_fold = X_train_fold.reshape((X_train_fold.shape[0], X_train_fold.shape[1], 1)).astype('float32')\n",
        "    X_val_fold = X_val_fold.reshape((X_val_fold.shape[0], X_val_fold.shape[1], 1)).astype('float32')\n",
        "\n",
        "    # one-hot encode the target variable\n",
        "    y_train_fold = to_categorical(y_train_fold, num_classes=num_classes)\n",
        "    y_val_fold = to_categorical(y_val_fold, num_classes=num_classes)\n",
        "\n",
        "    # train the model with validation on training data\n",
        "    history = model.fit(X_train_fold, y_train_fold, epochs=8, verbose=1, validation_data=(X_val_fold, y_val_fold))\n",
        "\n",
        "    # # evaluate the model on the validation data and store the accuracy score\n",
        "    # val_acc = model.evaluate(X_val_fold, y_val_fold, verbose=0)[1]\n",
        "    # val_acc_scores.append(val_acc)\n",
        "    # evaluate the model on the validation data and store the accuracy score\n",
        "    val_loss, val_acc = model.evaluate(X_val_fold, y_val_fold, verbose=0)\n",
        "    val_acc_scores.append(val_acc)\n",
        "    val_loss_scores.append(val_loss)\n",
        "        \n",
        "    # print the validation accuracy score for this fold\n",
        "    print('Fold %d validation accuracy: %.4f' % (fold_no, val_acc))\n",
        "    \n",
        "    # increment the fold counter\n",
        "    fold_no += 1\n",
        "    \n",
        "#print the mean validation accuracy and loss score, and standard deviation across all folds\n",
        "print('Mean validation accuracy: %.4f (+/- %.4f)' % (np.mean(val_acc_scores), np.std(val_acc_scores)))\n",
        "print('Mean validation loss: %.4f (+/- %.4f)' % (np.mean(val_loss_scores), np.std(val_loss_scores)))"
      ]
    },
    {
      "cell_type": "code",
      "execution_count": null,
      "metadata": {
        "id": "uRNaQzYa2P2U"
      },
      "outputs": [],
      "source": [
        "# import numpy as np\n",
        "# from sklearn.metrics import classification_report, confusion_matrix\n",
        "\n",
        "# # train the model with validation on training data\n",
        "# history = model.fit(X_train_partial, y_train_partial, epochs=8, verbose=1, validation_data=(X_val, y_val))\n",
        "\n",
        "# # predict the test data\n",
        "# y_pred = model.predict(X_test_combined)\n",
        "\n",
        "# # convert the predictions and true labels back from one-hot encoding\n",
        "# y_pred = np.argmax(y_pred, axis=1)\n",
        "# y_test = np.argmax(y_test, axis=1)\n",
        "\n",
        "# # calculate the metrics\n",
        "# print(\"Confusion Matrix:\")\n",
        "# print(confusion_matrix(y_test, y_pred))\n",
        "\n",
        "# print(\"\\nClassification Report:\")\n",
        "# print(classification_report(y_test, y_pred))\n"
      ]
    },
    {
      "cell_type": "code",
      "execution_count": null,
      "metadata": {
        "id": "qkmoxjKv3SkL"
      },
      "outputs": [],
      "source": [
        "\n",
        "from datetime import datetime\n",
        "\n",
        "# Set the timezone to India\n",
        "tz = pytz.timezone('Asia/Kolkata')\n",
        "\n",
        "# Get the current time in India\n",
        "current_time = datetime.now(tz)\n",
        "\n",
        "# Print the current time in India\n",
        "print(\"Current Time in India:\", current_time.time())\n"
      ]
    },
    {
      "cell_type": "code",
      "execution_count": null,
      "metadata": {
        "id": "RWNQ3O5PwBm0"
      },
      "outputs": [],
      "source": [
        "model.summary()"
      ]
    },
    {
      "cell_type": "code",
      "execution_count": null,
      "metadata": {
        "id": "mROEIsDerGb4"
      },
      "outputs": [],
      "source": [
        "# import numpy as np\n",
        "# from sklearn.metrics import confusion_matrix, f1_score, fbeta_score\n",
        "\n",
        "# # make predictions on the test data\n",
        "# y_pred = model.predict(X_test_combined)\n",
        "\n",
        "# # convert the predicted probabilities to class labels\n",
        "# y_pred = np.argmax(y_pred, axis=1)\n",
        "\n",
        "# # convert the true labels to class labels\n",
        "# y_true = np.argmax(y_test, axis=1)\n",
        "\n",
        "# # calculate the confusion matrix\n",
        "# cm = confusion_matrix(y_true, y_pred)\n",
        "\n",
        "# # calculate the f1-score and f2-score\n",
        "# f1 = f1_score(y_true, y_pred)\n",
        "# f2 = fbeta_score(y_true, y_pred, beta=2)\n",
        "\n",
        "# # print the confusion matrix, f1-score, and f2-score\n",
        "# print(\"Confusion Matrix:\\n\", cm)\n",
        "# print(\"F1-Score: {:.3f}\".format(f1))\n",
        "# print(\"F2-Score: {:.3f}\".format(f2))\n"
      ]
    }
  ],
  "metadata": {
    "colab": {
      "provenance": []
    },
    "kernelspec": {
      "display_name": "Python 3",
      "name": "python3"
    },
    "language_info": {
      "name": "python"
    }
  },
  "nbformat": 4,
  "nbformat_minor": 0
}